{
 "cells": [
  {
   "cell_type": "code",
   "execution_count": 47,
   "source": [
    "import itertools\n",
    "from os import path\n",
    "import pandas as pd\n",
    "import re"
   ],
   "outputs": [],
   "metadata": {}
  },
  {
   "cell_type": "code",
   "execution_count": 48,
   "source": [
    "iterations = []\n",
    "for i in range(0, 7):\n",
    "    df = pd.read_csv(path.join(\"query_results\", \"{}_iterations.csv\".format(i)))\n",
    "    previous = set(itertools.chain(*iterations))\n",
    "    values = set(df[\"word\"].values.tolist()).difference(previous)\n",
    "    values = list(filter(lambda x: re.match(r\"^[A-ZäÖÜ][a-zäöüß\\-]+$\", x), values))\n",
    "    iterations.append(values)\n",
    "\n",
    "print(list(map(len, iterations)))\n",
    "words = sorted(list(itertools.chain(*iterations)))\n"
   ],
   "outputs": [
    {
     "output_type": "stream",
     "name": "stdout",
     "text": [
      "[1776, 1862, 577, 90, 0, 0, 0]\n"
     ]
    }
   ],
   "metadata": {}
  },
  {
   "cell_type": "code",
   "execution_count": 49,
   "source": [
    "open(\"openthesaurus_persons.csv\", \"w\").write(\"\\n\".join(words))"
   ],
   "outputs": [
    {
     "output_type": "execute_result",
     "data": {
      "text/plain": [
       "48635"
      ]
     },
     "metadata": {},
     "execution_count": 49
    }
   ],
   "metadata": {}
  }
 ],
 "metadata": {
  "orig_nbformat": 4,
  "language_info": {
   "name": "python",
   "version": "3.9.7",
   "mimetype": "text/x-python",
   "codemirror_mode": {
    "name": "ipython",
    "version": 3
   },
   "pygments_lexer": "ipython3",
   "nbconvert_exporter": "python",
   "file_extension": ".py"
  },
  "kernelspec": {
   "name": "python3",
   "display_name": "Python 3.9.7 64-bit ('diversity-1gIIt_8f-py3.9': poetry)"
  },
  "interpreter": {
   "hash": "cd4fe399c72e787a9720dce887caf1dc09a63b486e10200170cacef8df86bf0f"
  }
 },
 "nbformat": 4,
 "nbformat_minor": 2
}