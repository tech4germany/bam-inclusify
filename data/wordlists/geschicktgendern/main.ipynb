{
 "cells": [
  {
   "cell_type": "code",
   "execution_count": 35,
   "source": [
    "import cache_magic\n",
    "import pandas as pd\n",
    "import re\n",
    "import requests\n",
    "import sys\n",
    "from typing import *\n",
    "\n",
    "sys.path.insert(0, \"../..\")\n",
    "from shared import add_to_dict, csvs_to_dict, dict_to_csvs, log"
   ],
   "outputs": [],
   "metadata": {}
  },
  {
   "cell_type": "code",
   "execution_count": 36,
   "source": [
    "%cache excel = requests.get(\"https://geschicktgendern.de/download/1642/\").content"
   ],
   "outputs": [
    {
     "output_type": "stream",
     "name": "stdout",
     "text": [
      "loading cached value for variable 'excel'. Time since pickling  3:27:44.307409\n"
     ]
    }
   ],
   "metadata": {}
  },
  {
   "cell_type": "code",
   "execution_count": 37,
   "source": [
    "open(\"geschicktgendern_raw.xlsx\", \"wb\").write(excel)"
   ],
   "outputs": [
    {
     "output_type": "execute_result",
     "data": {
      "text/plain": [
       "110002"
      ]
     },
     "metadata": {},
     "execution_count": 37
    }
   ],
   "metadata": {}
  },
  {
   "cell_type": "code",
   "execution_count": 38,
   "source": [
    "df = pd.read_excel(\n",
    "    excel, header=None, names=[\"ungendered\", \"gendered\"], skiprows=3, usecols=[1, 2]\n",
    ")\n",
    "df.sort_values(by=\"ungendered\")\n",
    "df.head()"
   ],
   "outputs": [
    {
     "output_type": "execute_result",
     "data": {
      "text/html": [
       "<div>\n",
       "<style scoped>\n",
       "    .dataframe tbody tr th:only-of-type {\n",
       "        vertical-align: middle;\n",
       "    }\n",
       "\n",
       "    .dataframe tbody tr th {\n",
       "        vertical-align: top;\n",
       "    }\n",
       "\n",
       "    .dataframe thead th {\n",
       "        text-align: right;\n",
       "    }\n",
       "</style>\n",
       "<table border=\"1\" class=\"dataframe\">\n",
       "  <thead>\n",
       "    <tr style=\"text-align: right;\">\n",
       "      <th></th>\n",
       "      <th>ungendered</th>\n",
       "      <th>gendered</th>\n",
       "    </tr>\n",
       "  </thead>\n",
       "  <tbody>\n",
       "    <tr>\n",
       "      <th>0</th>\n",
       "      <td>&lt;div id=\"A\"&gt;&lt;b&gt;A&lt;/b&gt;&lt;div&gt;</td>\n",
       "      <td>NaN</td>\n",
       "    </tr>\n",
       "    <tr>\n",
       "      <th>1</th>\n",
       "      <td>Abbrecherquote</td>\n",
       "      <td>Abbruchquote</td>\n",
       "    </tr>\n",
       "    <tr>\n",
       "      <th>2</th>\n",
       "      <td>Abenteurer (sg.)</td>\n",
       "      <td>Waghals; abenteuerliebende Person; abenteuerlu...</td>\n",
       "    </tr>\n",
       "    <tr>\n",
       "      <th>3</th>\n",
       "      <td>Abgänger</td>\n",
       "      <td>absolvierende Person; Abschluss innehabende Pe...</td>\n",
       "    </tr>\n",
       "    <tr>\n",
       "      <th>4</th>\n",
       "      <td>Abiturient</td>\n",
       "      <td>Abitur ablegende Person; Person, die Abitur macht</td>\n",
       "    </tr>\n",
       "  </tbody>\n",
       "</table>\n",
       "</div>"
      ],
      "text/plain": [
       "                  ungendered  \\\n",
       "0  <div id=\"A\"><b>A</b><div>   \n",
       "1             Abbrecherquote   \n",
       "2           Abenteurer (sg.)   \n",
       "3                   Abgänger   \n",
       "4                 Abiturient   \n",
       "\n",
       "                                            gendered  \n",
       "0                                                NaN  \n",
       "1                                       Abbruchquote  \n",
       "2  Waghals; abenteuerliebende Person; abenteuerlu...  \n",
       "3  absolvierende Person; Abschluss innehabende Pe...  \n",
       "4  Abitur ablegende Person; Person, die Abitur macht  "
      ]
     },
     "metadata": {},
     "execution_count": 38
    }
   ],
   "metadata": {}
  },
  {
   "cell_type": "code",
   "execution_count": 39,
   "source": [
    "df.to_csv(\"geschicktgendern_raw.csv\", index=False)\n",
    "dflen = len(df)"
   ],
   "outputs": [],
   "metadata": {}
  },
  {
   "cell_type": "markdown",
   "source": [
    "We drop rows like the first one, where there is merely some HTML description but no value."
   ],
   "metadata": {}
  },
  {
   "cell_type": "code",
   "execution_count": 40,
   "source": [
    "df = df[df[\"gendered\"].notna()]\n",
    "df.head()"
   ],
   "outputs": [
    {
     "output_type": "execute_result",
     "data": {
      "text/html": [
       "<div>\n",
       "<style scoped>\n",
       "    .dataframe tbody tr th:only-of-type {\n",
       "        vertical-align: middle;\n",
       "    }\n",
       "\n",
       "    .dataframe tbody tr th {\n",
       "        vertical-align: top;\n",
       "    }\n",
       "\n",
       "    .dataframe thead th {\n",
       "        text-align: right;\n",
       "    }\n",
       "</style>\n",
       "<table border=\"1\" class=\"dataframe\">\n",
       "  <thead>\n",
       "    <tr style=\"text-align: right;\">\n",
       "      <th></th>\n",
       "      <th>ungendered</th>\n",
       "      <th>gendered</th>\n",
       "    </tr>\n",
       "  </thead>\n",
       "  <tbody>\n",
       "    <tr>\n",
       "      <th>1</th>\n",
       "      <td>Abbrecherquote</td>\n",
       "      <td>Abbruchquote</td>\n",
       "    </tr>\n",
       "    <tr>\n",
       "      <th>2</th>\n",
       "      <td>Abenteurer (sg.)</td>\n",
       "      <td>Waghals; abenteuerliebende Person; abenteuerlu...</td>\n",
       "    </tr>\n",
       "    <tr>\n",
       "      <th>3</th>\n",
       "      <td>Abgänger</td>\n",
       "      <td>absolvierende Person; Abschluss innehabende Pe...</td>\n",
       "    </tr>\n",
       "    <tr>\n",
       "      <th>4</th>\n",
       "      <td>Abiturient</td>\n",
       "      <td>Abitur ablegende Person; Person, die Abitur macht</td>\n",
       "    </tr>\n",
       "    <tr>\n",
       "      <th>5</th>\n",
       "      <td>Abkömmling</td>\n",
       "      <td>abstammende Person; nachkommende Person; Kind;...</td>\n",
       "    </tr>\n",
       "  </tbody>\n",
       "</table>\n",
       "</div>"
      ],
      "text/plain": [
       "         ungendered                                           gendered\n",
       "1    Abbrecherquote                                       Abbruchquote\n",
       "2  Abenteurer (sg.)  Waghals; abenteuerliebende Person; abenteuerlu...\n",
       "3          Abgänger  absolvierende Person; Abschluss innehabende Pe...\n",
       "4        Abiturient  Abitur ablegende Person; Person, die Abitur macht\n",
       "5        Abkömmling  abstammende Person; nachkommende Person; Kind;..."
      ]
     },
     "metadata": {},
     "execution_count": 40
    }
   ],
   "metadata": {}
  },
  {
   "cell_type": "markdown",
   "source": [
    "Let's look at a more complicated row:"
   ],
   "metadata": {}
  },
  {
   "cell_type": "code",
   "execution_count": 41,
   "source": [
    "df.loc[13]"
   ],
   "outputs": [
    {
     "output_type": "execute_result",
     "data": {
      "text/plain": [
       "ungendered            Absolventenvorsprechen [Schauspielschule]\n",
       "gendered      <a href=\"https://geschicktgendern.de/kontakt\">...\n",
       "Name: 13, dtype: object"
      ]
     },
     "metadata": {},
     "execution_count": 41
    }
   ],
   "metadata": {}
  },
  {
   "cell_type": "markdown",
   "source": [
    "We want to get rid of such rows that contain any kind of special annotation, such as HTML or square brackets."
   ],
   "metadata": {}
  },
  {
   "cell_type": "code",
   "execution_count": 42,
   "source": [
    "def is_simple_ungendered(a: str) -> bool:\n",
    "    return (\n",
    "        re.match(r\"^[A-ZÄÖÜa-zäöüß .\\-]+(\\(.*(sg|pl)\\.\\))? *$\", a) != None\n",
    "        and not \"...\" in a\n",
    "    )"
   ],
   "outputs": [],
   "metadata": {}
  },
  {
   "cell_type": "code",
   "execution_count": 43,
   "source": [
    "def is_simple_gendered(a: str) -> bool:\n",
    "    return re.match(r\"^[A-ZÄÖÜa-zäöüß .,/()\\-]+$\", a) != None"
   ],
   "outputs": [],
   "metadata": {}
  },
  {
   "cell_type": "markdown",
   "source": [
    "Some rules relate only to singular or plural words. We want to assign each rule to singular plural or both:"
   ],
   "metadata": {}
  },
  {
   "cell_type": "code",
   "execution_count": 44,
   "source": [
    "def number(key: str) -> List[str]:\n",
    "    number = re.search(\"\\(.*(sg|pl)\\.\\)\", key)\n",
    "    genders = []\n",
    "    if number:\n",
    "        if number[1] == \"sg\":\n",
    "            genders += [\"sg\"]\n",
    "        if number[1] == \"pl\":\n",
    "            genders += [\"pl\"]\n",
    "    else:\n",
    "        genders += [\"sg\", \"pl\"]\n",
    "    return genders"
   ],
   "outputs": [],
   "metadata": {}
  },
  {
   "cell_type": "markdown",
   "source": [
    "Moreover, for each suggestion entry we want to extract all the suggestions that are not too complicated:"
   ],
   "metadata": {}
  },
  {
   "cell_type": "code",
   "execution_count": 45,
   "source": [
    "def get_suggestions(entry: str) -> List[str]:\n",
    "    return [x for x in entry.split(\"; \") if is_simple_gendered(x)]"
   ],
   "outputs": [],
   "metadata": {}
  },
  {
   "cell_type": "markdown",
   "source": [
    "We want to remove the annotations like `(pl.)` from the ungendered words:"
   ],
   "metadata": {}
  },
  {
   "cell_type": "code",
   "execution_count": 46,
   "source": [
    "def clean(a: str) -> str:\n",
    "    return re.sub(\" ?\\(.*\\)\", \"\", a)\n",
    "\n",
    "\n",
    "assert clean(\"Baum (sg.)\") == \"Baum\""
   ],
   "outputs": [],
   "metadata": {}
  },
  {
   "cell_type": "code",
   "execution_count": 47,
   "source": [
    "records = df.to_records()\n",
    "\n",
    "dic: Dict[str, Dict[str, str]] = {\"sg\": {}, \"pl\": {}}\n",
    "i = 0\n",
    "for (_, ungendered, gendered) in records:\n",
    "    suggestions = get_suggestions(gendered)\n",
    "    if is_simple_ungendered(ungendered) and len(suggestions) > 0:\n",
    "        for n in number(ungendered):\n",
    "            add_to_dict(clean(ungendered), suggestions, dic[n])\n",
    "        i += 1"
   ],
   "outputs": [],
   "metadata": {}
  },
  {
   "cell_type": "code",
   "execution_count": 48,
   "source": [
    "print(\"#rules raw:\", dflen)\n",
    "print(\"#rules after dropping NAs:\", len(df))\n",
    "print(\"#rules after filtering too complicated:\", i)"
   ],
   "outputs": [
    {
     "output_type": "stream",
     "name": "stdout",
     "text": [
      "#rules raw: 1819\n",
      "#rules after dropping NAs: 1792\n",
      "#rules after filtering too complicated: 1483\n"
     ]
    }
   ],
   "metadata": {}
  },
  {
   "cell_type": "markdown",
   "source": [
    "We save this as CSV:"
   ],
   "metadata": {}
  },
  {
   "cell_type": "code",
   "execution_count": 49,
   "source": [
    "dict_to_csvs(dic, \"geschicktgendern\")"
   ],
   "outputs": [],
   "metadata": {}
  },
  {
   "cell_type": "markdown",
   "source": [
    "And we provide a method to parse the CSV to a dictionary again, so the file can be used easily in other scripts again:"
   ],
   "metadata": {}
  },
  {
   "cell_type": "code",
   "execution_count": 50,
   "source": [
    "dic = csvs_to_dict(\"geschicktgendern\")\n",
    "list(dic[\"sg\"].items())[:5]"
   ],
   "outputs": [
    {
     "output_type": "execute_result",
     "data": {
      "text/plain": [
       "[('Abbrecherquote', ['Abbruchquote']),\n",
       " ('Abenteurer',\n",
       "  ['Waghals',\n",
       "   'abenteuerliebende Person',\n",
       "   'abenteuerlustige Person',\n",
       "   'abenteuermutige Person',\n",
       "   'Abenteuermensch']),\n",
       " ('Abgänger', ['absolvierende Person', 'Abschluss innehabende Person']),\n",
       " ('Abiturient', ['Abitur ablegende Person', 'Person, die Abitur macht']),\n",
       " ('Abkömmling',\n",
       "  ['abstammende Person',\n",
       "   'nachkommende Person',\n",
       "   'Kind',\n",
       "   'Kindeskind',\n",
       "   'Person gleicher Abstammung'])]"
      ]
     },
     "metadata": {},
     "execution_count": 50
    }
   ],
   "metadata": {}
  },
  {
   "cell_type": "code",
   "execution_count": null,
   "source": [],
   "outputs": [],
   "metadata": {}
  }
 ],
 "metadata": {
  "orig_nbformat": 4,
  "language_info": {
   "name": "python",
   "version": "3.9.7",
   "mimetype": "text/x-python",
   "codemirror_mode": {
    "name": "ipython",
    "version": 3
   },
   "pygments_lexer": "ipython3",
   "nbconvert_exporter": "python",
   "file_extension": ".py"
  },
  "kernelspec": {
   "name": "python3",
   "display_name": "Python 3.9.7 64-bit ('.venv': venv)"
  },
  "interpreter": {
   "hash": "95bedcfbd13951187b69ec62defd411ebf202d41ec39fb8571ad901e1b39c86f"
  }
 },
 "nbformat": 4,
 "nbformat_minor": 2
}