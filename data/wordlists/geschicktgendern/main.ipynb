{
 "cells": [
  {
   "cell_type": "code",
   "execution_count": 1,
   "source": [
    "import cache_magic\n",
    "import pandas as pd\n",
    "import re\n",
    "import requests\n",
    "import sys\n",
    "from typing import *\n",
    "\n",
    "sys.path.insert(0, \"../..\")\n",
    "from shared import add_to_dict, log"
   ],
   "outputs": [
    {
     "output_type": "stream",
     "name": "stdout",
     "text": [
      "%cache magic is now registered in ipython\n"
     ]
    }
   ],
   "metadata": {}
  },
  {
   "cell_type": "code",
   "execution_count": 2,
   "source": [
    "%cache excel = requests.get(\"https://geschicktgendern.de/download/1642/\").content"
   ],
   "outputs": [
    {
     "output_type": "stream",
     "name": "stdout",
     "text": [
      "loading cached value for variable 'excel'. Time since pickling  2:31:22.442596\n"
     ]
    }
   ],
   "metadata": {}
  },
  {
   "cell_type": "code",
   "execution_count": 3,
   "source": [
    "open(\"geschicktgendern_raw.xlsx\", \"wb\").write(excel)"
   ],
   "outputs": [
    {
     "output_type": "execute_result",
     "data": {
      "text/plain": [
       "110002"
      ]
     },
     "metadata": {},
     "execution_count": 3
    }
   ],
   "metadata": {}
  },
  {
   "cell_type": "code",
   "execution_count": 4,
   "source": [
    "df = pd.read_excel(\n",
    "    excel, header=None, names=[\"ungendered\", \"gendered\"], skiprows=3, usecols=[1, 2]\n",
    ")\n",
    "df.sort_values(by=\"ungendered\")\n",
    "df.head()"
   ],
   "outputs": [
    {
     "output_type": "execute_result",
     "data": {
      "text/html": [
       "<div>\n",
       "<style scoped>\n",
       "    .dataframe tbody tr th:only-of-type {\n",
       "        vertical-align: middle;\n",
       "    }\n",
       "\n",
       "    .dataframe tbody tr th {\n",
       "        vertical-align: top;\n",
       "    }\n",
       "\n",
       "    .dataframe thead th {\n",
       "        text-align: right;\n",
       "    }\n",
       "</style>\n",
       "<table border=\"1\" class=\"dataframe\">\n",
       "  <thead>\n",
       "    <tr style=\"text-align: right;\">\n",
       "      <th></th>\n",
       "      <th>ungendered</th>\n",
       "      <th>gendered</th>\n",
       "    </tr>\n",
       "  </thead>\n",
       "  <tbody>\n",
       "    <tr>\n",
       "      <th>0</th>\n",
       "      <td>&lt;div id=\"A\"&gt;&lt;b&gt;A&lt;/b&gt;&lt;div&gt;</td>\n",
       "      <td>NaN</td>\n",
       "    </tr>\n",
       "    <tr>\n",
       "      <th>1</th>\n",
       "      <td>Abbrecherquote</td>\n",
       "      <td>Abbruchquote</td>\n",
       "    </tr>\n",
       "    <tr>\n",
       "      <th>2</th>\n",
       "      <td>Abenteurer (sg.)</td>\n",
       "      <td>Waghals; abenteuerliebende Person; abenteuerlu...</td>\n",
       "    </tr>\n",
       "    <tr>\n",
       "      <th>3</th>\n",
       "      <td>Abgänger</td>\n",
       "      <td>absolvierende Person; Abschluss innehabende Pe...</td>\n",
       "    </tr>\n",
       "    <tr>\n",
       "      <th>4</th>\n",
       "      <td>Abiturient</td>\n",
       "      <td>Abitur ablegende Person; Person, die Abitur macht</td>\n",
       "    </tr>\n",
       "  </tbody>\n",
       "</table>\n",
       "</div>"
      ],
      "text/plain": [
       "                  ungendered  \\\n",
       "0  <div id=\"A\"><b>A</b><div>   \n",
       "1             Abbrecherquote   \n",
       "2           Abenteurer (sg.)   \n",
       "3                   Abgänger   \n",
       "4                 Abiturient   \n",
       "\n",
       "                                            gendered  \n",
       "0                                                NaN  \n",
       "1                                       Abbruchquote  \n",
       "2  Waghals; abenteuerliebende Person; abenteuerlu...  \n",
       "3  absolvierende Person; Abschluss innehabende Pe...  \n",
       "4  Abitur ablegende Person; Person, die Abitur macht  "
      ]
     },
     "metadata": {},
     "execution_count": 4
    }
   ],
   "metadata": {}
  },
  {
   "cell_type": "code",
   "execution_count": 5,
   "source": [
    "df.to_csv(\"geschicktgendern_raw.csv\", index=False)\n",
    "dflen = len(df)"
   ],
   "outputs": [],
   "metadata": {}
  },
  {
   "cell_type": "markdown",
   "source": [
    "We drop rows like the first one, where there is merely some HTML description but no value."
   ],
   "metadata": {}
  },
  {
   "cell_type": "code",
   "execution_count": 6,
   "source": [
    "df = df[df[\"gendered\"].notna()]\n",
    "df.head()"
   ],
   "outputs": [
    {
     "output_type": "execute_result",
     "data": {
      "text/html": [
       "<div>\n",
       "<style scoped>\n",
       "    .dataframe tbody tr th:only-of-type {\n",
       "        vertical-align: middle;\n",
       "    }\n",
       "\n",
       "    .dataframe tbody tr th {\n",
       "        vertical-align: top;\n",
       "    }\n",
       "\n",
       "    .dataframe thead th {\n",
       "        text-align: right;\n",
       "    }\n",
       "</style>\n",
       "<table border=\"1\" class=\"dataframe\">\n",
       "  <thead>\n",
       "    <tr style=\"text-align: right;\">\n",
       "      <th></th>\n",
       "      <th>ungendered</th>\n",
       "      <th>gendered</th>\n",
       "    </tr>\n",
       "  </thead>\n",
       "  <tbody>\n",
       "    <tr>\n",
       "      <th>1</th>\n",
       "      <td>Abbrecherquote</td>\n",
       "      <td>Abbruchquote</td>\n",
       "    </tr>\n",
       "    <tr>\n",
       "      <th>2</th>\n",
       "      <td>Abenteurer (sg.)</td>\n",
       "      <td>Waghals; abenteuerliebende Person; abenteuerlu...</td>\n",
       "    </tr>\n",
       "    <tr>\n",
       "      <th>3</th>\n",
       "      <td>Abgänger</td>\n",
       "      <td>absolvierende Person; Abschluss innehabende Pe...</td>\n",
       "    </tr>\n",
       "    <tr>\n",
       "      <th>4</th>\n",
       "      <td>Abiturient</td>\n",
       "      <td>Abitur ablegende Person; Person, die Abitur macht</td>\n",
       "    </tr>\n",
       "    <tr>\n",
       "      <th>5</th>\n",
       "      <td>Abkömmling</td>\n",
       "      <td>abstammende Person; nachkommende Person; Kind;...</td>\n",
       "    </tr>\n",
       "  </tbody>\n",
       "</table>\n",
       "</div>"
      ],
      "text/plain": [
       "         ungendered                                           gendered\n",
       "1    Abbrecherquote                                       Abbruchquote\n",
       "2  Abenteurer (sg.)  Waghals; abenteuerliebende Person; abenteuerlu...\n",
       "3          Abgänger  absolvierende Person; Abschluss innehabende Pe...\n",
       "4        Abiturient  Abitur ablegende Person; Person, die Abitur macht\n",
       "5        Abkömmling  abstammende Person; nachkommende Person; Kind;..."
      ]
     },
     "metadata": {},
     "execution_count": 6
    }
   ],
   "metadata": {}
  },
  {
   "cell_type": "markdown",
   "source": [
    "Let's look at a more complicated row:"
   ],
   "metadata": {}
  },
  {
   "cell_type": "code",
   "execution_count": 7,
   "source": [
    "df.loc[13]"
   ],
   "outputs": [
    {
     "output_type": "execute_result",
     "data": {
      "text/plain": [
       "ungendered            Absolventenvorsprechen [Schauspielschule]\n",
       "gendered      <a href=\"https://geschicktgendern.de/kontakt\">...\n",
       "Name: 13, dtype: object"
      ]
     },
     "metadata": {},
     "execution_count": 7
    }
   ],
   "metadata": {}
  },
  {
   "cell_type": "markdown",
   "source": [
    "We want to get rid of such rows that contain any kind of special annotation, such as HTML or square brackets."
   ],
   "metadata": {}
  },
  {
   "cell_type": "code",
   "execution_count": 8,
   "source": [
    "def is_simple_ungendered(a: str) -> bool:\n",
    "    return re.match(r\"^[A-ZÄÖÜa-zäöüß .\\-]+(\\(.*(sg|pl)\\.\\))? *$\", a) != None and not \"...\" in a"
   ],
   "outputs": [],
   "metadata": {}
  },
  {
   "cell_type": "code",
   "execution_count": 9,
   "source": [
    "def is_simple_gendered(a: str) -> bool:\n",
    "    return re.match(r\"^[A-ZÄÖÜa-zäöüß .,/()\\-]+$\", a) != None"
   ],
   "outputs": [],
   "metadata": {}
  },
  {
   "cell_type": "markdown",
   "source": [
    "Some rules relate only to singular or plural words. We want to assign each rule to singular plural or both:"
   ],
   "metadata": {}
  },
  {
   "cell_type": "code",
   "execution_count": 10,
   "source": [
    "def number(key: str) -> List[str]:\n",
    "    number = re.search(\"\\(.*(sg|pl)\\.\\)\", key)\n",
    "    genders = []\n",
    "    if number:\n",
    "        if number[1] == \"sg\":\n",
    "            genders += [\"sg\"]\n",
    "        if number[1] == \"pl\":\n",
    "            genders += [\"pl\"]\n",
    "    else:\n",
    "        genders += [\"sg\", \"pl\"]\n",
    "    return genders"
   ],
   "outputs": [],
   "metadata": {}
  },
  {
   "cell_type": "markdown",
   "source": [
    "Moreover, for each suggestion entry we want to extract all the suggestions that are not too complicated:"
   ],
   "metadata": {}
  },
  {
   "cell_type": "code",
   "execution_count": 11,
   "source": [
    "def get_suggestions(entry: str) -> List[str]:\n",
    "    return [x for x in entry.split(\"; \") if is_simple_gendered(x)]"
   ],
   "outputs": [],
   "metadata": {}
  },
  {
   "cell_type": "markdown",
   "source": [
    "We want to remove the annotations like `(pl.)` from the ungendered words:"
   ],
   "metadata": {}
  },
  {
   "cell_type": "code",
   "execution_count": 12,
   "source": [
    "def clean(a: str) -> str:\n",
    "    return re.sub(\" ?\\(.*\\)\", \"\", a)\n",
    "\n",
    "assert clean(\"Baum (sg.)\") == \"Baum\""
   ],
   "outputs": [],
   "metadata": {}
  },
  {
   "cell_type": "code",
   "execution_count": 13,
   "source": [
    "records = df.to_records()\n",
    "\n",
    "dic: Dict[str, Dict[str, str]] = {\"sg\": {}, \"pl\": {}}\n",
    "i = 0\n",
    "for (_, ungendered, gendered) in records:\n",
    "    suggestions = get_suggestions(gendered)\n",
    "    if (\n",
    "        is_simple_ungendered(ungendered)\n",
    "        and len(suggestions) > 0\n",
    "    ):\n",
    "        for n in number(ungendered):\n",
    "            add_to_dict(clean(ungendered), suggestions, dic[n])\n",
    "        i += 1"
   ],
   "outputs": [],
   "metadata": {}
  },
  {
   "cell_type": "code",
   "execution_count": 14,
   "source": [
    "print(\"#rules raw:\", dflen)\n",
    "print(\"#rules after dropping NAs:\", len(df))\n",
    "print(\"#rules after filtering too complicated:\", i)"
   ],
   "outputs": [
    {
     "output_type": "stream",
     "name": "stdout",
     "text": [
      "#rules raw: 1819\n",
      "#rules after dropping NAs: 1792\n",
      "#rules after filtering too complicated: 1483\n"
     ]
    }
   ],
   "metadata": {}
  },
  {
   "cell_type": "code",
   "execution_count": 15,
   "source": [
    "df = pd.DataFrame.from_dict(dic[\"sg\"], orient=\"index\")\n",
    "df.head()"
   ],
   "outputs": [
    {
     "output_type": "execute_result",
     "data": {
      "text/html": [
       "<div>\n",
       "<style scoped>\n",
       "    .dataframe tbody tr th:only-of-type {\n",
       "        vertical-align: middle;\n",
       "    }\n",
       "\n",
       "    .dataframe tbody tr th {\n",
       "        vertical-align: top;\n",
       "    }\n",
       "\n",
       "    .dataframe thead th {\n",
       "        text-align: right;\n",
       "    }\n",
       "</style>\n",
       "<table border=\"1\" class=\"dataframe\">\n",
       "  <thead>\n",
       "    <tr style=\"text-align: right;\">\n",
       "      <th></th>\n",
       "      <th>0</th>\n",
       "      <th>1</th>\n",
       "      <th>2</th>\n",
       "      <th>3</th>\n",
       "      <th>4</th>\n",
       "      <th>5</th>\n",
       "      <th>6</th>\n",
       "      <th>7</th>\n",
       "      <th>8</th>\n",
       "      <th>9</th>\n",
       "      <th>10</th>\n",
       "      <th>11</th>\n",
       "    </tr>\n",
       "  </thead>\n",
       "  <tbody>\n",
       "    <tr>\n",
       "      <th>Abbrecherquote</th>\n",
       "      <td>Abbruchquote</td>\n",
       "      <td>None</td>\n",
       "      <td>None</td>\n",
       "      <td>None</td>\n",
       "      <td>None</td>\n",
       "      <td>None</td>\n",
       "      <td>None</td>\n",
       "      <td>None</td>\n",
       "      <td>None</td>\n",
       "      <td>None</td>\n",
       "      <td>None</td>\n",
       "      <td>None</td>\n",
       "    </tr>\n",
       "    <tr>\n",
       "      <th>Abenteurer</th>\n",
       "      <td>Waghals</td>\n",
       "      <td>abenteuerliebende Person</td>\n",
       "      <td>abenteuerlustige Person</td>\n",
       "      <td>abenteuermutige Person</td>\n",
       "      <td>Abenteuermensch</td>\n",
       "      <td>None</td>\n",
       "      <td>None</td>\n",
       "      <td>None</td>\n",
       "      <td>None</td>\n",
       "      <td>None</td>\n",
       "      <td>None</td>\n",
       "      <td>None</td>\n",
       "    </tr>\n",
       "    <tr>\n",
       "      <th>Abgänger</th>\n",
       "      <td>absolvierende Person</td>\n",
       "      <td>Abschluss innehabende Person</td>\n",
       "      <td>None</td>\n",
       "      <td>None</td>\n",
       "      <td>None</td>\n",
       "      <td>None</td>\n",
       "      <td>None</td>\n",
       "      <td>None</td>\n",
       "      <td>None</td>\n",
       "      <td>None</td>\n",
       "      <td>None</td>\n",
       "      <td>None</td>\n",
       "    </tr>\n",
       "    <tr>\n",
       "      <th>Abiturient</th>\n",
       "      <td>Abitur ablegende Person</td>\n",
       "      <td>Person, die Abitur macht</td>\n",
       "      <td>None</td>\n",
       "      <td>None</td>\n",
       "      <td>None</td>\n",
       "      <td>None</td>\n",
       "      <td>None</td>\n",
       "      <td>None</td>\n",
       "      <td>None</td>\n",
       "      <td>None</td>\n",
       "      <td>None</td>\n",
       "      <td>None</td>\n",
       "    </tr>\n",
       "    <tr>\n",
       "      <th>Abkömmling</th>\n",
       "      <td>abstammende Person</td>\n",
       "      <td>nachkommende Person</td>\n",
       "      <td>Kind</td>\n",
       "      <td>Kindeskind</td>\n",
       "      <td>Person gleicher Abstammung</td>\n",
       "      <td>None</td>\n",
       "      <td>None</td>\n",
       "      <td>None</td>\n",
       "      <td>None</td>\n",
       "      <td>None</td>\n",
       "      <td>None</td>\n",
       "      <td>None</td>\n",
       "    </tr>\n",
       "  </tbody>\n",
       "</table>\n",
       "</div>"
      ],
      "text/plain": [
       "                                     0                             1   \\\n",
       "Abbrecherquote             Abbruchquote                          None   \n",
       "Abenteurer                      Waghals      abenteuerliebende Person   \n",
       "Abgänger           absolvierende Person  Abschluss innehabende Person   \n",
       "Abiturient      Abitur ablegende Person      Person, die Abitur macht   \n",
       "Abkömmling           abstammende Person           nachkommende Person   \n",
       "\n",
       "                                     2                       3   \\\n",
       "Abbrecherquote                     None                    None   \n",
       "Abenteurer      abenteuerlustige Person  abenteuermutige Person   \n",
       "Abgänger                           None                    None   \n",
       "Abiturient                         None                    None   \n",
       "Abkömmling                         Kind              Kindeskind   \n",
       "\n",
       "                                        4     5     6     7     8     9   \\\n",
       "Abbrecherquote                        None  None  None  None  None  None   \n",
       "Abenteurer                 Abenteuermensch  None  None  None  None  None   \n",
       "Abgänger                              None  None  None  None  None  None   \n",
       "Abiturient                            None  None  None  None  None  None   \n",
       "Abkömmling      Person gleicher Abstammung  None  None  None  None  None   \n",
       "\n",
       "                  10    11  \n",
       "Abbrecherquote  None  None  \n",
       "Abenteurer      None  None  \n",
       "Abgänger        None  None  \n",
       "Abiturient      None  None  \n",
       "Abkömmling      None  None  "
      ]
     },
     "metadata": {},
     "execution_count": 15
    }
   ],
   "metadata": {}
  },
  {
   "cell_type": "markdown",
   "source": [
    "We save this as CSV:"
   ],
   "metadata": {}
  },
  {
   "cell_type": "code",
   "execution_count": 16,
   "source": [
    "for n in [\"sg\", \"pl\"]:\n",
    "    df = pd.DataFrame.from_dict(dic[n], orient=\"index\")\n",
    "    df.to_csv(\"geschicktgendern_{}.csv\".format(n), header=False)"
   ],
   "outputs": [],
   "metadata": {}
  },
  {
   "cell_type": "markdown",
   "source": [
    "And we provide a method to parse the CSV to a dictionary again, so the file can be used easily in other scripts again:"
   ],
   "metadata": {}
  },
  {
   "cell_type": "code",
   "execution_count": 17,
   "source": [
    "def read_geschicktgendern_csv() -> Dict[str, Dict[str, List[str]]]:\n",
    "    dic: Dict[str, Dict[str, List[str]]] = {\"sg\": {}, \"pl\": {}}\n",
    "    for n in [\"sg\", \"pl\"]:\n",
    "        df = pd.read_csv(\"geschicktgendern_{}.csv\".format(n), header=None)\n",
    "        d = df.set_index(0).T.to_dict('list')\n",
    "        d = dict([(key, [val for val in vals if type(val) == str]) for key, vals in d.items()])\n",
    "        dic[n] = d\n",
    "    return dic"
   ],
   "outputs": [],
   "metadata": {}
  },
  {
   "cell_type": "code",
   "execution_count": 18,
   "source": [
    "list(read_geschicktgendern_csv()[\"sg\"].items())[:5]"
   ],
   "outputs": [
    {
     "output_type": "execute_result",
     "data": {
      "text/plain": [
       "[('Abbrecherquote', ['Abbruchquote']),\n",
       " ('Abenteurer',\n",
       "  ['Waghals',\n",
       "   'abenteuerliebende Person',\n",
       "   'abenteuerlustige Person',\n",
       "   'abenteuermutige Person',\n",
       "   'Abenteuermensch']),\n",
       " ('Abgänger', ['absolvierende Person', 'Abschluss innehabende Person']),\n",
       " ('Abiturient', ['Abitur ablegende Person', 'Person, die Abitur macht']),\n",
       " ('Abkömmling',\n",
       "  ['abstammende Person',\n",
       "   'nachkommende Person',\n",
       "   'Kind',\n",
       "   'Kindeskind',\n",
       "   'Person gleicher Abstammung'])]"
      ]
     },
     "metadata": {},
     "execution_count": 18
    }
   ],
   "metadata": {}
  }
 ],
 "metadata": {
  "orig_nbformat": 4,
  "language_info": {
   "name": "python",
   "version": "3.9.7",
   "mimetype": "text/x-python",
   "codemirror_mode": {
    "name": "ipython",
    "version": 3
   },
   "pygments_lexer": "ipython3",
   "nbconvert_exporter": "python",
   "file_extension": ".py"
  },
  "kernelspec": {
   "name": "python3",
   "display_name": "Python 3.9.7 64-bit ('.venv': venv)"
  },
  "interpreter": {
   "hash": "95bedcfbd13951187b69ec62defd411ebf202d41ec39fb8571ad901e1b39c86f"
  }
 },
 "nbformat": 4,
 "nbformat_minor": 2
}