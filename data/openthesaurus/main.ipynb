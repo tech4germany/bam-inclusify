{
 "cells": [
  {
   "cell_type": "markdown",
   "metadata": {},
   "source": [
    "Here we try to extract useful data from [OpenThesaurus](https://www.openthesaurus.de). We make an extensive list of all words related to persons. In a further step, we try to retrieve good synonyms. The first step has worked out very well, but the second step not so much, since the synonyms are often not suitable or even in harsh langauge (there is a lot of everyday language in OpenThesaurus). \n",
    "\n",
    "For future work, one could use the list of male persons and come up with synonyms oneself or check the synonyms from OpenThesaurus very closely."
   ]
  },
  {
   "cell_type": "code",
   "execution_count": 1,
   "metadata": {},
   "outputs": [],
   "source": [
    "from os import path\n",
    "from typing import *\n",
    "import itertools\n",
    "import pandas as pd\n",
    "import re\n",
    "import spacy\n",
    "import subprocess\n",
    "import sys\n",
    "\n",
    "sys.path.insert(0, \"..\")\n",
    "from helpers import add_to_dict, log\n",
    "from helpers_csv import csvs_to_list, dict_to_csvs"
   ]
  },
  {
   "cell_type": "markdown",
   "metadata": {},
   "source": [
    "We download a [MySQL dump from OpenThesaurus](https://www.openthesaurus.de/about/download) and run the queries given in `queries.sql` against it. The results are saved in the `query_results` folder."
   ]
  },
  {
   "cell_type": "code",
   "execution_count": 2,
   "metadata": {},
   "outputs": [
    {
     "name": "stdout",
     "output_type": "stream",
     "text": [
      "[1776, 1862, 577, 90, 0, 0, 0]\n"
     ]
    }
   ],
   "source": [
    "iterations = []\n",
    "for i in range(0, 7):\n",
    "    df = pd.read_csv(path.join(\"query_results\", \"{}_iterations.csv\".format(i)))\n",
    "    previous = set(itertools.chain(*iterations))\n",
    "    values = set(df[\"word\"].values.tolist()).difference(previous)\n",
    "    values = list(filter(lambda x: re.match(r\"^[A-ZäÖÜ][a-zäöüß\\-]+$\", x), values))\n",
    "    iterations.append(values)\n",
    "\n",
    "print(list(map(len, iterations)))\n",
    "words = sorted(list(itertools.chain(*iterations)))"
   ]
  },
  {
   "cell_type": "code",
   "execution_count": 3,
   "metadata": {},
   "outputs": [
    {
     "data": {
      "text/plain": [
       "48635"
      ]
     },
     "execution_count": 3,
     "metadata": {},
     "output_type": "execute_result"
    }
   ],
   "source": [
    "open(\"openthesaurus_persons.csv\", \"w\").write(\"\\n\".join(words))"
   ]
  },
  {
   "cell_type": "markdown",
   "metadata": {},
   "source": [
    "For figuring out the grammatical gender, we first try to use Spacy. The quality is not very high, many genders are misclassified."
   ]
  },
  {
   "cell_type": "code",
   "execution_count": 4,
   "metadata": {},
   "outputs": [
    {
     "name": "stdout",
     "output_type": "stream",
     "text": [
      "('Baum', ['Masc'])\n",
      "('Mädchen', ['Neut'])\n",
      "('Fachkraft', ['Fem'])\n",
      "('Manager', ['Masc'])\n",
      "('Managerin', ['Fem'])\n",
      "('Beamte', ['Masc'])\n",
      "('Beamtinnen', ['Fem'])\n",
      "('Leiter', ['Masc'])\n",
      "('Butter', ['Masc'])\n",
      "('Teller', [])\n",
      "('Kabbulmoffdi', ['Masc'])\n"
     ]
    }
   ],
   "source": [
    "nlp = spacy.load(\"de_core_news_sm\")\n",
    "\n",
    "\n",
    "def grammatical_gender(s: str) -> str:\n",
    "    return nlp(s)[0].morph.get(\"Gender\")\n",
    "\n",
    "\n",
    "print(\n",
    "    *list(\n",
    "        map(\n",
    "            lambda a: (a, grammatical_gender(a)),\n",
    "            [\n",
    "                \"Baum\",\n",
    "                \"Mädchen\",\n",
    "                \"Fachkraft\",\n",
    "                \"Manager\",\n",
    "                \"Managerin\",\n",
    "                \"Beamte\",\n",
    "                \"Beamtinnen\",\n",
    "                \"Leiter\",  # does not recognize gender of the second meaning\n",
    "                \"Butter\",  # recognized incorrectly as 'Masc'\n",
    "                \"Teller\",  # not recognized\n",
    "                \"Kabbulmoffdi\",  # not a word, but recognized as 'Masc'\n",
    "            ],\n",
    "        )\n",
    "    ),\n",
    "    sep=\"\\n\"\n",
    ")"
   ]
  },
  {
   "cell_type": "markdown",
   "metadata": {},
   "source": [
    "The grammatical gender detection of the chosen model is not very good in general, but since it is trained on news texts, it is hopefully good enough on person words."
   ]
  },
  {
   "cell_type": "code",
   "execution_count": 5,
   "metadata": {},
   "outputs": [],
   "source": [
    "genders = {}\n",
    "for word in words:\n",
    "    for gender in grammatical_gender(word):\n",
    "        add_to_dict(gender, [word], genders)"
   ]
  },
  {
   "cell_type": "code",
   "execution_count": 6,
   "metadata": {},
   "outputs": [
    {
     "data": {
      "text/html": [
       "<div>\n",
       "<style scoped>\n",
       "    .dataframe tbody tr th:only-of-type {\n",
       "        vertical-align: middle;\n",
       "    }\n",
       "\n",
       "    .dataframe tbody tr th {\n",
       "        vertical-align: top;\n",
       "    }\n",
       "\n",
       "    .dataframe thead th {\n",
       "        text-align: right;\n",
       "    }\n",
       "</style>\n",
       "<table border=\"1\" class=\"dataframe\">\n",
       "  <thead>\n",
       "    <tr style=\"text-align: right;\">\n",
       "      <th></th>\n",
       "      <th>Masc</th>\n",
       "      <th>Neut</th>\n",
       "      <th>Fem</th>\n",
       "    </tr>\n",
       "  </thead>\n",
       "  <tbody>\n",
       "    <tr>\n",
       "      <th>0</th>\n",
       "      <td>Aas</td>\n",
       "      <td>Abkomme</td>\n",
       "      <td>Ablegat</td>\n",
       "    </tr>\n",
       "    <tr>\n",
       "      <th>1</th>\n",
       "      <td>Aasgeier</td>\n",
       "      <td>Abstinent</td>\n",
       "      <td>Ahne</td>\n",
       "    </tr>\n",
       "    <tr>\n",
       "      <th>2</th>\n",
       "      <td>Abdecker</td>\n",
       "      <td>Abzuschiebender</td>\n",
       "      <td>Ahnfrau</td>\n",
       "    </tr>\n",
       "    <tr>\n",
       "      <th>3</th>\n",
       "      <td>Abenteurer</td>\n",
       "      <td>Adelige</td>\n",
       "      <td>Ahnherrin</td>\n",
       "    </tr>\n",
       "    <tr>\n",
       "      <th>4</th>\n",
       "      <td>Abgeordneter</td>\n",
       "      <td>Adept</td>\n",
       "      <td>Akrobat</td>\n",
       "    </tr>\n",
       "    <tr>\n",
       "      <th>5</th>\n",
       "      <td>Abgesandter</td>\n",
       "      <td>Adonis</td>\n",
       "      <td>Almerin</td>\n",
       "    </tr>\n",
       "    <tr>\n",
       "      <th>6</th>\n",
       "      <td>Abgeschobener</td>\n",
       "      <td>Afghane</td>\n",
       "      <td>Alterchen</td>\n",
       "    </tr>\n",
       "    <tr>\n",
       "      <th>7</th>\n",
       "      <td>Abkömmling</td>\n",
       "      <td>Allesbesserwisser</td>\n",
       "      <td>Angie</td>\n",
       "    </tr>\n",
       "    <tr>\n",
       "      <th>8</th>\n",
       "      <td>Abnicker</td>\n",
       "      <td>Alter</td>\n",
       "      <td>Anlerntätigkeit</td>\n",
       "    </tr>\n",
       "    <tr>\n",
       "      <th>9</th>\n",
       "      <td>Abschiebehäftling</td>\n",
       "      <td>Amtsleiter</td>\n",
       "      <td>Anthropophage</td>\n",
       "    </tr>\n",
       "    <tr>\n",
       "      <th>10</th>\n",
       "      <td>Absolutist</td>\n",
       "      <td>Anweiser</td>\n",
       "      <td>Arbeitskraft</td>\n",
       "    </tr>\n",
       "    <tr>\n",
       "      <th>11</th>\n",
       "      <td>Abteilungsleiter</td>\n",
       "      <td>Aufschneider</td>\n",
       "      <td>Arztsekretärin</td>\n",
       "    </tr>\n",
       "    <tr>\n",
       "      <th>12</th>\n",
       "      <td>Abtrünniger</td>\n",
       "      <td>Augenzeuge</td>\n",
       "      <td>Ass</td>\n",
       "    </tr>\n",
       "    <tr>\n",
       "      <th>13</th>\n",
       "      <td>Abundzubi</td>\n",
       "      <td>Auslandskorrespondent</td>\n",
       "      <td>Atze</td>\n",
       "    </tr>\n",
       "    <tr>\n",
       "      <th>14</th>\n",
       "      <td>Abweichler</td>\n",
       "      <td>Auspeitscher</td>\n",
       "      <td>Aufsicht</td>\n",
       "    </tr>\n",
       "    <tr>\n",
       "      <th>15</th>\n",
       "      <td>Abwickler</td>\n",
       "      <td>Azubi</td>\n",
       "      <td>Aufwartefrau</td>\n",
       "    </tr>\n",
       "    <tr>\n",
       "      <th>16</th>\n",
       "      <td>Abzocker</td>\n",
       "      <td>Baby</td>\n",
       "      <td>Augur</td>\n",
       "    </tr>\n",
       "    <tr>\n",
       "      <th>17</th>\n",
       "      <td>Adeliger</td>\n",
       "      <td>Bader</td>\n",
       "      <td>Aushilfe</td>\n",
       "    </tr>\n",
       "    <tr>\n",
       "      <th>18</th>\n",
       "      <td>Adelsherrscher</td>\n",
       "      <td>Bandit</td>\n",
       "      <td>Aushilfskraft</td>\n",
       "    </tr>\n",
       "    <tr>\n",
       "      <th>19</th>\n",
       "      <td>Adliger</td>\n",
       "      <td>Baronin</td>\n",
       "      <td>Autorität</td>\n",
       "    </tr>\n",
       "  </tbody>\n",
       "</table>\n",
       "</div>"
      ],
      "text/plain": [
       "                 Masc                   Neut              Fem\n",
       "0                 Aas                Abkomme          Ablegat\n",
       "1            Aasgeier              Abstinent             Ahne\n",
       "2            Abdecker        Abzuschiebender          Ahnfrau\n",
       "3          Abenteurer                Adelige        Ahnherrin\n",
       "4        Abgeordneter                  Adept          Akrobat\n",
       "5         Abgesandter                 Adonis          Almerin\n",
       "6       Abgeschobener                Afghane        Alterchen\n",
       "7          Abkömmling      Allesbesserwisser            Angie\n",
       "8            Abnicker                  Alter  Anlerntätigkeit\n",
       "9   Abschiebehäftling             Amtsleiter    Anthropophage\n",
       "10         Absolutist               Anweiser     Arbeitskraft\n",
       "11   Abteilungsleiter           Aufschneider   Arztsekretärin\n",
       "12        Abtrünniger             Augenzeuge              Ass\n",
       "13          Abundzubi  Auslandskorrespondent             Atze\n",
       "14         Abweichler           Auspeitscher         Aufsicht\n",
       "15          Abwickler                  Azubi     Aufwartefrau\n",
       "16           Abzocker                   Baby            Augur\n",
       "17           Adeliger                  Bader         Aushilfe\n",
       "18     Adelsherrscher                 Bandit    Aushilfskraft\n",
       "19            Adliger                Baronin        Autorität"
      ]
     },
     "execution_count": 6,
     "metadata": {},
     "output_type": "execute_result"
    }
   ],
   "source": [
    "pd.DataFrame.from_dict(genders, orient=\"index\").transpose().head(20)"
   ]
  },
  {
   "cell_type": "markdown",
   "metadata": {},
   "source": [
    "Because the gender detection with Spacy is not satisfactory, we instead try the RF-tagger. The RF-tagger can be downloaded for free, but we can't redistribute it, so you will need to download it yourself, see [here](./rf-tagger/RFTagger-info)."
   ]
  },
  {
   "cell_type": "code",
   "execution_count": 7,
   "metadata": {},
   "outputs": [],
   "source": [
    "def grammatical_gender_rft_batch(tokens: List[str]) -> Dict[str, str]:\n",
    "    rftagger_path = \"./rf-tagger/RFTagger\"\n",
    "    temp_file = \"test/temp.txt\"\n",
    "    open(path.join(rftagger_path, temp_file), \"w\").write(\"\\n\".join(tokens))\n",
    "    result = subprocess.run(\n",
    "        [\"src/rft-annotate\", \"lib/german.par\", temp_file],\n",
    "        cwd=rftagger_path,\n",
    "        capture_output=True,\n",
    "    )\n",
    "    result = result.stdout.decode(\"UTF-8\")\n",
    "    dic = {}\n",
    "    for line in result.split(\"\\n\"):\n",
    "        matches = re.findall(r\"^.*\\t\", line)\n",
    "        if len(matches) > 0 and len(matches[0]) > 1:\n",
    "            word = matches[0][:-1]\n",
    "            # spacy_genders = grammatical_gender(word)\n",
    "            rft_genders = re.findall(r\"Masc|Fem|Neut\", line)\n",
    "            if len(rft_genders) == 1:\n",
    "                rft_gender = rft_genders[0]\n",
    "                # spacy_gender = spacy_genders[0]\n",
    "                # if rft_gender == spacy_gender:\n",
    "                add_to_dict(rft_gender, [word], dic)\n",
    "    return dic\n",
    "\n",
    "\n",
    "genders = grammatical_gender_rft_batch(words)"
   ]
  },
  {
   "cell_type": "code",
   "execution_count": 8,
   "metadata": {},
   "outputs": [
    {
     "name": "stdout",
     "output_type": "stream",
     "text": [
      "('Baum', ['Masc'])\n",
      "('Mädchen', ['Neut'])\n",
      "('Fachkraft', ['Fem'])\n",
      "('Manager', ['Masc'])\n",
      "('Managerin', ['Fem'])\n",
      "('Beamte', ['Masc'])\n",
      "('Beamtinnen', ['Fem'])\n",
      "('Leiter', ['Masc'])\n",
      "('Butter', ['Fem'])\n",
      "('Teller', ['Masc'])\n",
      "('Kabbulmoffdi', ['Neut'])\n"
     ]
    }
   ],
   "source": [
    "print(\n",
    "    *list(\n",
    "        map(\n",
    "            lambda a: (a, list(grammatical_gender_rft_batch([a]).keys())),\n",
    "            [\n",
    "                \"Baum\",\n",
    "                \"Mädchen\",\n",
    "                \"Fachkraft\",\n",
    "                \"Manager\",\n",
    "                \"Managerin\",\n",
    "                \"Beamte\",\n",
    "                \"Beamtinnen\",\n",
    "                \"Leiter\",  # does not recognize gender of the second meaning\n",
    "                \"Butter\",\n",
    "                \"Teller\",\n",
    "                \"Kabbulmoffdi\",  # not a word, but recognized as 'Neut'\n",
    "            ],\n",
    "        )\n",
    "    ),\n",
    "    sep=\"\\n\"\n",
    ")"
   ]
  },
  {
   "cell_type": "code",
   "execution_count": 9,
   "metadata": {},
   "outputs": [
    {
     "data": {
      "text/html": [
       "<div>\n",
       "<style scoped>\n",
       "    .dataframe tbody tr th:only-of-type {\n",
       "        vertical-align: middle;\n",
       "    }\n",
       "\n",
       "    .dataframe tbody tr th {\n",
       "        vertical-align: top;\n",
       "    }\n",
       "\n",
       "    .dataframe thead th {\n",
       "        text-align: right;\n",
       "    }\n",
       "</style>\n",
       "<table border=\"1\" class=\"dataframe\">\n",
       "  <thead>\n",
       "    <tr style=\"text-align: right;\">\n",
       "      <th></th>\n",
       "      <th>Masc</th>\n",
       "      <th>Fem</th>\n",
       "      <th>Neut</th>\n",
       "    </tr>\n",
       "  </thead>\n",
       "  <tbody>\n",
       "    <tr>\n",
       "      <th>0</th>\n",
       "      <td>Aasgeier</td>\n",
       "      <td>Abgesandter</td>\n",
       "      <td>Adoptivkind</td>\n",
       "    </tr>\n",
       "    <tr>\n",
       "      <th>1</th>\n",
       "      <td>Abdecker</td>\n",
       "      <td>Abkomme</td>\n",
       "      <td>Alter</td>\n",
       "    </tr>\n",
       "    <tr>\n",
       "      <th>2</th>\n",
       "      <td>Abenteurer</td>\n",
       "      <td>Adoptivtochter</td>\n",
       "      <td>Alterchen</td>\n",
       "    </tr>\n",
       "    <tr>\n",
       "      <th>3</th>\n",
       "      <td>Abgeordneter</td>\n",
       "      <td>Ahnfrau</td>\n",
       "      <td>Anerkennungsjahr</td>\n",
       "    </tr>\n",
       "    <tr>\n",
       "      <th>4</th>\n",
       "      <td>Abkömmling</td>\n",
       "      <td>Ahnherrin</td>\n",
       "      <td>Arschloch</td>\n",
       "    </tr>\n",
       "    <tr>\n",
       "      <th>5</th>\n",
       "      <td>Abnicker</td>\n",
       "      <td>Amtsperson</td>\n",
       "      <td>Assassine</td>\n",
       "    </tr>\n",
       "    <tr>\n",
       "      <th>6</th>\n",
       "      <td>Absolutist</td>\n",
       "      <td>Angetraute</td>\n",
       "      <td>Barbier</td>\n",
       "    </tr>\n",
       "    <tr>\n",
       "      <th>7</th>\n",
       "      <td>Abstinenzler</td>\n",
       "      <td>Angie</td>\n",
       "      <td>Berufsanerkennungsjahr</td>\n",
       "    </tr>\n",
       "    <tr>\n",
       "      <th>8</th>\n",
       "      <td>Abteilungsleiter</td>\n",
       "      <td>Ansprechperson</td>\n",
       "      <td>Berufspraktikum</td>\n",
       "    </tr>\n",
       "    <tr>\n",
       "      <th>9</th>\n",
       "      <td>Abtrünniger</td>\n",
       "      <td>Arbeitskraft</td>\n",
       "      <td>Betthupferl</td>\n",
       "    </tr>\n",
       "    <tr>\n",
       "      <th>10</th>\n",
       "      <td>Abundzubi</td>\n",
       "      <td>Aufsicht</td>\n",
       "      <td>Bienchen</td>\n",
       "    </tr>\n",
       "    <tr>\n",
       "      <th>11</th>\n",
       "      <td>Abwart</td>\n",
       "      <td>Aufwartefrau</td>\n",
       "      <td>Biest</td>\n",
       "    </tr>\n",
       "    <tr>\n",
       "      <th>12</th>\n",
       "      <td>Abweichler</td>\n",
       "      <td>Aushilfe</td>\n",
       "      <td>Bleichgesicht</td>\n",
       "    </tr>\n",
       "    <tr>\n",
       "      <th>13</th>\n",
       "      <td>Abwickler</td>\n",
       "      <td>Aushilfskraft</td>\n",
       "      <td>Blondchen</td>\n",
       "    </tr>\n",
       "    <tr>\n",
       "      <th>14</th>\n",
       "      <td>Abzocker</td>\n",
       "      <td>Autorität</td>\n",
       "      <td>Braunhemd</td>\n",
       "    </tr>\n",
       "    <tr>\n",
       "      <th>15</th>\n",
       "      <td>Abzuschiebender</td>\n",
       "      <td>Autoritätsperson</td>\n",
       "      <td>Bruderherz</td>\n",
       "    </tr>\n",
       "    <tr>\n",
       "      <th>16</th>\n",
       "      <td>Achsmacher</td>\n",
       "      <td>Babe</td>\n",
       "      <td>Bärchen</td>\n",
       "    </tr>\n",
       "    <tr>\n",
       "      <th>17</th>\n",
       "      <td>Adabei</td>\n",
       "      <td>Bader</td>\n",
       "      <td>Bürschchen</td>\n",
       "    </tr>\n",
       "    <tr>\n",
       "      <th>18</th>\n",
       "      <td>Adelige</td>\n",
       "      <td>Baronesse</td>\n",
       "      <td>Callgirl</td>\n",
       "    </tr>\n",
       "    <tr>\n",
       "      <th>19</th>\n",
       "      <td>Adeliger</td>\n",
       "      <td>Baronin</td>\n",
       "      <td>Dicke</td>\n",
       "    </tr>\n",
       "  </tbody>\n",
       "</table>\n",
       "</div>"
      ],
      "text/plain": [
       "                Masc               Fem                    Neut\n",
       "0           Aasgeier       Abgesandter             Adoptivkind\n",
       "1           Abdecker           Abkomme                   Alter\n",
       "2         Abenteurer    Adoptivtochter               Alterchen\n",
       "3       Abgeordneter           Ahnfrau        Anerkennungsjahr\n",
       "4         Abkömmling         Ahnherrin               Arschloch\n",
       "5           Abnicker        Amtsperson               Assassine\n",
       "6         Absolutist        Angetraute                 Barbier\n",
       "7       Abstinenzler             Angie  Berufsanerkennungsjahr\n",
       "8   Abteilungsleiter    Ansprechperson         Berufspraktikum\n",
       "9        Abtrünniger      Arbeitskraft             Betthupferl\n",
       "10         Abundzubi          Aufsicht                Bienchen\n",
       "11            Abwart      Aufwartefrau                   Biest\n",
       "12        Abweichler          Aushilfe           Bleichgesicht\n",
       "13         Abwickler     Aushilfskraft               Blondchen\n",
       "14          Abzocker         Autorität               Braunhemd\n",
       "15   Abzuschiebender  Autoritätsperson              Bruderherz\n",
       "16        Achsmacher              Babe                 Bärchen\n",
       "17            Adabei             Bader              Bürschchen\n",
       "18           Adelige         Baronesse                Callgirl\n",
       "19          Adeliger           Baronin                   Dicke"
      ]
     },
     "execution_count": 9,
     "metadata": {},
     "output_type": "execute_result"
    }
   ],
   "source": [
    "pd.DataFrame.from_dict(genders, orient=\"index\").transpose().head(20)"
   ]
  },
  {
   "cell_type": "markdown",
   "metadata": {},
   "source": [
    "This is still far from perfect, but better than the Spacy model. Future work could use [deep-german](https://github.com/aakhundov/deep-german), but I have Mac-specific trouble installing it at the moment."
   ]
  },
  {
   "cell_type": "code",
   "execution_count": 10,
   "metadata": {},
   "outputs": [
    {
     "data": {
      "text/plain": [
       "39970"
      ]
     },
     "execution_count": 10,
     "metadata": {},
     "output_type": "execute_result"
    }
   ],
   "source": [
    "open(\"openthesaurus_persons_male_sg.csv\", \"w\").write(\"\\n\".join(genders[\"Masc\"]))"
   ]
  },
  {
   "cell_type": "markdown",
   "metadata": {},
   "source": [
    "Next, we use opentheasurus once more to retrieve synonyms for the male-person words that we have found above. We create a new table `male_persons` with the single column `male_person`and import `openthesaurus_persons_male_sg.csv`. Then we run, and save the result in `query_results/synonyms.csv`:\n",
    "\n",
    "```sql\n",
    "select mp.male_person, t2.word as synonym from \n",
    "male_persons mp\n",
    "join term t1 on mp.male_person = t1.word\n",
    "join term t2 on t1.synset_id = t2.synset_id;\n",
    "```"
   ]
  },
  {
   "cell_type": "code",
   "execution_count": 11,
   "metadata": {},
   "outputs": [
    {
     "data": {
      "text/html": [
       "<div>\n",
       "<style scoped>\n",
       "    .dataframe tbody tr th:only-of-type {\n",
       "        vertical-align: middle;\n",
       "    }\n",
       "\n",
       "    .dataframe tbody tr th {\n",
       "        vertical-align: top;\n",
       "    }\n",
       "\n",
       "    .dataframe thead th {\n",
       "        text-align: right;\n",
       "    }\n",
       "</style>\n",
       "<table border=\"1\" class=\"dataframe\">\n",
       "  <thead>\n",
       "    <tr style=\"text-align: right;\">\n",
       "      <th></th>\n",
       "      <th>male_person</th>\n",
       "      <th>synonym</th>\n",
       "    </tr>\n",
       "  </thead>\n",
       "  <tbody>\n",
       "    <tr>\n",
       "      <th>0</th>\n",
       "      <td>Urmensch</td>\n",
       "      <td>Mensch der Altsteinzeit</td>\n",
       "    </tr>\n",
       "    <tr>\n",
       "      <th>1</th>\n",
       "      <td>Urmensch</td>\n",
       "      <td>Urmensch</td>\n",
       "    </tr>\n",
       "    <tr>\n",
       "      <th>2</th>\n",
       "      <td>Auftraggeber</td>\n",
       "      <td>Auftraggeber</td>\n",
       "    </tr>\n",
       "    <tr>\n",
       "      <th>3</th>\n",
       "      <td>Auftraggeber</td>\n",
       "      <td>Kunde</td>\n",
       "    </tr>\n",
       "    <tr>\n",
       "      <th>4</th>\n",
       "      <td>Auftraggeber</td>\n",
       "      <td>Mandant</td>\n",
       "    </tr>\n",
       "  </tbody>\n",
       "</table>\n",
       "</div>"
      ],
      "text/plain": [
       "    male_person                  synonym\n",
       "0      Urmensch  Mensch der Altsteinzeit\n",
       "1      Urmensch                 Urmensch\n",
       "2  Auftraggeber             Auftraggeber\n",
       "3  Auftraggeber                    Kunde\n",
       "4  Auftraggeber                  Mandant"
      ]
     },
     "execution_count": 11,
     "metadata": {},
     "output_type": "execute_result"
    }
   ],
   "source": [
    "df = pd.read_csv(path.join(\"query_results\", \"synonyms.csv\"))\n",
    "df.head()"
   ]
  },
  {
   "cell_type": "code",
   "execution_count": 12,
   "metadata": {},
   "outputs": [
    {
     "data": {
      "text/plain": [
       "rec.array([(0, 'Urmensch', 'Mensch der Altsteinzeit'),\n",
       "           (1, 'Urmensch', 'Urmensch'),\n",
       "           (2, 'Auftraggeber', 'Auftraggeber'),\n",
       "           (3, 'Auftraggeber', 'Kunde'), (4, 'Auftraggeber', 'Mandant'),\n",
       "           (5, 'Auftraggeber', 'Adressat'), (6, 'Kunde', 'Auftraggeber'),\n",
       "           (7, 'Kunde', 'Kunde'), (8, 'Kunde', 'Mandant'),\n",
       "           (9, 'Kunde', 'Adressat')],\n",
       "          dtype=[('index', '<i8'), ('male_person', 'O'), ('synonym', 'O')])"
      ]
     },
     "execution_count": 12,
     "metadata": {},
     "output_type": "execute_result"
    }
   ],
   "source": [
    "synonyms = df.to_records()\n",
    "synonyms[:10]"
   ]
  },
  {
   "cell_type": "code",
   "execution_count": 13,
   "metadata": {},
   "outputs": [],
   "source": [
    "synonyms_by_gender = grammatical_gender_rft_batch([s for _, _, s in synonyms])"
   ]
  },
  {
   "cell_type": "code",
   "execution_count": 16,
   "metadata": {},
   "outputs": [
    {
     "name": "stdout",
     "output_type": "stream",
     "text": [
      "Schnorrer ['Zecke']\n",
      "Nassauer ['Zecke']\n",
      "Bettler ['Zecke']\n",
      "Schmarotzer ['Zecke']\n",
      "Dorfmatratze ['Kurtisane', 'Dirne', 'Dorfmatratze', 'Prostituierte', 'Gunstgewerblerin', 'Freudenmädchen', 'Bordsteinschwalbe', 'Nutte', 'Strichmädchen', 'Straßenmädchen', 'Hure', 'Entspannungsdame', 'Professionelle', 'Kokotte', 'Callgirl', 'Liebesdame', 'Liebesmädchen', 'Straßendirne', 'Straßenprostituierte', 'betreibt das älteste Gewerbe der Welt', 'eine, die es für Geld macht', 'Hartgeldnutte', 'Liebesdienerin', 'Sexarbeiterin', 'Edelnutte', 'Frau für spezielle Dienstleistungen', 'Hetäre', 'Musche', 'Horizontale', 'Sexdienstleisterin', 'Schnepfe', 'Lustdirne', 'Lohndirne', 'käufliches Mädchen', 'Anbieterin für sexuelle Dienstleistungen', 'leichtes Mädchen', 'Flittchen', 'Sünderin', 'Flitscherl']\n",
      "Bordsteinschwalbe ['Kurtisane', 'Dirne', 'Dorfmatratze', 'Prostituierte', 'Gunstgewerblerin', 'Freudenmädchen', 'Bordsteinschwalbe', 'Nutte', 'Strichmädchen', 'Straßenmädchen', 'Hure', 'Entspannungsdame', 'Professionelle', 'Kokotte', 'Callgirl', 'Liebesdame', 'Liebesmädchen', 'Straßendirne', 'Straßenprostituierte', 'betreibt das älteste Gewerbe der Welt', 'eine, die es für Geld macht', 'Hartgeldnutte', 'Liebesdienerin', 'Sexarbeiterin', 'Edelnutte', 'Frau für spezielle Dienstleistungen', 'Hetäre', 'Musche', 'Horizontale', 'Sexdienstleisterin', 'Schnepfe', 'Lustdirne', 'Lohndirne', 'käufliches Mädchen', 'Anbieterin für sexuelle Dienstleistungen']\n",
      "Tölpel ['Trampel', 'Pappnase', 'Rindvieh', 'Kasperl', 'Trampeltier', 'Niete', 'Hohlfigur', 'taube Nuss']\n",
      "Torfkopf ['Trampel', 'Niete', 'Hohlfigur', 'Pappnase', 'Rindvieh', 'taube Nuss']\n",
      "Dummkopf ['Trampel', 'Niete', 'Hohlfigur', 'Pappnase', 'Rindvieh', 'taube Nuss', 'Kasperl']\n",
      "Bulle ['päpstlicher Erlass', 'Enzyklika', 'Hünengestalt']\n",
      "Athlet ['Sportskanone']\n",
      "Sportler ['Sportskanone']\n",
      "Sportsmann ['Sportskanone']\n",
      "Lebensgefährte ['Ehehälfte', 'bessere Hälfte', 'Gespons', 'Ehegespons']\n",
      "Gatte ['Ehehälfte', 'bessere Hälfte', 'Gespons', 'Ehegespons']\n",
      "Lebenspartner ['Ehehälfte', 'bessere Hälfte']\n",
      "Ehepartner ['Ehehälfte', 'bessere Hälfte', 'Gespons', 'Ehegespons']\n",
      "Partner ['Ehehälfte', 'bessere Hälfte', 'Gespons', 'Ehegespons']\n",
      "Göttergatte ['Ehehälfte', 'bessere Hälfte']\n",
      "Tagedieb ['Hallodri', 'Faultier']\n"
     ]
    }
   ],
   "source": [
    "synonyms_nonmale = {}\n",
    "for _, male, synonym in synonyms:\n",
    "    if synonym in synonyms_by_gender[\"Fem\"] or synonym in synonyms_by_gender[\"Neut\"]:\n",
    "        add_to_dict(male, [synonym], synonyms_nonmale)\n",
    "\n",
    "for a, b in list(synonyms_nonmale.items())[:20]:\n",
    "    print(a, b)"
   ]
  },
  {
   "cell_type": "code",
   "execution_count": null,
   "metadata": {},
   "outputs": [],
   "source": []
  }
 ],
 "metadata": {
  "interpreter": {
   "hash": "f566310891052b77debb183af10cf167cb54a43894efa98362b5f88439dd0572"
  },
  "kernelspec": {
   "display_name": "Python 3.9.7 64-bit ('.venv': venv)",
   "name": "python3"
  },
  "language_info": {
   "codemirror_mode": {
    "name": "ipython",
    "version": 3
   },
   "file_extension": ".py",
   "mimetype": "text/x-python",
   "name": "python",
   "nbconvert_exporter": "python",
   "pygments_lexer": "ipython3",
   "version": "3.9.7"
  },
  "orig_nbformat": 4
 },
 "nbformat": 4,
 "nbformat_minor": 2
}
