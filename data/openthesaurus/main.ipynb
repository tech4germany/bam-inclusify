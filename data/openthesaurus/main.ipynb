{
 "cells": [
  {
   "cell_type": "code",
   "execution_count": 54,
   "metadata": {},
   "outputs": [],
   "source": [
    "from os import path\n",
    "from typing import *\n",
    "import itertools\n",
    "import pandas as pd\n",
    "import re\n",
    "import spacy\n",
    "import subprocess\n",
    "import sys\n",
    "\n",
    "sys.path.insert(0, \"..\")\n",
    "from helpers import add_to_dict, log\n",
    "from helpers_csv import csvs_to_dict, dict_to_csvs"
   ]
  },
  {
   "cell_type": "markdown",
   "metadata": {},
   "source": [
    "We download a MySQL dump from [OpenThesaurus](https://www.openthesaurus.de/about/download) and run the queries given in `queries.sql` against it. The results are saved in the `query_results` folder."
   ]
  },
  {
   "cell_type": "code",
   "execution_count": 55,
   "metadata": {},
   "outputs": [
    {
     "name": "stdout",
     "output_type": "stream",
     "text": [
      "[1776, 1862, 577, 90, 0, 0, 0]\n"
     ]
    }
   ],
   "source": [
    "iterations = []\n",
    "for i in range(0, 7):\n",
    "    df = pd.read_csv(path.join(\"query_results\", \"{}_iterations.csv\".format(i)))\n",
    "    previous = set(itertools.chain(*iterations))\n",
    "    values = set(df[\"word\"].values.tolist()).difference(previous)\n",
    "    values = list(filter(lambda x: re.match(r\"^[A-ZäÖÜ][a-zäöüß\\-]+$\", x), values))\n",
    "    iterations.append(values)\n",
    "\n",
    "print(list(map(len, iterations)))\n",
    "words = sorted(list(itertools.chain(*iterations)))"
   ]
  },
  {
   "cell_type": "code",
   "execution_count": 56,
   "metadata": {},
   "outputs": [
    {
     "data": {
      "text/plain": [
       "48635"
      ]
     },
     "execution_count": 56,
     "metadata": {},
     "output_type": "execute_result"
    }
   ],
   "source": [
    "open(\"openthesaurus_persons.csv\", \"w\").write(\"\\n\".join(words))"
   ]
  },
  {
   "cell_type": "code",
   "execution_count": 57,
   "metadata": {},
   "outputs": [
    {
     "name": "stdout",
     "output_type": "stream",
     "text": [
      "('Baum', ['Masc'])\n",
      "('Mädchen', ['Neut'])\n",
      "('Fachkraft', ['Fem'])\n",
      "('Manager', ['Masc'])\n",
      "('Managerin', ['Fem'])\n",
      "('Beamte', ['Masc'])\n",
      "('Beamtinnen', ['Fem'])\n",
      "('Leiter', ['Masc'])\n",
      "('Butter', ['Masc'])\n",
      "('Teller', [])\n",
      "('Kabbulmoffdi', ['Masc'])\n"
     ]
    }
   ],
   "source": [
    "nlp = spacy.load(\"de_core_news_sm\")\n",
    "\n",
    "\n",
    "def grammatical_gender(s: str) -> str:\n",
    "    return nlp(s)[0].morph.get(\"Gender\")\n",
    "\n",
    "\n",
    "print(\n",
    "    *list(\n",
    "        map(\n",
    "            lambda a: (a, grammatical_gender(a)),\n",
    "            [\n",
    "                \"Baum\",\n",
    "                \"Mädchen\",\n",
    "                \"Fachkraft\",\n",
    "                \"Manager\",\n",
    "                \"Managerin\",\n",
    "                \"Beamte\",\n",
    "                \"Beamtinnen\",\n",
    "                \"Leiter\",  # does not recognize gender of the second meaning\n",
    "                \"Butter\",  # recognized incorrectly as 'Masc'\n",
    "                \"Teller\",  # not recognized\n",
    "                \"Kabbulmoffdi\",  # not a word, but recognized as 'Masc'\n",
    "            ],\n",
    "        )\n",
    "    ),\n",
    "    sep=\"\\n\"\n",
    ")"
   ]
  },
  {
   "cell_type": "markdown",
   "metadata": {},
   "source": [
    "The grammatical gender detection of the chosen model is not very good in general, but since it is trained on news texts, it is hopefully good enough on person words."
   ]
  },
  {
   "cell_type": "code",
   "execution_count": 58,
   "metadata": {},
   "outputs": [],
   "source": [
    "genders = {}\n",
    "for word in words:\n",
    "    for gender in grammatical_gender(word):\n",
    "        add_to_dict(gender, [word], genders)"
   ]
  },
  {
   "cell_type": "code",
   "execution_count": 59,
   "metadata": {},
   "outputs": [
    {
     "data": {
      "text/html": [
       "<div>\n",
       "<style scoped>\n",
       "    .dataframe tbody tr th:only-of-type {\n",
       "        vertical-align: middle;\n",
       "    }\n",
       "\n",
       "    .dataframe tbody tr th {\n",
       "        vertical-align: top;\n",
       "    }\n",
       "\n",
       "    .dataframe thead th {\n",
       "        text-align: right;\n",
       "    }\n",
       "</style>\n",
       "<table border=\"1\" class=\"dataframe\">\n",
       "  <thead>\n",
       "    <tr style=\"text-align: right;\">\n",
       "      <th></th>\n",
       "      <th>0</th>\n",
       "      <th>1</th>\n",
       "      <th>2</th>\n",
       "      <th>3</th>\n",
       "      <th>4</th>\n",
       "      <th>5</th>\n",
       "      <th>6</th>\n",
       "      <th>7</th>\n",
       "      <th>8</th>\n",
       "      <th>9</th>\n",
       "      <th>...</th>\n",
       "      <th>2589</th>\n",
       "      <th>2590</th>\n",
       "      <th>2591</th>\n",
       "      <th>2592</th>\n",
       "      <th>2593</th>\n",
       "      <th>2594</th>\n",
       "      <th>2595</th>\n",
       "      <th>2596</th>\n",
       "      <th>2597</th>\n",
       "      <th>2598</th>\n",
       "    </tr>\n",
       "  </thead>\n",
       "  <tbody>\n",
       "    <tr>\n",
       "      <th>Masc</th>\n",
       "      <td>Aas</td>\n",
       "      <td>Aasgeier</td>\n",
       "      <td>Abdecker</td>\n",
       "      <td>Abenteurer</td>\n",
       "      <td>Abgeordneter</td>\n",
       "      <td>Abgesandter</td>\n",
       "      <td>Abgeschobener</td>\n",
       "      <td>Abkömmling</td>\n",
       "      <td>Abnicker</td>\n",
       "      <td>Abschiebehäftling</td>\n",
       "      <td>...</td>\n",
       "      <td>Zögerer</td>\n",
       "      <td>Zögling</td>\n",
       "      <td>Zöllner</td>\n",
       "      <td>Ökonom</td>\n",
       "      <td>Ösi</td>\n",
       "      <td>Österreicher</td>\n",
       "      <td>Übeltäter</td>\n",
       "      <td>Überbringer</td>\n",
       "      <td>Übermittler</td>\n",
       "      <td>Übungsleiter</td>\n",
       "    </tr>\n",
       "    <tr>\n",
       "      <th>Neut</th>\n",
       "      <td>Abkomme</td>\n",
       "      <td>Abstinent</td>\n",
       "      <td>Abzuschiebender</td>\n",
       "      <td>Adelige</td>\n",
       "      <td>Adept</td>\n",
       "      <td>Adonis</td>\n",
       "      <td>Afghane</td>\n",
       "      <td>Allesbesserwisser</td>\n",
       "      <td>Alter</td>\n",
       "      <td>Amtsleiter</td>\n",
       "      <td>...</td>\n",
       "      <td>None</td>\n",
       "      <td>None</td>\n",
       "      <td>None</td>\n",
       "      <td>None</td>\n",
       "      <td>None</td>\n",
       "      <td>None</td>\n",
       "      <td>None</td>\n",
       "      <td>None</td>\n",
       "      <td>None</td>\n",
       "      <td>None</td>\n",
       "    </tr>\n",
       "    <tr>\n",
       "      <th>Fem</th>\n",
       "      <td>Ablegat</td>\n",
       "      <td>Ahne</td>\n",
       "      <td>Ahnfrau</td>\n",
       "      <td>Ahnherrin</td>\n",
       "      <td>Akrobat</td>\n",
       "      <td>Almerin</td>\n",
       "      <td>Alterchen</td>\n",
       "      <td>Angie</td>\n",
       "      <td>Anlerntätigkeit</td>\n",
       "      <td>Anthropophage</td>\n",
       "      <td>...</td>\n",
       "      <td>None</td>\n",
       "      <td>None</td>\n",
       "      <td>None</td>\n",
       "      <td>None</td>\n",
       "      <td>None</td>\n",
       "      <td>None</td>\n",
       "      <td>None</td>\n",
       "      <td>None</td>\n",
       "      <td>None</td>\n",
       "      <td>None</td>\n",
       "    </tr>\n",
       "  </tbody>\n",
       "</table>\n",
       "<p>3 rows × 2599 columns</p>\n",
       "</div>"
      ],
      "text/plain": [
       "         0          1                2           3             4     \\\n",
       "Masc      Aas   Aasgeier         Abdecker  Abenteurer  Abgeordneter   \n",
       "Neut  Abkomme  Abstinent  Abzuschiebender     Adelige         Adept   \n",
       "Fem   Ablegat       Ahne          Ahnfrau   Ahnherrin       Akrobat   \n",
       "\n",
       "             5              6                  7                8     \\\n",
       "Masc  Abgesandter  Abgeschobener         Abkömmling         Abnicker   \n",
       "Neut       Adonis        Afghane  Allesbesserwisser            Alter   \n",
       "Fem       Almerin      Alterchen              Angie  Anlerntätigkeit   \n",
       "\n",
       "                   9     ...     2589     2590     2591    2592  2593  \\\n",
       "Masc  Abschiebehäftling  ...  Zögerer  Zögling  Zöllner  Ökonom   Ösi   \n",
       "Neut         Amtsleiter  ...     None     None     None    None  None   \n",
       "Fem       Anthropophage  ...     None     None     None    None  None   \n",
       "\n",
       "              2594       2595         2596         2597          2598  \n",
       "Masc  Österreicher  Übeltäter  Überbringer  Übermittler  Übungsleiter  \n",
       "Neut          None       None         None         None          None  \n",
       "Fem           None       None         None         None          None  \n",
       "\n",
       "[3 rows x 2599 columns]"
      ]
     },
     "execution_count": 59,
     "metadata": {},
     "output_type": "execute_result"
    }
   ],
   "source": [
    "pd.DataFrame.from_dict(genders, orient=\"index\")"
   ]
  },
  {
   "cell_type": "code",
   "execution_count": 60,
   "metadata": {},
   "outputs": [],
   "source": [
    "def grammatical_gender_rft_batch(tokens: List[str]) -> Dict[str, str]:\n",
    "    rftagger_path = \"../lib/RFTagger\"\n",
    "    temp_file = \"test/temp.txt\"\n",
    "    open(path.join(rftagger_path, temp_file), \"w\").write(\"\\n\".join(tokens))\n",
    "    result = subprocess.run(\n",
    "        [\"src/rft-annotate\", \"lib/german.par\", temp_file],\n",
    "        cwd=rftagger_path,\n",
    "        capture_output=True,\n",
    "    )\n",
    "    result = result.stdout.decode(\"UTF-8\")\n",
    "    dic = {}\n",
    "    for line in result.split(\"\\n\"):\n",
    "        matches = re.findall(r\"^.*\\t\", line)\n",
    "        if len(matches) > 0 and len(matches[0]) > 1:\n",
    "            word = matches[0][:-1]\n",
    "            # spacy_genders = grammatical_gender(word)\n",
    "            rft_genders = re.findall(r\"Masc|Fem|Neut\", line)\n",
    "            if len(rft_genders) == 1:\n",
    "                rft_gender = rft_genders[0]\n",
    "                # spacy_gender = spacy_genders[0]\n",
    "                # if rft_gender == spacy_gender:\n",
    "                add_to_dict(rft_gender, [word], dic)\n",
    "    return dic\n",
    "\n",
    "\n",
    "genders = grammatical_gender_rft_batch(words)"
   ]
  },
  {
   "cell_type": "code",
   "execution_count": 61,
   "metadata": {},
   "outputs": [
    {
     "name": "stdout",
     "output_type": "stream",
     "text": [
      "('Baum', ['Masc'])\n",
      "('Mädchen', ['Neut'])\n",
      "('Fachkraft', ['Fem'])\n",
      "('Manager', ['Masc'])\n",
      "('Managerin', ['Fem'])\n",
      "('Beamte', ['Masc'])\n",
      "('Beamtinnen', ['Fem'])\n",
      "('Leiter', ['Masc'])\n",
      "('Butter', ['Fem'])\n",
      "('Teller', ['Masc'])\n",
      "('Kabbulmoffdi', ['Neut'])\n"
     ]
    }
   ],
   "source": [
    "print(\n",
    "    *list(\n",
    "        map(\n",
    "            lambda a: (a, list(grammatical_gender_rft_batch([a]).keys())),\n",
    "            [\n",
    "                \"Baum\",\n",
    "                \"Mädchen\",\n",
    "                \"Fachkraft\",\n",
    "                \"Manager\",\n",
    "                \"Managerin\",\n",
    "                \"Beamte\",\n",
    "                \"Beamtinnen\",\n",
    "                \"Leiter\",  # does not recognize gender of the second meaning\n",
    "                \"Butter\",\n",
    "                \"Teller\",\n",
    "                \"Kabbulmoffdi\",  # not a word, but recognized as 'Neut'\n",
    "            ],\n",
    "        )\n",
    "    ),\n",
    "    sep=\"\\n\"\n",
    ")"
   ]
  },
  {
   "cell_type": "code",
   "execution_count": 62,
   "metadata": {},
   "outputs": [
    {
     "data": {
      "text/html": [
       "<div>\n",
       "<style scoped>\n",
       "    .dataframe tbody tr th:only-of-type {\n",
       "        vertical-align: middle;\n",
       "    }\n",
       "\n",
       "    .dataframe tbody tr th {\n",
       "        vertical-align: top;\n",
       "    }\n",
       "\n",
       "    .dataframe thead th {\n",
       "        text-align: right;\n",
       "    }\n",
       "</style>\n",
       "<table border=\"1\" class=\"dataframe\">\n",
       "  <thead>\n",
       "    <tr style=\"text-align: right;\">\n",
       "      <th></th>\n",
       "      <th>0</th>\n",
       "      <th>1</th>\n",
       "      <th>2</th>\n",
       "      <th>3</th>\n",
       "      <th>4</th>\n",
       "      <th>5</th>\n",
       "      <th>6</th>\n",
       "      <th>7</th>\n",
       "      <th>8</th>\n",
       "      <th>9</th>\n",
       "      <th>...</th>\n",
       "      <th>3477</th>\n",
       "      <th>3478</th>\n",
       "      <th>3479</th>\n",
       "      <th>3480</th>\n",
       "      <th>3481</th>\n",
       "      <th>3482</th>\n",
       "      <th>3483</th>\n",
       "      <th>3484</th>\n",
       "      <th>3485</th>\n",
       "      <th>3486</th>\n",
       "    </tr>\n",
       "  </thead>\n",
       "  <tbody>\n",
       "    <tr>\n",
       "      <th>Masc</th>\n",
       "      <td>Aasgeier</td>\n",
       "      <td>Abdecker</td>\n",
       "      <td>Abenteurer</td>\n",
       "      <td>Abgeordneter</td>\n",
       "      <td>Abkömmling</td>\n",
       "      <td>Abnicker</td>\n",
       "      <td>Absolutist</td>\n",
       "      <td>Abstinenzler</td>\n",
       "      <td>Abteilungsleiter</td>\n",
       "      <td>Abtrünniger</td>\n",
       "      <td>...</td>\n",
       "      <td>Zögling</td>\n",
       "      <td>Zöllner</td>\n",
       "      <td>Ökonom</td>\n",
       "      <td>Ösi</td>\n",
       "      <td>Österreicher</td>\n",
       "      <td>Übelmann</td>\n",
       "      <td>Übeltäter</td>\n",
       "      <td>Überbringer</td>\n",
       "      <td>Übermittler</td>\n",
       "      <td>Übungsleiter</td>\n",
       "    </tr>\n",
       "    <tr>\n",
       "      <th>Fem</th>\n",
       "      <td>Abgesandter</td>\n",
       "      <td>Abkomme</td>\n",
       "      <td>Adoptivtochter</td>\n",
       "      <td>Ahnfrau</td>\n",
       "      <td>Ahnherrin</td>\n",
       "      <td>Amtsperson</td>\n",
       "      <td>Angetraute</td>\n",
       "      <td>Angie</td>\n",
       "      <td>Ansprechperson</td>\n",
       "      <td>Arbeitskraft</td>\n",
       "      <td>...</td>\n",
       "      <td>None</td>\n",
       "      <td>None</td>\n",
       "      <td>None</td>\n",
       "      <td>None</td>\n",
       "      <td>None</td>\n",
       "      <td>None</td>\n",
       "      <td>None</td>\n",
       "      <td>None</td>\n",
       "      <td>None</td>\n",
       "      <td>None</td>\n",
       "    </tr>\n",
       "    <tr>\n",
       "      <th>Neut</th>\n",
       "      <td>Adoptivkind</td>\n",
       "      <td>Alter</td>\n",
       "      <td>Alterchen</td>\n",
       "      <td>Anerkennungsjahr</td>\n",
       "      <td>Arschloch</td>\n",
       "      <td>Assassine</td>\n",
       "      <td>Barbier</td>\n",
       "      <td>Berufsanerkennungsjahr</td>\n",
       "      <td>Berufspraktikum</td>\n",
       "      <td>Betthupferl</td>\n",
       "      <td>...</td>\n",
       "      <td>None</td>\n",
       "      <td>None</td>\n",
       "      <td>None</td>\n",
       "      <td>None</td>\n",
       "      <td>None</td>\n",
       "      <td>None</td>\n",
       "      <td>None</td>\n",
       "      <td>None</td>\n",
       "      <td>None</td>\n",
       "      <td>None</td>\n",
       "    </tr>\n",
       "  </tbody>\n",
       "</table>\n",
       "<p>3 rows × 3487 columns</p>\n",
       "</div>"
      ],
      "text/plain": [
       "             0         1               2                 3           4     \\\n",
       "Masc     Aasgeier  Abdecker      Abenteurer      Abgeordneter  Abkömmling   \n",
       "Fem   Abgesandter   Abkomme  Adoptivtochter           Ahnfrau   Ahnherrin   \n",
       "Neut  Adoptivkind     Alter       Alterchen  Anerkennungsjahr   Arschloch   \n",
       "\n",
       "            5           6                       7                 8     \\\n",
       "Masc    Abnicker  Absolutist            Abstinenzler  Abteilungsleiter   \n",
       "Fem   Amtsperson  Angetraute                   Angie    Ansprechperson   \n",
       "Neut   Assassine     Barbier  Berufsanerkennungsjahr   Berufspraktikum   \n",
       "\n",
       "              9     ...     3477     3478    3479  3480          3481  \\\n",
       "Masc   Abtrünniger  ...  Zögling  Zöllner  Ökonom   Ösi  Österreicher   \n",
       "Fem   Arbeitskraft  ...     None     None    None  None          None   \n",
       "Neut   Betthupferl  ...     None     None    None  None          None   \n",
       "\n",
       "          3482       3483         3484         3485          3486  \n",
       "Masc  Übelmann  Übeltäter  Überbringer  Übermittler  Übungsleiter  \n",
       "Fem       None       None         None         None          None  \n",
       "Neut      None       None         None         None          None  \n",
       "\n",
       "[3 rows x 3487 columns]"
      ]
     },
     "execution_count": 62,
     "metadata": {},
     "output_type": "execute_result"
    }
   ],
   "source": [
    "pd.DataFrame.from_dict(genders, orient=\"index\")"
   ]
  },
  {
   "cell_type": "markdown",
   "metadata": {},
   "source": [
    "This is still far from perfect, but better than the Spacy model. Future work could use [deep-german](https://github.com/aakhundov/deep-german), but I have Mac-specific trouble installing it at the moment."
   ]
  },
  {
   "cell_type": "code",
   "execution_count": 63,
   "metadata": {},
   "outputs": [
    {
     "data": {
      "text/plain": [
       "39970"
      ]
     },
     "execution_count": 63,
     "metadata": {},
     "output_type": "execute_result"
    }
   ],
   "source": [
    "open(\"openthesaurus_persons_male_sg.csv\", \"w\").write(\"\\n\".join(genders[\"Masc\"]))"
   ]
  },
  {
   "cell_type": "markdown",
   "metadata": {},
   "source": [
    "Next, we use opentheasurus once more to retrieve synonyms for the male-person words that we have found above. We create a new table `male_persons` with the single column `male_person`and import `openthesaurus_persons_male_sg.csv`. Then we run, and save the result in `query_results/synonyms.csv`:\n",
    "\n",
    "```sql\n",
    "select mp.male_person, t2.word as synonym from \n",
    "male_persons mp\n",
    "join term t1 on mp.male_person = t1.word\n",
    "join term t2 on t1.synset_id = t2.synset_id;\n",
    "```"
   ]
  },
  {
   "cell_type": "code",
   "execution_count": 64,
   "metadata": {},
   "outputs": [
    {
     "data": {
      "text/html": [
       "<div>\n",
       "<style scoped>\n",
       "    .dataframe tbody tr th:only-of-type {\n",
       "        vertical-align: middle;\n",
       "    }\n",
       "\n",
       "    .dataframe tbody tr th {\n",
       "        vertical-align: top;\n",
       "    }\n",
       "\n",
       "    .dataframe thead th {\n",
       "        text-align: right;\n",
       "    }\n",
       "</style>\n",
       "<table border=\"1\" class=\"dataframe\">\n",
       "  <thead>\n",
       "    <tr style=\"text-align: right;\">\n",
       "      <th></th>\n",
       "      <th>male_person</th>\n",
       "      <th>synonym</th>\n",
       "    </tr>\n",
       "  </thead>\n",
       "  <tbody>\n",
       "    <tr>\n",
       "      <th>0</th>\n",
       "      <td>Urmensch</td>\n",
       "      <td>Mensch der Altsteinzeit</td>\n",
       "    </tr>\n",
       "    <tr>\n",
       "      <th>1</th>\n",
       "      <td>Urmensch</td>\n",
       "      <td>Urmensch</td>\n",
       "    </tr>\n",
       "    <tr>\n",
       "      <th>2</th>\n",
       "      <td>Auftraggeber</td>\n",
       "      <td>Auftraggeber</td>\n",
       "    </tr>\n",
       "    <tr>\n",
       "      <th>3</th>\n",
       "      <td>Auftraggeber</td>\n",
       "      <td>Kunde</td>\n",
       "    </tr>\n",
       "    <tr>\n",
       "      <th>4</th>\n",
       "      <td>Auftraggeber</td>\n",
       "      <td>Mandant</td>\n",
       "    </tr>\n",
       "  </tbody>\n",
       "</table>\n",
       "</div>"
      ],
      "text/plain": [
       "    male_person                  synonym\n",
       "0      Urmensch  Mensch der Altsteinzeit\n",
       "1      Urmensch                 Urmensch\n",
       "2  Auftraggeber             Auftraggeber\n",
       "3  Auftraggeber                    Kunde\n",
       "4  Auftraggeber                  Mandant"
      ]
     },
     "execution_count": 64,
     "metadata": {},
     "output_type": "execute_result"
    }
   ],
   "source": [
    "df = pd.read_csv(path.join(\"query_results\", \"synonyms.csv\"))\n",
    "df.head()"
   ]
  },
  {
   "cell_type": "code",
   "execution_count": 65,
   "metadata": {},
   "outputs": [
    {
     "data": {
      "text/plain": [
       "rec.array([(0, 'Urmensch', 'Mensch der Altsteinzeit'),\n",
       "           (1, 'Urmensch', 'Urmensch'),\n",
       "           (2, 'Auftraggeber', 'Auftraggeber'),\n",
       "           (3, 'Auftraggeber', 'Kunde'), (4, 'Auftraggeber', 'Mandant'),\n",
       "           (5, 'Auftraggeber', 'Adressat'), (6, 'Kunde', 'Auftraggeber'),\n",
       "           (7, 'Kunde', 'Kunde'), (8, 'Kunde', 'Mandant'),\n",
       "           (9, 'Kunde', 'Adressat')],\n",
       "          dtype=[('index', '<i8'), ('male_person', 'O'), ('synonym', 'O')])"
      ]
     },
     "execution_count": 65,
     "metadata": {},
     "output_type": "execute_result"
    }
   ],
   "source": [
    "synonyms = df.to_records()\n",
    "synonyms[:10]"
   ]
  },
  {
   "cell_type": "code",
   "execution_count": 66,
   "metadata": {},
   "outputs": [],
   "source": [
    "synonyms_by_gender = grammatical_gender_rft_batch([s for _, _, s in synonyms])"
   ]
  },
  {
   "cell_type": "code",
   "execution_count": null,
   "metadata": {},
   "outputs": [],
   "source": [
    "synonyms_nonmale = {}\n",
    "for _, male, synonym in synonyms:\n",
    "    if synonym in synonyms_by_gender[\"Fem\"] or synonym in synonyms_by_gender[\"Neut\"]:\n",
    "        add_to_dict(male, [synonym], synonyms_nonmale)\n",
    "\n",
    "# for a, b in synonyms_nonmale.items():\n",
    "#     print(a, b)"
   ]
  }
 ],
 "metadata": {
  "interpreter": {
   "hash": "95bedcfbd13951187b69ec62defd411ebf202d41ec39fb8571ad901e1b39c86f"
  },
  "kernelspec": {
   "display_name": "Python 3.9.7 64-bit ('.venv': venv)",
   "name": "python3"
  },
  "language_info": {
   "codemirror_mode": {
    "name": "ipython",
    "version": 3
   },
   "file_extension": ".py",
   "mimetype": "text/x-python",
   "name": "python",
   "nbconvert_exporter": "python",
   "pygments_lexer": "ipython3",
   "version": "3.9.7"
  },
  "orig_nbformat": 4
 },
 "nbformat": 4,
 "nbformat_minor": 2
}
