{
 "cells": [
  {
   "cell_type": "code",
   "execution_count": 17,
   "source": [
    "from os import path\n",
    "from typing import *\n",
    "import itertools\n",
    "import pandas as pd\n",
    "import re\n",
    "import spacy\n",
    "import subprocess\n",
    "import sys\n",
    "sys.path.insert(0,'../..')\n",
    "from shared import add_to_dict, log"
   ],
   "outputs": [],
   "metadata": {}
  },
  {
   "cell_type": "code",
   "execution_count": 3,
   "source": [
    "iterations = []\n",
    "for i in range(0, 7):\n",
    "    df = pd.read_csv(path.join(\"query_results\", \"{}_iterations.csv\".format(i)))\n",
    "    previous = set(itertools.chain(*iterations))\n",
    "    values = set(df[\"word\"].values.tolist()).difference(previous)\n",
    "    values = list(filter(lambda x: re.match(r\"^[A-ZäÖÜ][a-zäöüß\\-]+$\", x), values))\n",
    "    iterations.append(values)\n",
    "\n",
    "print(list(map(len, iterations)))\n",
    "words = sorted(list(itertools.chain(*iterations)))\n"
   ],
   "outputs": [
    {
     "output_type": "stream",
     "name": "stdout",
     "text": [
      "[1776, 1862, 577, 90, 0, 0, 0]\n"
     ]
    }
   ],
   "metadata": {}
  },
  {
   "cell_type": "code",
   "execution_count": 4,
   "source": [
    "open(\"openthesaurus_persons.csv\", \"w\").write(\"\\n\".join(words))"
   ],
   "outputs": [
    {
     "output_type": "execute_result",
     "data": {
      "text/plain": [
       "48635"
      ]
     },
     "metadata": {},
     "execution_count": 4
    }
   ],
   "metadata": {}
  },
  {
   "cell_type": "code",
   "execution_count": 5,
   "source": [
    "nlp = spacy.load(\"de_core_news_sm\")\n",
    "\n",
    "def grammatical_gender(s: str) -> str:\n",
    "    return nlp(s)[0].morph.get(\"Gender\")\n",
    "\n",
    "print(*list(map(\n",
    "    lambda a: (a, grammatical_gender(a)),\n",
    "    [\n",
    "        \"Baum\",\n",
    "        \"Mädchen\",\n",
    "        \"Fachkraft\",\n",
    "        \"Manager\",\n",
    "        \"Managerin\",\n",
    "        \"Beamte\",\n",
    "        \"Beamtinnen\",\n",
    "        \"Leiter\", # does not recognize gender of the second meaning\n",
    "        \"Butter\", # recognized incorrectly as 'Masc'\n",
    "        \"Teller\", # not recognized\n",
    "        \"Kabbulmoffdi\" # not a word, but recognized as 'Masc'\n",
    "    ]\n",
    ")), sep=\"\\n\")"
   ],
   "outputs": [
    {
     "output_type": "stream",
     "name": "stdout",
     "text": [
      "('Baum', ['Masc'])\n",
      "('Mädchen', ['Neut'])\n",
      "('Fachkraft', ['Fem'])\n",
      "('Manager', ['Masc'])\n",
      "('Managerin', ['Fem'])\n",
      "('Beamte', ['Masc'])\n",
      "('Beamtinnen', ['Fem'])\n",
      "('Leiter', ['Masc'])\n",
      "('Butter', ['Masc'])\n",
      "('Teller', [])\n",
      "('Kabbulmoffdi', ['Masc'])\n"
     ]
    }
   ],
   "metadata": {}
  },
  {
   "cell_type": "markdown",
   "source": [
    "The grammatical gender detection of the chosen model is not very good in general, but since it is trained on news texts, it is hopefully good enough on person words."
   ],
   "metadata": {}
  },
  {
   "cell_type": "code",
   "execution_count": 6,
   "source": [
    "genders = {}\n",
    "for word in words:\n",
    "    for gender in grammatical_gender(word):\n",
    "        add_to_dict(gender, [word], genders)\n"
   ],
   "outputs": [],
   "metadata": {}
  },
  {
   "cell_type": "code",
   "execution_count": 7,
   "source": [
    "pd.DataFrame.from_dict(genders, orient=\"index\")"
   ],
   "outputs": [
    {
     "output_type": "execute_result",
     "data": {
      "text/html": [
       "<div>\n",
       "<style scoped>\n",
       "    .dataframe tbody tr th:only-of-type {\n",
       "        vertical-align: middle;\n",
       "    }\n",
       "\n",
       "    .dataframe tbody tr th {\n",
       "        vertical-align: top;\n",
       "    }\n",
       "\n",
       "    .dataframe thead th {\n",
       "        text-align: right;\n",
       "    }\n",
       "</style>\n",
       "<table border=\"1\" class=\"dataframe\">\n",
       "  <thead>\n",
       "    <tr style=\"text-align: right;\">\n",
       "      <th></th>\n",
       "      <th>0</th>\n",
       "      <th>1</th>\n",
       "      <th>2</th>\n",
       "      <th>3</th>\n",
       "      <th>4</th>\n",
       "      <th>5</th>\n",
       "      <th>6</th>\n",
       "      <th>7</th>\n",
       "      <th>8</th>\n",
       "      <th>9</th>\n",
       "      <th>...</th>\n",
       "      <th>2589</th>\n",
       "      <th>2590</th>\n",
       "      <th>2591</th>\n",
       "      <th>2592</th>\n",
       "      <th>2593</th>\n",
       "      <th>2594</th>\n",
       "      <th>2595</th>\n",
       "      <th>2596</th>\n",
       "      <th>2597</th>\n",
       "      <th>2598</th>\n",
       "    </tr>\n",
       "  </thead>\n",
       "  <tbody>\n",
       "    <tr>\n",
       "      <th>Masc</th>\n",
       "      <td>Aas</td>\n",
       "      <td>Aasgeier</td>\n",
       "      <td>Abdecker</td>\n",
       "      <td>Abenteurer</td>\n",
       "      <td>Abgeordneter</td>\n",
       "      <td>Abgesandter</td>\n",
       "      <td>Abgeschobener</td>\n",
       "      <td>Abkömmling</td>\n",
       "      <td>Abnicker</td>\n",
       "      <td>Abschiebehäftling</td>\n",
       "      <td>...</td>\n",
       "      <td>Zögerer</td>\n",
       "      <td>Zögling</td>\n",
       "      <td>Zöllner</td>\n",
       "      <td>Ökonom</td>\n",
       "      <td>Ösi</td>\n",
       "      <td>Österreicher</td>\n",
       "      <td>Übeltäter</td>\n",
       "      <td>Überbringer</td>\n",
       "      <td>Übermittler</td>\n",
       "      <td>Übungsleiter</td>\n",
       "    </tr>\n",
       "    <tr>\n",
       "      <th>Neut</th>\n",
       "      <td>Abkomme</td>\n",
       "      <td>Abstinent</td>\n",
       "      <td>Abzuschiebender</td>\n",
       "      <td>Adelige</td>\n",
       "      <td>Adept</td>\n",
       "      <td>Adonis</td>\n",
       "      <td>Afghane</td>\n",
       "      <td>Allesbesserwisser</td>\n",
       "      <td>Alter</td>\n",
       "      <td>Amtsleiter</td>\n",
       "      <td>...</td>\n",
       "      <td>None</td>\n",
       "      <td>None</td>\n",
       "      <td>None</td>\n",
       "      <td>None</td>\n",
       "      <td>None</td>\n",
       "      <td>None</td>\n",
       "      <td>None</td>\n",
       "      <td>None</td>\n",
       "      <td>None</td>\n",
       "      <td>None</td>\n",
       "    </tr>\n",
       "    <tr>\n",
       "      <th>Fem</th>\n",
       "      <td>Ablegat</td>\n",
       "      <td>Ahne</td>\n",
       "      <td>Ahnfrau</td>\n",
       "      <td>Ahnherrin</td>\n",
       "      <td>Akrobat</td>\n",
       "      <td>Almerin</td>\n",
       "      <td>Alterchen</td>\n",
       "      <td>Angie</td>\n",
       "      <td>Anlerntätigkeit</td>\n",
       "      <td>Anthropophage</td>\n",
       "      <td>...</td>\n",
       "      <td>None</td>\n",
       "      <td>None</td>\n",
       "      <td>None</td>\n",
       "      <td>None</td>\n",
       "      <td>None</td>\n",
       "      <td>None</td>\n",
       "      <td>None</td>\n",
       "      <td>None</td>\n",
       "      <td>None</td>\n",
       "      <td>None</td>\n",
       "    </tr>\n",
       "  </tbody>\n",
       "</table>\n",
       "<p>3 rows × 2599 columns</p>\n",
       "</div>"
      ],
      "text/plain": [
       "         0          1                2           3             4     \\\n",
       "Masc      Aas   Aasgeier         Abdecker  Abenteurer  Abgeordneter   \n",
       "Neut  Abkomme  Abstinent  Abzuschiebender     Adelige         Adept   \n",
       "Fem   Ablegat       Ahne          Ahnfrau   Ahnherrin       Akrobat   \n",
       "\n",
       "             5              6                  7                8     \\\n",
       "Masc  Abgesandter  Abgeschobener         Abkömmling         Abnicker   \n",
       "Neut       Adonis        Afghane  Allesbesserwisser            Alter   \n",
       "Fem       Almerin      Alterchen              Angie  Anlerntätigkeit   \n",
       "\n",
       "                   9     ...     2589     2590     2591    2592  2593  \\\n",
       "Masc  Abschiebehäftling  ...  Zögerer  Zögling  Zöllner  Ökonom   Ösi   \n",
       "Neut         Amtsleiter  ...     None     None     None    None  None   \n",
       "Fem       Anthropophage  ...     None     None     None    None  None   \n",
       "\n",
       "              2594       2595         2596         2597          2598  \n",
       "Masc  Österreicher  Übeltäter  Überbringer  Übermittler  Übungsleiter  \n",
       "Neut          None       None         None         None          None  \n",
       "Fem           None       None         None         None          None  \n",
       "\n",
       "[3 rows x 2599 columns]"
      ]
     },
     "metadata": {},
     "execution_count": 7
    }
   ],
   "metadata": {}
  },
  {
   "cell_type": "code",
   "execution_count": 34,
   "source": [
    "def grammatical_gender_rft_batch(tokens: List[str]) -> Dict[str, str]:\n",
    "    temp_file = path.join(rftagger_path, \"test/temp.txt\")\n",
    "    open(temp_file, \"w\").write(\"\\n\".join(tokens))\n",
    "    result = subprocess.run([\"src/rft-annotate\", \"lib/german.par\", temp_file], cwd=rftagger_path, capture_output=True)\n",
    "    result = result.stdout.decode(\"UTF-8\")\n",
    "    dic = {}\n",
    "    for line in result.split(\"\\n\"):\n",
    "        matches = re.findall(r\"^.*\\t\", line)\n",
    "        if len(matches) > 0 and len(matches[0]) > 1:\n",
    "            word = matches[0][:-1]\n",
    "            if re.match(\".*Masc.*\", line):\n",
    "                add_to_dict(\"Masc\", [word], dic)\n",
    "            if re.match(\".*Fem.*\", line):\n",
    "                add_to_dict(\"Fem\", [word], dic)\n",
    "            if re.match(\".*Neut.*\", line):\n",
    "                add_to_dict(\"Neut\", [word], dic)\n",
    "    return dic\n",
    "\n",
    "genders = grammatical_gender_rft_batch(words)"
   ],
   "outputs": [],
   "metadata": {}
  },
  {
   "cell_type": "code",
   "execution_count": 37,
   "source": [
    "print(*list(map(\n",
    "    lambda a: (a, list(grammatical_gender_rft_batch([a]).keys())[0]),\n",
    "    [\n",
    "        \"Baum\",\n",
    "        \"Mädchen\",\n",
    "        \"Fachkraft\",\n",
    "        \"Manager\",\n",
    "        \"Managerin\",\n",
    "        \"Beamte\",\n",
    "        \"Beamtinnen\",\n",
    "        \"Leiter\", # does not recognize gender of the second meaning\n",
    "        \"Butter\",\n",
    "        \"Teller\",\n",
    "        \"Kabbulmoffdi\" # not a word, but recognized as 'Neut'\n",
    "    ]\n",
    ")), sep=\"\\n\")"
   ],
   "outputs": [
    {
     "output_type": "stream",
     "name": "stdout",
     "text": [
      "('Baum', 'Masc')\n",
      "('Mädchen', 'Neut')\n",
      "('Fachkraft', 'Fem')\n",
      "('Manager', 'Masc')\n",
      "('Managerin', 'Fem')\n",
      "('Beamte', 'Masc')\n",
      "('Beamtinnen', 'Fem')\n",
      "('Leiter', 'Masc')\n",
      "('Butter', 'Fem')\n",
      "('Teller', 'Masc')\n",
      "('Kabbulmoffdi', 'Neut')\n"
     ]
    }
   ],
   "metadata": {}
  },
  {
   "cell_type": "code",
   "execution_count": 32,
   "source": [
    "\n",
    "pd.DataFrame.from_dict(genders, orient=\"index\")"
   ],
   "outputs": [
    {
     "output_type": "execute_result",
     "data": {
      "text/html": [
       "<div>\n",
       "<style scoped>\n",
       "    .dataframe tbody tr th:only-of-type {\n",
       "        vertical-align: middle;\n",
       "    }\n",
       "\n",
       "    .dataframe tbody tr th {\n",
       "        vertical-align: top;\n",
       "    }\n",
       "\n",
       "    .dataframe thead th {\n",
       "        text-align: right;\n",
       "    }\n",
       "</style>\n",
       "<table border=\"1\" class=\"dataframe\">\n",
       "  <thead>\n",
       "    <tr style=\"text-align: right;\">\n",
       "      <th></th>\n",
       "      <th>0</th>\n",
       "      <th>1</th>\n",
       "      <th>2</th>\n",
       "      <th>3</th>\n",
       "      <th>4</th>\n",
       "      <th>5</th>\n",
       "      <th>6</th>\n",
       "      <th>7</th>\n",
       "      <th>8</th>\n",
       "      <th>9</th>\n",
       "      <th>...</th>\n",
       "      <th>3480</th>\n",
       "      <th>3481</th>\n",
       "      <th>3482</th>\n",
       "      <th>3483</th>\n",
       "      <th>3484</th>\n",
       "      <th>3485</th>\n",
       "      <th>3486</th>\n",
       "      <th>3487</th>\n",
       "      <th>3488</th>\n",
       "      <th>3489</th>\n",
       "    </tr>\n",
       "  </thead>\n",
       "  <tbody>\n",
       "    <tr>\n",
       "      <th>Masc</th>\n",
       "      <td>Aasgeier</td>\n",
       "      <td>Abdecker</td>\n",
       "      <td>Abenteurer</td>\n",
       "      <td>Abgeordneter</td>\n",
       "      <td>Abkömmling</td>\n",
       "      <td>Abnicker</td>\n",
       "      <td>Absolutist</td>\n",
       "      <td>Abstinenzler</td>\n",
       "      <td>Abteilungsleiter</td>\n",
       "      <td>Abtrünniger</td>\n",
       "      <td>...</td>\n",
       "      <td>Zögling</td>\n",
       "      <td>Zöllner</td>\n",
       "      <td>Ökonom</td>\n",
       "      <td>Ösi</td>\n",
       "      <td>Österreicher</td>\n",
       "      <td>Übelmann</td>\n",
       "      <td>Übeltäter</td>\n",
       "      <td>Überbringer</td>\n",
       "      <td>Übermittler</td>\n",
       "      <td>Übungsleiter</td>\n",
       "    </tr>\n",
       "    <tr>\n",
       "      <th>Fem</th>\n",
       "      <td>Abgesandter</td>\n",
       "      <td>Abkomme</td>\n",
       "      <td>Adoptivtochter</td>\n",
       "      <td>Ahnfrau</td>\n",
       "      <td>Ahnherrin</td>\n",
       "      <td>Amtsperson</td>\n",
       "      <td>Angetraute</td>\n",
       "      <td>Angie</td>\n",
       "      <td>Ansprechperson</td>\n",
       "      <td>Arbeitskraft</td>\n",
       "      <td>...</td>\n",
       "      <td>None</td>\n",
       "      <td>None</td>\n",
       "      <td>None</td>\n",
       "      <td>None</td>\n",
       "      <td>None</td>\n",
       "      <td>None</td>\n",
       "      <td>None</td>\n",
       "      <td>None</td>\n",
       "      <td>None</td>\n",
       "      <td>None</td>\n",
       "    </tr>\n",
       "    <tr>\n",
       "      <th>Neut</th>\n",
       "      <td>Adoptivkind</td>\n",
       "      <td>Alter</td>\n",
       "      <td>Alterchen</td>\n",
       "      <td>Anerkennungsjahr</td>\n",
       "      <td>Arschloch</td>\n",
       "      <td>Assassine</td>\n",
       "      <td>Barbier</td>\n",
       "      <td>Berufsanerkennungsjahr</td>\n",
       "      <td>Berufspraktikum</td>\n",
       "      <td>Betthupferl</td>\n",
       "      <td>...</td>\n",
       "      <td>None</td>\n",
       "      <td>None</td>\n",
       "      <td>None</td>\n",
       "      <td>None</td>\n",
       "      <td>None</td>\n",
       "      <td>None</td>\n",
       "      <td>None</td>\n",
       "      <td>None</td>\n",
       "      <td>None</td>\n",
       "      <td>None</td>\n",
       "    </tr>\n",
       "  </tbody>\n",
       "</table>\n",
       "<p>3 rows × 3490 columns</p>\n",
       "</div>"
      ],
      "text/plain": [
       "             0         1               2                 3           4     \\\n",
       "Masc     Aasgeier  Abdecker      Abenteurer      Abgeordneter  Abkömmling   \n",
       "Fem   Abgesandter   Abkomme  Adoptivtochter           Ahnfrau   Ahnherrin   \n",
       "Neut  Adoptivkind     Alter       Alterchen  Anerkennungsjahr   Arschloch   \n",
       "\n",
       "            5           6                       7                 8     \\\n",
       "Masc    Abnicker  Absolutist            Abstinenzler  Abteilungsleiter   \n",
       "Fem   Amtsperson  Angetraute                   Angie    Ansprechperson   \n",
       "Neut   Assassine     Barbier  Berufsanerkennungsjahr   Berufspraktikum   \n",
       "\n",
       "              9     ...     3480     3481    3482  3483          3484  \\\n",
       "Masc   Abtrünniger  ...  Zögling  Zöllner  Ökonom   Ösi  Österreicher   \n",
       "Fem   Arbeitskraft  ...     None     None    None  None          None   \n",
       "Neut   Betthupferl  ...     None     None    None  None          None   \n",
       "\n",
       "          3485       3486         3487         3488          3489  \n",
       "Masc  Übelmann  Übeltäter  Überbringer  Übermittler  Übungsleiter  \n",
       "Fem       None       None         None         None          None  \n",
       "Neut      None       None         None         None          None  \n",
       "\n",
       "[3 rows x 3490 columns]"
      ]
     },
     "metadata": {},
     "execution_count": 32
    }
   ],
   "metadata": {}
  },
  {
   "cell_type": "markdown",
   "source": [
    "This is still far from perfect, but better than the Spacy model. Future work could use [deep-german](https://github.com/aakhundov/deep-german), but I have Mac-specific trouble installing it at the moment."
   ],
   "metadata": {}
  },
  {
   "cell_type": "code",
   "execution_count": 38,
   "source": [
    "open(\"openthesaurus_persons_male_sg.csv\", \"w\").write(\"\\n\".join(genders[\"Masc\"]))"
   ],
   "outputs": [
    {
     "output_type": "execute_result",
     "data": {
      "text/plain": [
       "40027"
      ]
     },
     "metadata": {},
     "execution_count": 38
    }
   ],
   "metadata": {}
  }
 ],
 "metadata": {
  "orig_nbformat": 4,
  "language_info": {
   "name": "python",
   "version": "3.9.7",
   "mimetype": "text/x-python",
   "codemirror_mode": {
    "name": "ipython",
    "version": 3
   },
   "pygments_lexer": "ipython3",
   "nbconvert_exporter": "python",
   "file_extension": ".py"
  },
  "kernelspec": {
   "name": "python3",
   "display_name": "Python 3.9.7 64-bit ('.venv': venv)"
  },
  "interpreter": {
   "hash": "95bedcfbd13951187b69ec62defd411ebf202d41ec39fb8571ad901e1b39c86f"
  }
 },
 "nbformat": 4,
 "nbformat_minor": 2
}