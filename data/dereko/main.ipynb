{
 "cells": [
  {
   "cell_type": "markdown",
   "source": [
    "We extract some data from the \"Deutsche ReferenzKorpus\" (via COSMAS II) via manual querying. \n",
    "The resulting files are saved as `.txt` files in this folder.\n",
    "\n",
    "Queries:\n",
    "- Internal I: `:Ab:*?Innen`: 241k tokens, 18k types (`:Ab:*?In` and `:Ab:#REG(^[A-ZÄÖÜ][a-zäöüß]+In(nen)?$)` throw errors)\n",
    "- Slash: `#REG(^[A-ZÄÖÜ][a-zäöüß]+\\/in(nen)?$)`: 136k tokens, 9k types\n",
    "- Star: `#REG(^[A-ZÄÖÜ][a-zäöüß]+\\*in(nen)?$)`: 48k tokens, 5k types\n",
    "- Colon: `#REG(^[A-ZÄÖÜ][a-zäöüß]+:in(nen)?$)`: 10k tokens, 3k types\n",
    "- Underscore: `#REG(^[A-ZÄÖÜ][a-zäöüß]+_in(nen)?$)`: 3k tokens, 1k types\n",
    "- Interpunct: `#REG(^[A-ZÄÖÜ][a-zäöüß]+·in(nen)?$)`: 4(!) matches\n",
    "- Brackets: `*?\\(In\\)`, `*?\\(Innen\\)`, `#REG(\\(in(nen)\\))` and similar queries throw errors"
   ],
   "metadata": {}
  },
  {
   "cell_type": "markdown",
   "source": [
    "There is no machine-readable download on DeReKo to our knowledge (KorAP should do this, but is still work in progress), so we process the files a bit:"
   ],
   "metadata": {}
  },
  {
   "cell_type": "code",
   "execution_count": 1,
   "source": [
    "from typing import *\n",
    "import re\n",
    "import sys\n",
    "\n",
    "sys.path.insert(0, \"..\")\n",
    "from shared import add_to_dict, csvs_to_dict, dict_to_csvs, log"
   ],
   "outputs": [],
   "metadata": {}
  },
  {
   "cell_type": "markdown",
   "source": [
    "We want to keep only entries that are actually properly gendered, and we only want these properly gendered words, so we write some complicated regexes to find them:"
   ],
   "metadata": {}
  },
  {
   "cell_type": "code",
   "execution_count": 2,
   "source": [
    "match_properly_gendered_word = r\"[A-ZÄÖÜ][a-zäöüß]{3,}(([/*:_·(]in(nen)?\\)?)|In(nen)?)\"\n",
    "\n",
    "\n",
    "def is_properly_gendered_word(word: str) -> bool:\n",
    "    return (\n",
    "        re.findall(r\"^[A-ZÄÖÜ][a-zäöüß]{3,}(([/*:_·(]in(nen)?\\)?)|In(nen)?)$\", word)\n",
    "        != []\n",
    "    )\n",
    "\n",
    "\n",
    "assert is_properly_gendered_word(\"Bundeskanzler:innen\") == True\n",
    "assert is_properly_gendered_word(\"BundeskanzlerIn\") == True\n",
    "assert is_properly_gendered_word(\"Bundeskanzler*Innen\") == False"
   ],
   "outputs": [],
   "metadata": {}
  },
  {
   "cell_type": "markdown",
   "source": [
    "And then we define some function specifically targeted at the structure of the DeReKo output files:"
   ],
   "metadata": {}
  },
  {
   "cell_type": "code",
   "execution_count": 3,
   "source": [
    "def dereko_to_csv(filename: str):\n",
    "    text = open(filename + \".txt\").read()\n",
    "    lines = text.split(\"\\n\")[20:]\n",
    "    words = [\n",
    "        re.match(match_properly_gendered_word, line)[0]\n",
    "        for line in lines\n",
    "        if re.match(match_properly_gendered_word, line)\n",
    "    ]\n",
    "    open(filename + \".csv\", \"w\").write(\"\\n\".join(words))\n",
    "    return words\n",
    "\n",
    "\n",
    "assert \"Bundeskanzler*in\" in dereko_to_csv(\"star\")"
   ],
   "outputs": [],
   "metadata": {}
  },
  {
   "cell_type": "code",
   "execution_count": 4,
   "source": [
    "dereko_to_csv(\"internal-i\")[:5]"
   ],
   "outputs": [
    {
     "output_type": "execute_result",
     "data": {
      "text/plain": [
       "['AachenerInnen',\n",
       " 'AbbiegerInnen',\n",
       " 'AbbrecherInnen',\n",
       " 'AbeitsplatzbesitzerInnen',\n",
       " 'AbendländerInnen']"
      ]
     },
     "metadata": {},
     "execution_count": 4
    }
   ],
   "metadata": {}
  },
  {
   "cell_type": "code",
   "execution_count": 5,
   "source": [
    "dereko_to_csv(\"colon\")[:5]"
   ],
   "outputs": [
    {
     "output_type": "execute_result",
     "data": {
      "text/plain": [
       "['Abenteurer:innen',\n",
       " 'Abiturient:innen',\n",
       " 'Ablehner:innen',\n",
       " 'Abnehmer:innen',\n",
       " 'Abonennt:innen']"
      ]
     },
     "metadata": {},
     "execution_count": 5
    }
   ],
   "metadata": {}
  },
  {
   "cell_type": "markdown",
   "source": [
    "We want to distinguish singular and plural, which luckily is easy for gendered words:"
   ],
   "metadata": {}
  },
  {
   "cell_type": "code",
   "execution_count": 6,
   "source": [
    "def is_gendered_plural(word: str) -> str:\n",
    "    return re.findall(r\"[Ii]nnen\\)?$\", word) != []\n",
    "\n",
    "\n",
    "assert is_gendered_plural(\"Bundeskanzler*in\") == False\n",
    "assert is_gendered_plural(\"Bundesminister/in\") == False\n",
    "assert is_gendered_plural(\"Bundesminister*innen\") == True"
   ],
   "outputs": [],
   "metadata": {}
  },
  {
   "cell_type": "markdown",
   "source": [
    "And we want to ungender them. This also seems simple at first:"
   ],
   "metadata": {}
  },
  {
   "cell_type": "code",
   "execution_count": 7,
   "source": [
    "def ungender(word: str) -> str:\n",
    "    return re.sub(r\"[/*:_·()]?[Ii]n(n(en))?$\", \"\", word)\n",
    "\n",
    "\n",
    "assert ungender(\"Bundeskanzler*in\") == \"Bundeskanzler\"\n",
    "assert ungender(\"Bundesminister*innen\") == \"Bundesminister\""
   ],
   "outputs": [],
   "metadata": {}
  },
  {
   "cell_type": "code",
   "execution_count": 8,
   "source": [
    "def regender(word: str, symbol: str) -> str:\n",
    "    # replace gender symbol with other gender symbol\n",
    "    return re.sub(r\"[/*:_·()]?-?[Ii]n(nen)?$\", r\"{}in\\1\".format(symbol), word)\n",
    "\n",
    "\n",
    "assert regender(\"Bundeskanzler*in\", \"*\") == \"Bundeskanzler*in\"\n",
    "assert regender(\"Bundeskanzler:in\", \"*\") == \"Bundeskanzler*in\"\n",
    "assert regender(\"Bundeskanzler_in\", \"*\") == \"Bundeskanzler*in\"\n",
    "assert regender(\"Bundeskanzler/in\", \"*\") == \"Bundeskanzler*in\"\n",
    "assert regender(\"Bundeskanzler/-in\", \"*\") == \"Bundeskanzler*in\"\n",
    "assert regender(\"Bundeskanzler·in\", \"*\") == \"Bundeskanzler*in\"\n",
    "assert regender(\"BundeskanzlerIn\", \"*\") == \"Bundeskanzler*in\"\n",
    "assert regender(\"BundesministerIn\", \"*\") == \"Bundesminister*in\"\n",
    "assert regender(\"BundesministerInnen\", \"*\") == \"Bundesminister*innen\""
   ],
   "outputs": [],
   "metadata": {}
  },
  {
   "cell_type": "markdown",
   "source": [
    "But then there's also cases like these, where our method fails:"
   ],
   "metadata": {}
  },
  {
   "cell_type": "code",
   "execution_count": 9,
   "source": [
    "assert not regender(\"Abiturient*innen\", \"*\") == \"Abiturienten\"\n",
    "assert not regender(\"Kolleg*innen\", \"*\") == \"Kolleginnen\""
   ],
   "outputs": [],
   "metadata": {}
  },
  {
   "cell_type": "markdown",
   "source": [
    "One way to take care of this is to check whether the ungendered form is a valid word, and whether the ungendered form + \"en\"is a valid word. \n",
    "We sketch this idea, but in the end we do not implement but rather decide to not use the DeReKo plural forms at all."
   ],
   "metadata": {}
  },
  {
   "cell_type": "code",
   "execution_count": 10,
   "source": [
    "def is_word(a):\n",
    "    # TODO\n",
    "    return True"
   ],
   "outputs": [],
   "metadata": {}
  },
  {
   "cell_type": "code",
   "execution_count": 11,
   "source": [
    "count_dict = {}\n",
    "\n",
    "\n",
    "def add_to_count_dict(key, number, val):\n",
    "    if (key, number, val) in count_dict.keys():\n",
    "        count_dict[(key, number, val)] += 1\n",
    "    else:\n",
    "        count_dict[(key, number, val)] = 1"
   ],
   "outputs": [],
   "metadata": {}
  },
  {
   "cell_type": "code",
   "execution_count": 12,
   "source": [
    "dereko_lists = [\n",
    "    dereko_to_csv(a)\n",
    "    for a in [\"colon\", \"internal-i\", \"interpunct\", \"slash\", \"star\", \"underscore\"]\n",
    "]\n",
    "for l in dereko_lists:\n",
    "    for word in l:\n",
    "        if is_properly_gendered_word(word):\n",
    "            key = ungender(word)\n",
    "            suggestion = regender(word, \"*\")\n",
    "            if is_gendered_plural(suggestion):\n",
    "                if is_word(key):\n",
    "                    add_to_count_dict(key, \"pl\", suggestion)\n",
    "                if is_word(key + \"en\"):\n",
    "                    add_to_count_dict(key + \"en\", \"pl\", suggestion)\n",
    "            else:\n",
    "                add_to_count_dict(key, \"sg\", suggestion)"
   ],
   "outputs": [],
   "metadata": {}
  },
  {
   "cell_type": "code",
   "execution_count": 13,
   "source": [
    "dic: Dict[str, Dict[str, List[str]]] = {\"sg\": {}, \"pl\": {}}\n",
    "for (key, number, val), count in count_dict.items():\n",
    "    if count >= 3:\n",
    "        add_to_dict(key, [val], dic[number])"
   ],
   "outputs": [],
   "metadata": {}
  },
  {
   "cell_type": "code",
   "execution_count": 14,
   "source": [
    "dict_to_csvs(dic, \"dereko_unified\")"
   ],
   "outputs": [],
   "metadata": {}
  },
  {
   "cell_type": "markdown",
   "source": [
    "We check whether reading the data back to Python works well:"
   ],
   "metadata": {}
  },
  {
   "cell_type": "code",
   "execution_count": 15,
   "source": [
    "dic = csvs_to_dict(\"dereko_unified\")\n",
    "list(dic[\"sg\"].items())[:5]"
   ],
   "outputs": [
    {
     "output_type": "execute_result",
     "data": {
      "text/plain": [
       "[('Absender', ['Absender*in']),\n",
       " ('Aktivist', ['Aktivist*in']),\n",
       " ('Arbeitgeber', ['Arbeitgeber*in']),\n",
       " ('Ärzt', ['Ärzt*in']),\n",
       " ('Außenminister', ['Außenminister*in'])]"
      ]
     },
     "metadata": {},
     "execution_count": 15
    }
   ],
   "metadata": {}
  }
 ],
 "metadata": {
  "orig_nbformat": 4,
  "language_info": {
   "name": "python",
   "version": "3.9.7",
   "mimetype": "text/x-python",
   "codemirror_mode": {
    "name": "ipython",
    "version": 3
   },
   "pygments_lexer": "ipython3",
   "nbconvert_exporter": "python",
   "file_extension": ".py"
  },
  "kernelspec": {
   "name": "python3",
   "display_name": "Python 3.9.7 64-bit ('.venv': venv)"
  },
  "interpreter": {
   "hash": "95bedcfbd13951187b69ec62defd411ebf202d41ec39fb8571ad901e1b39c86f"
  }
 },
 "nbformat": 4,
 "nbformat_minor": 2
}