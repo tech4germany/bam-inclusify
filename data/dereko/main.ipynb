{
 "cells": [
  {
   "cell_type": "markdown",
   "metadata": {},
   "source": [
    "We extract some data from the \"Deutsche ReferenzKorpus\" (via COSMAS II) via manual querying. \n",
    "The resulting files are saved as `.txt` files in this folder.\n",
    "\n",
    "Queries:\n",
    "- Internal I: `:Ab:*?Innen`: 241k tokens, 18k types (`:Ab:*?In` and `:Ab:#REG(^[A-ZÄÖÜ][a-zäöüß]+In(nen)?$)` throw errors)\n",
    "- Slash: `#REG(^[A-ZÄÖÜ][a-zäöüß]+\\/in(nen)?$)`: 136k tokens, 9k types\n",
    "- Star: `#REG(^[A-ZÄÖÜ][a-zäöüß]+\\*in(nen)?$)`: 48k tokens, 5k types\n",
    "- Colon: `#REG(^[A-ZÄÖÜ][a-zäöüß]+:in(nen)?$)`: 10k tokens, 3k types\n",
    "- Underscore: `#REG(^[A-ZÄÖÜ][a-zäöüß]+_in(nen)?$)`: 3k tokens, 1k types\n",
    "- Interpunct: `#REG(^[A-ZÄÖÜ][a-zäöüß]+·in(nen)?$)`: 4(!) matches\n",
    "- Brackets: `*?\\(In\\)`, `*?\\(Innen\\)`, `#REG(\\(in(nen)\\))` and similar queries throw errors"
   ]
  },
  {
   "cell_type": "markdown",
   "metadata": {},
   "source": [
    "There is no machine-readable download on DeReKo to our knowledge (KorAP should do this, but is still work in progress), so we process the files a bit:"
   ]
  },
  {
   "cell_type": "code",
   "execution_count": 1,
   "metadata": {},
   "outputs": [],
   "source": [
    "from typing import *\n",
    "import re\n",
    "import sys\n",
    "\n",
    "sys.path.insert(0, \"..\")\n",
    "from helpers import add_to_dict, log\n",
    "from helpers_csv import csvs_to_list, dict_to_csvs"
   ]
  },
  {
   "cell_type": "markdown",
   "metadata": {},
   "source": [
    "We want to keep only entries that are actually properly gendered, and we only want these properly gendered words, so we write some complicated regexes to find them:"
   ]
  },
  {
   "cell_type": "code",
   "execution_count": 2,
   "metadata": {},
   "outputs": [],
   "source": [
    "match_properly_gendered_word = r\"[A-ZÄÖÜ][a-zäöüß]{3,}(([/*:_·(]in(nen)?\\)?)|In(nen)?)\"\n",
    "\n",
    "\n",
    "def is_properly_gendered_word(word: str) -> bool:\n",
    "    return (\n",
    "        re.findall(r\"^[A-ZÄÖÜ][a-zäöüß]{3,}(([/*:_·(]in(nen)?\\)?)|In(nen)?)$\", word)\n",
    "        != []\n",
    "    )\n",
    "\n",
    "\n",
    "assert is_properly_gendered_word(\"Bundeskanzler:innen\") == True\n",
    "assert is_properly_gendered_word(\"BundeskanzlerIn\") == True\n",
    "assert is_properly_gendered_word(\"Bundeskanzler*Innen\") == False"
   ]
  },
  {
   "cell_type": "markdown",
   "metadata": {},
   "source": [
    "And then we define some function specifically targeted at the structure of the DeReKo output files:"
   ]
  },
  {
   "cell_type": "code",
   "execution_count": 3,
   "metadata": {},
   "outputs": [],
   "source": [
    "def dereko_to_csv(filename: str):\n",
    "    text = open(filename + \".txt\").read()\n",
    "    lines = text.split(\"\\n\")[20:]\n",
    "    words = [\n",
    "        re.match(match_properly_gendered_word, line)[0]\n",
    "        for line in lines\n",
    "        if re.match(match_properly_gendered_word, line)\n",
    "    ]\n",
    "    open(filename + \".csv\", \"w\").write(\"\\n\".join(words))\n",
    "    return words\n",
    "\n",
    "\n",
    "assert \"Bundeskanzler*in\" in dereko_to_csv(\"star\")"
   ]
  },
  {
   "cell_type": "code",
   "execution_count": 4,
   "metadata": {},
   "outputs": [
    {
     "data": {
      "text/plain": [
       "['AachenerInnen',\n",
       " 'AbbiegerInnen',\n",
       " 'AbbrecherInnen',\n",
       " 'AbeitsplatzbesitzerInnen',\n",
       " 'AbendländerInnen']"
      ]
     },
     "execution_count": 4,
     "metadata": {},
     "output_type": "execute_result"
    }
   ],
   "source": [
    "dereko_to_csv(\"internal-i\")[:5]"
   ]
  },
  {
   "cell_type": "code",
   "execution_count": 5,
   "metadata": {},
   "outputs": [
    {
     "data": {
      "text/plain": [
       "['Abenteurer:innen',\n",
       " 'Abiturient:innen',\n",
       " 'Ablehner:innen',\n",
       " 'Abnehmer:innen',\n",
       " 'Abonennt:innen']"
      ]
     },
     "execution_count": 5,
     "metadata": {},
     "output_type": "execute_result"
    }
   ],
   "source": [
    "dereko_to_csv(\"colon\")[:5]"
   ]
  },
  {
   "cell_type": "markdown",
   "metadata": {},
   "source": [
    "We want to distinguish singular and plural, which luckily is easy for gendered words:"
   ]
  },
  {
   "cell_type": "code",
   "execution_count": 6,
   "metadata": {},
   "outputs": [],
   "source": [
    "def is_gendered_plural(word: str) -> str:\n",
    "    return re.findall(r\"[Ii]nnen\\)?$\", word) != []\n",
    "\n",
    "\n",
    "assert is_gendered_plural(\"Bundeskanzler*in\") == False\n",
    "assert is_gendered_plural(\"Bundesminister/in\") == False\n",
    "assert is_gendered_plural(\"Bundesminister*innen\") == True"
   ]
  },
  {
   "cell_type": "markdown",
   "metadata": {},
   "source": [
    "And we want to ungender them. This also seems simple at first:"
   ]
  },
  {
   "cell_type": "code",
   "execution_count": 7,
   "metadata": {},
   "outputs": [],
   "source": [
    "def male_sg(word: str) -> str:\n",
    "    return re.sub(r\"[/*:_·()]?[Ii]n(n(en))?$\", \"\", word)\n",
    "\n",
    "\n",
    "assert male_sg(\"Bundeskanzler*in\") == \"Bundeskanzler\"\n",
    "assert male_sg(\"Bundesminister*innen\") == \"Bundesminister\""
   ]
  },
  {
   "cell_type": "code",
   "execution_count": 8,
   "metadata": {},
   "outputs": [],
   "source": [
    "def female_sg(word: str) -> str:\n",
    "    return re.sub(r\"[/*:_·()]?-?[Ii]n(nen)?$\", r\"in\", word)\n",
    "\n",
    "\n",
    "assert female_sg(\"Bundeskanzler*in\") == \"Bundeskanzlerin\"\n",
    "assert female_sg(\"Bundeskanzler:in\") == \"Bundeskanzlerin\"\n",
    "assert female_sg(\"Bundeskanzler_in\") == \"Bundeskanzlerin\"\n",
    "assert female_sg(\"Bundeskanzler/in\") == \"Bundeskanzlerin\"\n",
    "assert female_sg(\"Bundeskanzler/-in\") == \"Bundeskanzlerin\"\n",
    "assert female_sg(\"Bundeskanzler·in\") == \"Bundeskanzlerin\"\n",
    "assert female_sg(\"BundeskanzlerIn\") == \"Bundeskanzlerin\"\n",
    "assert female_sg(\"BundesministerIn\") == \"Bundesministerin\"\n",
    "assert female_sg(\"BundesministerInnen\") == \"Bundesministerin\""
   ]
  },
  {
   "cell_type": "markdown",
   "metadata": {},
   "source": [
    "But then there's also cases like these, where our method fails:"
   ]
  },
  {
   "cell_type": "code",
   "execution_count": 9,
   "metadata": {},
   "outputs": [],
   "source": [
    "assert not male_sg(\"Abiturient*innen\") == \"Abiturienten\"\n",
    "assert not male_sg(\"Kollegin\") == \"Kollege\""
   ]
  },
  {
   "cell_type": "code",
   "execution_count": 10,
   "metadata": {},
   "outputs": [],
   "source": [
    "count_dict = {}\n",
    "def add_to_count_dict(key):\n",
    "    if key in count_dict.keys():\n",
    "        count_dict[key] += 1\n",
    "    else:\n",
    "        count_dict[key] = 1"
   ]
  },
  {
   "cell_type": "code",
   "execution_count": 11,
   "metadata": {},
   "outputs": [
    {
     "name": "stdout",
     "output_type": "stream",
     "text": [
      "total gendered words in sg 4607\n",
      "total gendered words in pl 20025\n"
     ]
    }
   ],
   "source": [
    "dereko_lists = [\n",
    "    dereko_to_csv(a)\n",
    "    for a in [\"colon\", \"internal-i\", \"interpunct\", \"slash\", \"star\", \"underscore\"]\n",
    "]\n",
    "\n",
    "sg_count = 0\n",
    "pl_count = 0\n",
    "for l in dereko_lists:\n",
    "    for word in l:\n",
    "        if is_properly_gendered_word(word):\n",
    "            if is_gendered_plural(word):\n",
    "                pl_count += 1\n",
    "            else:\n",
    "                sg_count += 1\n",
    "            add_to_count_dict(female_sg(word))\n",
    "\n",
    "print(\"total gendered words in sg\", sg_count)\n",
    "print(\"total gendered words in pl\", pl_count)"
   ]
  },
  {
   "cell_type": "code",
   "execution_count": 12,
   "metadata": {},
   "outputs": [],
   "source": [
    "dic = {\"sg\": {}, \"pl\": {}}\n",
    "for key, count in count_dict.items():\n",
    "    if count >= 2:\n",
    "        add_to_dict(male_sg(key), [key], dic[\"sg\"])\n",
    "        add_to_dict(male_sg(key), [key], dic[\"pl\"])"
   ]
  },
  {
   "cell_type": "code",
   "execution_count": 13,
   "metadata": {},
   "outputs": [],
   "source": [
    "dict_to_csvs(dic, \"dereko_unified\")"
   ]
  },
  {
   "cell_type": "markdown",
   "metadata": {},
   "source": [
    "We check whether reading the data back to Python works well:"
   ]
  },
  {
   "cell_type": "code",
   "execution_count": 14,
   "metadata": {},
   "outputs": [
    {
     "data": {
      "text/plain": [
       "[['Abbrecher', 'Abbrecherin', '0'],\n",
       " ['Abenteurer', 'Abenteurerin', '0'],\n",
       " ['Abfallberater', 'Abfallberaterin', '0'],\n",
       " ['Abgänger', 'Abgängerin', '0'],\n",
       " ['Abiturien', 'Abiturienin', '0']]"
      ]
     },
     "execution_count": 14,
     "metadata": {},
     "output_type": "execute_result"
    }
   ],
   "source": [
    "list_ = csvs_to_list(\"dereko_unified\")\n",
    "list_[:5]"
   ]
  }
 ],
 "metadata": {
  "interpreter": {
   "hash": "f566310891052b77debb183af10cf167cb54a43894efa98362b5f88439dd0572"
  },
  "kernelspec": {
   "display_name": "Python 3.9.7 64-bit ('.venv': venv)",
   "name": "python3"
  },
  "language_info": {
   "codemirror_mode": {
    "name": "ipython",
    "version": 3
   },
   "file_extension": ".py",
   "mimetype": "text/x-python",
   "name": "python",
   "nbconvert_exporter": "python",
   "pygments_lexer": "ipython3",
   "version": "3.9.7"
  },
  "orig_nbformat": 4
 },
 "nbformat": 4,
 "nbformat_minor": 2
}
