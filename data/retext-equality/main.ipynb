{
 "cells": [
  {
   "cell_type": "code",
   "execution_count": 46,
   "metadata": {},
   "outputs": [],
   "source": [
    "import itertools\n",
    "import re\n",
    "import requests\n",
    "import yaml\n",
    "\n",
    "sys.path.insert(0, \"..\")\n",
    "from create_xml import rule_to_xml\n",
    "from helpers import open_"
   ]
  },
  {
   "cell_type": "code",
   "execution_count": 47,
   "metadata": {},
   "outputs": [],
   "source": [
    "topics = [\n",
    "    \"ablist\",\n",
    "    \"condescending\",\n",
    "    \"gender\",\n",
    "    \"lgbtq\",\n",
    "    \"press\",\n",
    "    \"race\",\n",
    "    \"slogans\",\n",
    "    \"suicide\",\n",
    "]\n",
    "responses = {}\n",
    "for topic in topics:\n",
    "    responses[topic] = requests.get(\n",
    "        \"https://raw.githubusercontent.com/retextjs/retext-equality/main/data/en/{}.yml\".format(\n",
    "            topic\n",
    "        )\n",
    "    ).content.decode(\"UTF-8\")"
   ]
  },
  {
   "cell_type": "code",
   "execution_count": 48,
   "metadata": {},
   "outputs": [],
   "source": [
    "rules = {}\n",
    "for topic in topics:\n",
    "    # data = yaml.safe_load(responses[topic])\n",
    "    # dump = yaml.dump(data, encoding=\"utf-8\")\n",
    "    open(\"retext_equality_raw_{}.yaml\".format(topic), \"w\").write(responses[topic])\n",
    "    pass"
   ]
  },
  {
   "cell_type": "markdown",
   "metadata": {},
   "source": [
    "What we could do now is to look for simple rules where it's only about replacing single words, and translate the words automatically. \n",
    "\n",
    "Instead, what we have done so far is to create some LanguageTool XML rules from scratch for the topics touched in the data, also for more complicated ones. This is lots of manual effort but results in good quality."
   ]
  },
  {
   "cell_type": "markdown",
   "metadata": {},
   "source": [
    "One aspect that we can automate is the replacement of words like \"schizophrenic\" with phrases like \"person with schizophrenia. For this purpose, we collect a list of words for ill people, also including very inconsiderate words, and a list of considerate words for the illnesses. The list below mainly includes the illnesses mentioned in the `retext-equality` disability list. The list could probably be much much longer. Some words for ill people and illnesses are rather rare and not yet in the POS tagger dictionary, so we add them there, see `added.txt`. A better approach in the mid term would be to use a neural tagger, though."
   ]
  },
  {
   "cell_type": "code",
   "execution_count": 49,
   "metadata": {},
   "outputs": [
    {
     "name": "stdout",
     "output_type": "stream",
     "text": [
      "\n",
      "<rule id=\"Schizophrener_sg\" name=\"Schizophrener\">\n",
      "    <antipattern><token>Person</token><token>mit</token><token>Schizophrenie</token></antipattern>\n",
      "    <pattern><token inflected=\"yes\" postag=\".*:SIN:.*\" postag_regexp=\"yes\"><exception postag=\".*:PLU:.*\" postag_regexp=\"yes\" />Schizophrener</token></pattern>\n",
      "    <suggestion>Person mit Schizophrenie</suggestion>\n",
      "    <message>TODO</message>\n",
      "    <short>Beziehe dich in erster Linie auf den Menschen, nicht die Krankheit, Behinderung, Sucht etc.</short>\n",
      "    <example correction=\"Person mit Schizophrenie\"><marker>Schizophrener</marker></example>\n",
      "</rule>\n",
      "\n",
      "\n",
      "<rule id=\"Schizophrener_both\" name=\"Schizophrener\">\n",
      "    <antipattern><token>Person</token><token>mit</token><token>Schizophrenie</token></antipattern>\n",
      "\t\t<antipattern><token>Menschen</token><token>mit</token><token>Schizophrenie</token></antipattern>\n",
      "    <pattern><and>\n",
      "\t<token inflected=\"yes\" postag=\".*:SIN:.*\" postag_regexp=\"yes\">Schizophrener</token>\n",
      "\t<token inflected=\"yes\" postag=\".*:PLU:.*\" postag_regexp=\"yes\">Schizophrener</token>\n",
      "</and></pattern>\n",
      "    <suggestion>Person mit Schizophrenie</suggestion>, <suggestion>Menschen mit Schizophrenie</suggestion>\n",
      "    <message>TODO</message>\n",
      "    <short>Beziehe dich in erster Linie auf den Menschen, nicht die Krankheit, Behinderung, Sucht etc.</short>\n",
      "    <example correction=\"Person mit Schizophrenie|Menschen mit Schizophrenie\"><marker>Schizophrener</marker></example>\n",
      "</rule>\n",
      "\n"
     ]
    }
   ],
   "source": [
    "illness_replacements = [\n",
    "    [\"Schizophrener\", [\"Schizophrenie\"]],\n",
    "    [\"Schizophreniker\", [\"Schizophrenie\"]],\n",
    "    [\"Mongoloide\", [\"Trisomie 21\"]],\n",
    "    [\"Mongo\", [\"Trisomie 21\"]],\n",
    "    [\"Psychotiker\", [\"Psychose\"]],\n",
    "    [\"Alkoholiker\", [\"Alkoholproblem\"]],\n",
    "    [\"Dyslexiker\", [\"Dyslexie\"]],\n",
    "    [\"Epileptiker\", [\"Epilepsie\"]],\n",
    "    [\"Paraplegiker\", [\"Paraplegie\"]],\n",
    "    [\"Quadriplegiker\", [\"Quadriplegie\"]],\n",
    "    [\"Spastiker\", [\"zerebrale Lähmung\", \"Zerebralparese\"]],\n",
    "    [\"Spast\", [\"zerebrale Lähmung\", \"Zerebralparese\"]],\n",
    "    [\"Wasserkopf\", [\"Hydrocephalus\"]],\n",
    "    [\"Narkoleptiker\", [\"Narkolepsie\"]],\n",
    "]\n",
    "\n",
    "\n",
    "def short_message(pattern):\n",
    "    return \"Beziehe dich in erster Linie auf den Menschen, nicht die Krankheit, Behinderung, Sucht etc.\"\n",
    "\n",
    "\n",
    "message = \"TODO\"\n",
    "\n",
    "rules = []\n",
    "for ill_person, illnesses in illness_replacements:\n",
    "    for number in [\"sg\", \"pl\"]:\n",
    "        rules.append(\n",
    "            rule_to_xml(\n",
    "                ill_person,\n",
    "                \"sg\",\n",
    "                [\"Person mit {}\".format(illness) for illness in illnesses],\n",
    "                message=message,\n",
    "                short_message=short_message,\n",
    "            )\n",
    "        )\n",
    "    for number in [\"both\", \"unknown\"]:\n",
    "        rules.append(\n",
    "            rule_to_xml(\n",
    "                ill_person,\n",
    "                \"both\",\n",
    "                list(\n",
    "                    itertools.chain(\n",
    "                        *[\n",
    "                            [\n",
    "                                \"Person mit {}\".format(illness),\n",
    "                                \"Menschen mit {}\".format(illness),\n",
    "                            ]\n",
    "                            for illness in illnesses\n",
    "                        ]\n",
    "                    )\n",
    "                ),\n",
    "                message=message,\n",
    "                short_message=short_message,\n",
    "            )\n",
    "        )\n",
    "print(rules[0])\n",
    "print(rules[2])"
   ]
  },
  {
   "cell_type": "code",
   "execution_count": 50,
   "metadata": {},
   "outputs": [
    {
     "data": {
      "text/plain": [
       "44627"
      ]
     },
     "execution_count": 50,
     "metadata": {},
     "output_type": "execute_result"
    }
   ],
   "source": [
    "open_(\"illness_rules.xml\", \"w\").write(\"\\n\".join(rules))"
   ]
  },
  {
   "cell_type": "markdown",
   "metadata": {},
   "source": [
    "Some rules, like \"Mongoloidinnen\", do not work."
   ]
  }
 ],
 "metadata": {
  "interpreter": {
   "hash": "95bedcfbd13951187b69ec62defd411ebf202d41ec39fb8571ad901e1b39c86f"
  },
  "kernelspec": {
   "display_name": "Python 3.9.7 64-bit ('.venv': venv)",
   "name": "python3"
  },
  "language_info": {
   "codemirror_mode": {
    "name": "ipython",
    "version": 3
   },
   "file_extension": ".py",
   "mimetype": "text/x-python",
   "name": "python",
   "nbconvert_exporter": "python",
   "pygments_lexer": "ipython3",
   "version": "3.9.7"
  },
  "orig_nbformat": 4
 },
 "nbformat": 4,
 "nbformat_minor": 2
}
