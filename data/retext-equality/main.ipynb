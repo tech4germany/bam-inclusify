{
 "cells": [
  {
   "cell_type": "code",
   "execution_count": 46,
   "metadata": {},
   "outputs": [],
   "source": [
    "import itertools\n",
    "import re\n",
    "import requests\n",
    "import yaml\n",
    "\n",
    "sys.path.insert(0, \"..\")\n",
    "from create_xml import rule_to_xml\n",
    "from helpers import open_"
   ]
  },
  {
   "cell_type": "code",
   "execution_count": 47,
   "metadata": {},
   "outputs": [],
   "source": [
    "topics = [\n",
    "    \"ablist\",\n",
    "    \"condescending\",\n",
    "    \"gender\",\n",
    "    \"lgbtq\",\n",
    "    \"press\",\n",
    "    \"race\",\n",
    "    \"slogans\",\n",
    "    \"suicide\",\n",
    "]\n",
    "responses = {}\n",
    "for topic in topics:\n",
    "    responses[topic] = requests.get(\n",
    "        \"https://raw.githubusercontent.com/retextjs/retext-equality/main/data/en/{}.yml\".format(\n",
    "            topic\n",
    "        )\n",
    "    ).content.decode(\"UTF-8\")"
   ]
  },
  {
   "cell_type": "code",
   "execution_count": 48,
   "metadata": {},
   "outputs": [],
   "source": [
    "rules = {}\n",
    "for topic in topics:\n",
    "    # data = yaml.safe_load(responses[topic])\n",
    "    # dump = yaml.dump(data, encoding=\"utf-8\")\n",
    "    open(\"retext_equality_raw_{}.yaml\".format(topic), \"w\").write(responses[topic])\n",
    "    pass"
   ]
  },
  {
   "cell_type": "markdown",
   "metadata": {},
   "source": [
    "What we could do now is to look for simple rules where it's only about replacing single words, and translate the words automatically. \n",
    "\n",
    "Instead, what we have done so far is to create some LanguageTool XML rules from scratch for the topics touched in the data, also for more complicated ones. This is lots of manual effort but results in good quality."
   ]
  },
  {
   "cell_type": "markdown",
   "metadata": {},
   "source": [
    "One aspect that we can automate is the replacement of words like \"schizophrenic\" with phrases like \"person with schizophrenia. For this purpose, we collect a list of words for ill people, also including very inconsiderate words, and a list of considerate words for the illnesses. The list below mainly includes the illnesses mentioned in the `retext-equality` disability list. The list could probably be much much longer. Some words for ill people and illnesses are rather rare and not yet in the POS tagger dictionary, so we add them there, see `added.txt`. A better approach in the mid term would be to use a neural tagger, though."
   ]
  },
  {
   "cell_type": "markdown",
   "metadata": {},
   "source": [
    "Moved to `create-illness-rules.py`."
   ]
  },
  {
   "cell_type": "markdown",
   "metadata": {},
   "source": [
    "Some rules, like \"Mongoloidinnen\", do not work."
   ]
  }
 ],
 "metadata": {
  "interpreter": {
   "hash": "95bedcfbd13951187b69ec62defd411ebf202d41ec39fb8571ad901e1b39c86f"
  },
  "kernelspec": {
   "display_name": "Python 3.9.7 64-bit ('.venv': venv)",
   "name": "python3"
  },
  "language_info": {
   "codemirror_mode": {
    "name": "ipython",
    "version": 3
   },
   "file_extension": ".py",
   "mimetype": "text/x-python",
   "name": "python",
   "nbconvert_exporter": "python",
   "pygments_lexer": "ipython3",
   "version": "3.9.7"
  },
  "orig_nbformat": 4
 },
 "nbformat": 4,
 "nbformat_minor": 2
}
