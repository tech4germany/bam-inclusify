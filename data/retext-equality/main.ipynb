{
 "cells": [
  {
   "cell_type": "code",
   "execution_count": 12,
   "source": [
    "import requests\n",
    "import yaml"
   ],
   "outputs": [],
   "metadata": {}
  },
  {
   "cell_type": "code",
   "execution_count": 13,
   "source": [
    "topics = [\n",
    "    \"ablist\",\n",
    "    \"condescending\",\n",
    "    \"gender\",\n",
    "    \"lgbtq\",\n",
    "    \"press\",\n",
    "    \"race\",\n",
    "    \"slogans\",\n",
    "    \"suicide\",\n",
    "]\n",
    "responses = {}\n",
    "for topic in topics:\n",
    "    responses[topic] = requests.get(\n",
    "        \"https://raw.githubusercontent.com/retextjs/retext-equality/main/data/en/{}.yml\".format(\n",
    "            topic\n",
    "        )\n",
    "    ).content.decode(\"UTF-8\")"
   ],
   "outputs": [],
   "metadata": {}
  },
  {
   "cell_type": "code",
   "execution_count": 15,
   "source": [
    "rules = {}\n",
    "for topic in topics:\n",
    "    # data = yaml.safe_load(responses[topic])\n",
    "    # dump = yaml.dump(data, encoding=\"utf-8\")\n",
    "    open(\"retext_equality_raw_{}.yaml\".format(topic), \"w\").write(responses[topic])\n",
    "    pass"
   ],
   "outputs": [],
   "metadata": {}
  },
  {
   "cell_type": "markdown",
   "source": [
    "What we could do now is to look for simple rules where it's only about replacing single words, and translate the words automatically. \n",
    "\n",
    "Instead, what we have done so far is to create some LanguageTool XML rules from scratch for the topics touched in the data, also for more complicated ones. This is lots of manual effort but results in good quality."
   ],
   "metadata": {}
  }
 ],
 "metadata": {
  "orig_nbformat": 4,
  "language_info": {
   "name": "python",
   "version": "3.9.7",
   "mimetype": "text/x-python",
   "codemirror_mode": {
    "name": "ipython",
    "version": 3
   },
   "pygments_lexer": "ipython3",
   "nbconvert_exporter": "python",
   "file_extension": ".py"
  },
  "kernelspec": {
   "name": "python3",
   "display_name": "Python 3.9.7 64-bit ('.venv': venv)"
  },
  "interpreter": {
   "hash": "95bedcfbd13951187b69ec62defd411ebf202d41ec39fb8571ad901e1b39c86f"
  }
 },
 "nbformat": 4,
 "nbformat_minor": 2
}