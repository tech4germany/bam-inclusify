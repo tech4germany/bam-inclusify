{
 "cells": [
  {
   "cell_type": "code",
   "execution_count": 26,
   "source": [
    "import io\n",
    "import pandas as pd\n",
    "import re\n",
    "import requests\n",
    "from typing import *\n",
    "import sys\n",
    "\n",
    "sys.path.insert(0, \"..\")\n",
    "from helpers import add_to_dict, log\n",
    "from helpers_csv import csvs_to_dict, dict_to_csvs"
   ],
   "outputs": [],
   "metadata": {}
  },
  {
   "cell_type": "code",
   "execution_count": 27,
   "source": [
    "csv = requests.get(\n",
    "    \"https://www.data.gv.at/katalog/dataset/15d6ede8-f128-4fcd-aa3a-4479e828f477/resource/804f6db1-add7-4480-b4d0-e52e61c48534/download/worttabelle.csv\"\n",
    ").content\n",
    "text = re.sub(\";;\\r\\n\", \"\\n\", csv.decode(\"utf-8\"))\n",
    "df = pd.read_csv(io.StringIO(text))\n",
    "df.head()"
   ],
   "outputs": [
    {
     "output_type": "execute_result",
     "data": {
      "text/html": [
       "<div>\n",
       "<style scoped>\n",
       "    .dataframe tbody tr th:only-of-type {\n",
       "        vertical-align: middle;\n",
       "    }\n",
       "\n",
       "    .dataframe tbody tr th {\n",
       "        vertical-align: top;\n",
       "    }\n",
       "\n",
       "    .dataframe thead th {\n",
       "        text-align: right;\n",
       "    }\n",
       "</style>\n",
       "<table border=\"1\" class=\"dataframe\">\n",
       "  <thead>\n",
       "    <tr style=\"text-align: right;\">\n",
       "      <th></th>\n",
       "      <th>Laenge</th>\n",
       "      <th>Hauptwort</th>\n",
       "      <th>Vorschlag</th>\n",
       "      <th>Binnen</th>\n",
       "    </tr>\n",
       "  </thead>\n",
       "  <tbody>\n",
       "    <tr>\n",
       "      <th>0</th>\n",
       "      <td>50</td>\n",
       "      <td>Verantwortlicher für Informationssicherheit (C...</td>\n",
       "      <td>CISO</td>\n",
       "      <td>N</td>\n",
       "    </tr>\n",
       "    <tr>\n",
       "      <th>1</th>\n",
       "      <td>50</td>\n",
       "      <td>Verantwortlicher für Informationssicherheit (C...</td>\n",
       "      <td>Verantwortliche bzw. Verantwortlicher für Info...</td>\n",
       "      <td>N</td>\n",
       "    </tr>\n",
       "    <tr>\n",
       "      <th>2</th>\n",
       "      <td>45</td>\n",
       "      <td>Diplomierte Gesundheits- und Krankenschwester</td>\n",
       "      <td>Diplomiertes Krankenpflegepersonal</td>\n",
       "      <td>N</td>\n",
       "    </tr>\n",
       "    <tr>\n",
       "      <th>3</th>\n",
       "      <td>43</td>\n",
       "      <td>Unabhängiger Bedienstetenschutzbeauftragter</td>\n",
       "      <td>Unabhängige Bedienstetenschutzbeauftragte bzw....</td>\n",
       "      <td>N</td>\n",
       "    </tr>\n",
       "    <tr>\n",
       "      <th>4</th>\n",
       "      <td>39</td>\n",
       "      <td>Kontrakt- und Berichtswesenbeauftragter</td>\n",
       "      <td>Kontrakt- und Berichtswesenbeauftragte bzw. -b...</td>\n",
       "      <td>N</td>\n",
       "    </tr>\n",
       "  </tbody>\n",
       "</table>\n",
       "</div>"
      ],
      "text/plain": [
       "  Laenge                                          Hauptwort  \\\n",
       "0     50  Verantwortlicher für Informationssicherheit (C...   \n",
       "1     50  Verantwortlicher für Informationssicherheit (C...   \n",
       "2     45      Diplomierte Gesundheits- und Krankenschwester   \n",
       "3     43        Unabhängiger Bedienstetenschutzbeauftragter   \n",
       "4     39            Kontrakt- und Berichtswesenbeauftragter   \n",
       "\n",
       "                                           Vorschlag Binnen  \n",
       "0                                               CISO      N  \n",
       "1  Verantwortliche bzw. Verantwortlicher für Info...      N  \n",
       "2                 Diplomiertes Krankenpflegepersonal      N  \n",
       "3  Unabhängige Bedienstetenschutzbeauftragte bzw....      N  \n",
       "4  Kontrakt- und Berichtswesenbeauftragte bzw. -b...      N  "
      ]
     },
     "metadata": {},
     "execution_count": 27
    }
   ],
   "metadata": {}
  },
  {
   "cell_type": "code",
   "execution_count": 28,
   "source": [
    "df.to_csv(\n",
    "    \"vienna_catalog_raw.csv\",\n",
    "    index=False,\n",
    ")"
   ],
   "outputs": [],
   "metadata": {}
  },
  {
   "cell_type": "markdown",
   "source": [
    "We change Binnen-I to gender star to have one simple style, and we try to attribute singular and plural as well as possible:"
   ],
   "metadata": {}
  },
  {
   "cell_type": "code",
   "execution_count": 29,
   "source": [
    "dic: Dict[str, Dict[str, List[str]]] = {\"sg\": {}, \"pl\": {}}\n",
    "for (_, _, ungendered, gendered, binnenI) in df.to_records():\n",
    "    if binnenI == \"Y\":\n",
    "        gendered = re.sub(r\"([a-zäöüß])I\", r\"\\1*i\", gendered)\n",
    "    if type(gendered) == str:  # skip ill-formatted rows\n",
    "        if (\n",
    "            re.findall(r\"[iI]n( .*)?$\", gendered) != []\n",
    "            or re.findall(r\" bzw\\.? \", gendered) != []\n",
    "        ):\n",
    "            add_to_dict(ungendered, [gendered], dic[\"sg\"])\n",
    "        elif (\n",
    "            re.findall(r\"[iI]nnen( .*)?$\", gendered) != []\n",
    "            or re.findall(r\" und \", gendered) != []\n",
    "        ):\n",
    "            add_to_dict(ungendered, [gendered], dic[\"pl\"])\n",
    "        else:\n",
    "            add_to_dict(ungendered, [gendered], dic[\"sg\"])\n",
    "            add_to_dict(ungendered, [gendered], dic[\"pl\"])"
   ],
   "outputs": [],
   "metadata": {}
  },
  {
   "cell_type": "code",
   "execution_count": 30,
   "source": [
    "dict_to_csvs(dic, \"vienna_catalog\")"
   ],
   "outputs": [],
   "metadata": {}
  },
  {
   "cell_type": "markdown",
   "source": [
    "We can read this CSV back to a Python dictionary with the following method:"
   ],
   "metadata": {}
  },
  {
   "cell_type": "code",
   "execution_count": 31,
   "source": [
    "dic = csvs_to_dict(\"vienna_catalog\")\n",
    "list(dic[\"sg\"].items())[:5]"
   ],
   "outputs": [
    {
     "output_type": "execute_result",
     "data": {
      "text/plain": [
       "[('Verantwortlicher für Informationssicherheit (CISO)',\n",
       "  ['CISO',\n",
       "   'Verantwortliche bzw. Verantwortlicher für Informationssicherheit']),\n",
       " ('Diplomierte Gesundheits- und Krankenschwester',\n",
       "  ['Diplomiertes Krankenpflegepersonal']),\n",
       " ('Unabhängiger Bedienstetenschutzbeauftragter',\n",
       "  ['Unabhängige Bedienstetenschutzbeauftragte bzw. unabhängiger beauftragter']),\n",
       " ('Kontrakt- und Berichtswesenbeauftragter',\n",
       "  ['Kontrakt- und Berichtswesenbeauftragte bzw. -beauftragter']),\n",
       " ('Leitender Kindertagesheimadministrator',\n",
       "  ['Leitende Kindertagesheimadministratorin bzw. Leitender Kindertagesheimadministrator'])]"
      ]
     },
     "metadata": {},
     "execution_count": 31
    }
   ],
   "metadata": {}
  }
 ],
 "metadata": {
  "orig_nbformat": 4,
  "language_info": {
   "name": "python",
   "version": "3.9.7",
   "mimetype": "text/x-python",
   "codemirror_mode": {
    "name": "ipython",
    "version": 3
   },
   "pygments_lexer": "ipython3",
   "nbconvert_exporter": "python",
   "file_extension": ".py"
  },
  "kernelspec": {
   "name": "python3",
   "display_name": "Python 3.9.7 64-bit ('.venv': venv)"
  },
  "interpreter": {
   "hash": "95bedcfbd13951187b69ec62defd411ebf202d41ec39fb8571ad901e1b39c86f"
  }
 },
 "nbformat": 4,
 "nbformat_minor": 2
}