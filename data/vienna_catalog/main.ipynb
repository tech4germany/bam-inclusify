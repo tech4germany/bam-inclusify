{
 "cells": [
  {
   "cell_type": "markdown",
   "metadata": {},
   "source": [
    "This notebook downloads and processes the gender data from the Vienna catalog. The data comes from a [gendering add-in for Microsoft Word 2010](https://web.archive.org/web/20210629142645/https:/archive.codeplex.com/?p=gendering) that has been developed by Microsoft. The data includes two styles (double notation and inner I).\n",
    "\n",
    "Some more manual normalization would be necessary to make this data useful for our project. For example, the inner I and double notation forms can both be derived from just the female form (in addition to the male form, which is already given by the replaced word), and entries for the same word but with different cases could be reduced to a single entry. \n",
    "\n",
    "The data is highly relevant for this project, because it has been created in a government context as well, and includes many government-specific words."
   ]
  },
  {
   "cell_type": "code",
   "execution_count": 1,
   "metadata": {},
   "outputs": [],
   "source": [
    "import io\n",
    "import pandas as pd\n",
    "import re\n",
    "import requests\n",
    "from typing import *\n",
    "import sys\n",
    "\n",
    "sys.path.insert(0, \"..\")\n",
    "from helpers import add_to_dict, log\n",
    "from helpers_csv import csvs_to_list, dict_to_csvs"
   ]
  },
  {
   "cell_type": "code",
   "execution_count": 2,
   "metadata": {},
   "outputs": [
    {
     "data": {
      "text/html": [
       "<div>\n",
       "<style scoped>\n",
       "    .dataframe tbody tr th:only-of-type {\n",
       "        vertical-align: middle;\n",
       "    }\n",
       "\n",
       "    .dataframe tbody tr th {\n",
       "        vertical-align: top;\n",
       "    }\n",
       "\n",
       "    .dataframe thead th {\n",
       "        text-align: right;\n",
       "    }\n",
       "</style>\n",
       "<table border=\"1\" class=\"dataframe\">\n",
       "  <thead>\n",
       "    <tr style=\"text-align: right;\">\n",
       "      <th></th>\n",
       "      <th>Laenge</th>\n",
       "      <th>Hauptwort</th>\n",
       "      <th>Vorschlag</th>\n",
       "      <th>Binnen</th>\n",
       "    </tr>\n",
       "  </thead>\n",
       "  <tbody>\n",
       "    <tr>\n",
       "      <th>0</th>\n",
       "      <td>50</td>\n",
       "      <td>Verantwortlicher für Informationssicherheit (C...</td>\n",
       "      <td>CISO</td>\n",
       "      <td>N</td>\n",
       "    </tr>\n",
       "    <tr>\n",
       "      <th>1</th>\n",
       "      <td>50</td>\n",
       "      <td>Verantwortlicher für Informationssicherheit (C...</td>\n",
       "      <td>Verantwortliche bzw. Verantwortlicher für Info...</td>\n",
       "      <td>N</td>\n",
       "    </tr>\n",
       "    <tr>\n",
       "      <th>2</th>\n",
       "      <td>45</td>\n",
       "      <td>Diplomierte Gesundheits- und Krankenschwester</td>\n",
       "      <td>Diplomiertes Krankenpflegepersonal</td>\n",
       "      <td>N</td>\n",
       "    </tr>\n",
       "    <tr>\n",
       "      <th>3</th>\n",
       "      <td>43</td>\n",
       "      <td>Unabhängiger Bedienstetenschutzbeauftragter</td>\n",
       "      <td>Unabhängige Bedienstetenschutzbeauftragte bzw....</td>\n",
       "      <td>N</td>\n",
       "    </tr>\n",
       "    <tr>\n",
       "      <th>4</th>\n",
       "      <td>39</td>\n",
       "      <td>Kontrakt- und Berichtswesenbeauftragter</td>\n",
       "      <td>Kontrakt- und Berichtswesenbeauftragte bzw. -b...</td>\n",
       "      <td>N</td>\n",
       "    </tr>\n",
       "  </tbody>\n",
       "</table>\n",
       "</div>"
      ],
      "text/plain": [
       "  Laenge                                          Hauptwort  \\\n",
       "0     50  Verantwortlicher für Informationssicherheit (C...   \n",
       "1     50  Verantwortlicher für Informationssicherheit (C...   \n",
       "2     45      Diplomierte Gesundheits- und Krankenschwester   \n",
       "3     43        Unabhängiger Bedienstetenschutzbeauftragter   \n",
       "4     39            Kontrakt- und Berichtswesenbeauftragter   \n",
       "\n",
       "                                           Vorschlag Binnen  \n",
       "0                                               CISO      N  \n",
       "1  Verantwortliche bzw. Verantwortlicher für Info...      N  \n",
       "2                 Diplomiertes Krankenpflegepersonal      N  \n",
       "3  Unabhängige Bedienstetenschutzbeauftragte bzw....      N  \n",
       "4  Kontrakt- und Berichtswesenbeauftragte bzw. -b...      N  "
      ]
     },
     "execution_count": 2,
     "metadata": {},
     "output_type": "execute_result"
    }
   ],
   "source": [
    "csv = requests.get(\n",
    "    \"https://www.data.gv.at/katalog/dataset/15d6ede8-f128-4fcd-aa3a-4479e828f477/resource/804f6db1-add7-4480-b4d0-e52e61c48534/download/worttabelle.csv\"\n",
    ").content\n",
    "text = re.sub(\";;\\r\\n\", \"\\n\", csv.decode(\"utf-8\"))\n",
    "df = pd.read_csv(io.StringIO(text))\n",
    "df.head()"
   ]
  },
  {
   "cell_type": "code",
   "execution_count": 3,
   "metadata": {},
   "outputs": [],
   "source": [
    "df.to_csv(\n",
    "    \"vienna_catalog_raw.csv\",\n",
    "    index=False,\n",
    ")"
   ]
  },
  {
   "cell_type": "markdown",
   "metadata": {},
   "source": [
    "We change Binnen-I to gender star to have one simple style, and we try to attribute singular and plural as well as possible:"
   ]
  },
  {
   "cell_type": "code",
   "execution_count": 4,
   "metadata": {},
   "outputs": [],
   "source": [
    "dic: Dict[str, Dict[str, List[str]]] = {\"sg\": {}, \"pl\": {}}\n",
    "for (_, _, ungendered, gendered, binnenI) in df.to_records():\n",
    "    if binnenI == \"Y\":\n",
    "        gendered = re.sub(r\"([a-zäöüß])I\", r\"\\1*i\", gendered)\n",
    "    if type(gendered) == str:  # skip ill-formatted rows\n",
    "        if (\n",
    "            re.findall(r\"[iI]n( .*)?$\", gendered) != []\n",
    "            or re.findall(r\" bzw\\.? \", gendered) != []\n",
    "        ):\n",
    "            add_to_dict(ungendered, [gendered], dic[\"sg\"])\n",
    "        elif (\n",
    "            re.findall(r\"[iI]nnen( .*)?$\", gendered) != []\n",
    "            or re.findall(r\" und \", gendered) != []\n",
    "        ):\n",
    "            add_to_dict(ungendered, [gendered], dic[\"pl\"])\n",
    "        else:\n",
    "            add_to_dict(ungendered, [gendered], dic[\"sg\"])\n",
    "            add_to_dict(ungendered, [gendered], dic[\"pl\"])"
   ]
  },
  {
   "cell_type": "code",
   "execution_count": 5,
   "metadata": {},
   "outputs": [],
   "source": [
    "dict_to_csvs(dic, \"vienna_catalog\")"
   ]
  },
  {
   "cell_type": "markdown",
   "metadata": {},
   "source": [
    "We can read this CSV back to a Python dictionary with the following method:"
   ]
  },
  {
   "cell_type": "code",
   "execution_count": 6,
   "metadata": {},
   "outputs": [
    {
     "data": {
      "text/plain": [
       "[['AHS-Lehrer', 'AHS-Lehrer*innen', '1'],\n",
       " ['AHS-Lehrer', 'AHS-Lehrerin bzw. AHS-Lehrer', '0'],\n",
       " ['AHS-Lehrer', 'AHS-Lehrerinnen und AHS-Lehrer', '1'],\n",
       " ['AHS-Lehrern', 'AHS-Lehrerinnen und AHS-Lehrern', '1'],\n",
       " ['Abfallmanager', 'Abfallmanager*innen', '1']]"
      ]
     },
     "execution_count": 6,
     "metadata": {},
     "output_type": "execute_result"
    }
   ],
   "source": [
    "list_ = csvs_to_list(\"vienna_catalog\")\n",
    "list_[:5]"
   ]
  }
 ],
 "metadata": {
  "interpreter": {
   "hash": "f566310891052b77debb183af10cf167cb54a43894efa98362b5f88439dd0572"
  },
  "kernelspec": {
   "display_name": "Python 3.9.7 64-bit ('.venv': venv)",
   "name": "python3"
  },
  "language_info": {
   "codemirror_mode": {
    "name": "ipython",
    "version": 3
   },
   "file_extension": ".py",
   "mimetype": "text/x-python",
   "name": "python",
   "nbconvert_exporter": "python",
   "pygments_lexer": "ipython3",
   "version": "3.9.7"
  },
  "orig_nbformat": 4
 },
 "nbformat": 4,
 "nbformat_minor": 2
}
