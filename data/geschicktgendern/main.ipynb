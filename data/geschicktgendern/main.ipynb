{
 "cells": [
  {
   "cell_type": "code",
   "execution_count": 1,
   "metadata": {},
   "outputs": [],
   "source": [
    "import pandas as pd\n",
    "import re\n",
    "import requests\n",
    "import sys\n",
    "from typing import *\n",
    "\n",
    "sys.path.insert(0, \"..\")\n",
    "from helpers import add_to_dict, log\n",
    "from helpers_csv import csvs_to_list, dict_to_csvs"
   ]
  },
  {
   "cell_type": "code",
   "execution_count": 2,
   "metadata": {},
   "outputs": [],
   "source": [
    "excel = requests.get(\"https://geschicktgendern.de/download/1642/\").content"
   ]
  },
  {
   "cell_type": "code",
   "execution_count": 3,
   "metadata": {},
   "outputs": [
    {
     "data": {
      "text/plain": [
       "105817"
      ]
     },
     "execution_count": 3,
     "metadata": {},
     "output_type": "execute_result"
    }
   ],
   "source": [
    "open(\"geschicktgendern_raw.xlsx\", \"wb\").write(excel)"
   ]
  },
  {
   "cell_type": "code",
   "execution_count": 4,
   "metadata": {},
   "outputs": [
    {
     "data": {
      "text/html": [
       "<div>\n",
       "<style scoped>\n",
       "    .dataframe tbody tr th:only-of-type {\n",
       "        vertical-align: middle;\n",
       "    }\n",
       "\n",
       "    .dataframe tbody tr th {\n",
       "        vertical-align: top;\n",
       "    }\n",
       "\n",
       "    .dataframe thead th {\n",
       "        text-align: right;\n",
       "    }\n",
       "</style>\n",
       "<table border=\"1\" class=\"dataframe\">\n",
       "  <thead>\n",
       "    <tr style=\"text-align: right;\">\n",
       "      <th></th>\n",
       "      <th>ungendered</th>\n",
       "      <th>gendered</th>\n",
       "    </tr>\n",
       "  </thead>\n",
       "  <tbody>\n",
       "    <tr>\n",
       "      <th>0</th>\n",
       "      <td>&lt;div id=\"A\"&gt;&lt;b&gt;A&lt;/b&gt;&lt;div&gt;</td>\n",
       "      <td>NaN</td>\n",
       "    </tr>\n",
       "    <tr>\n",
       "      <th>1</th>\n",
       "      <td>Abbrecherquote</td>\n",
       "      <td>Abbruchquote</td>\n",
       "    </tr>\n",
       "    <tr>\n",
       "      <th>2</th>\n",
       "      <td>Abenteurer (sg.)</td>\n",
       "      <td>Waghals; abenteuerliebende Person; abenteuerlu...</td>\n",
       "    </tr>\n",
       "    <tr>\n",
       "      <th>3</th>\n",
       "      <td>Abgänger</td>\n",
       "      <td>absolvierende Person; Abschluss innehabende Pe...</td>\n",
       "    </tr>\n",
       "    <tr>\n",
       "      <th>4</th>\n",
       "      <td>Abiturient</td>\n",
       "      <td>Abitur ablegende Person; Person, die Abitur macht</td>\n",
       "    </tr>\n",
       "  </tbody>\n",
       "</table>\n",
       "</div>"
      ],
      "text/plain": [
       "                  ungendered  \\\n",
       "0  <div id=\"A\"><b>A</b><div>   \n",
       "1             Abbrecherquote   \n",
       "2           Abenteurer (sg.)   \n",
       "3                   Abgänger   \n",
       "4                 Abiturient   \n",
       "\n",
       "                                            gendered  \n",
       "0                                                NaN  \n",
       "1                                       Abbruchquote  \n",
       "2  Waghals; abenteuerliebende Person; abenteuerlu...  \n",
       "3  absolvierende Person; Abschluss innehabende Pe...  \n",
       "4  Abitur ablegende Person; Person, die Abitur macht  "
      ]
     },
     "execution_count": 4,
     "metadata": {},
     "output_type": "execute_result"
    }
   ],
   "source": [
    "df = pd.read_excel(\n",
    "    excel, header=None, names=[\"ungendered\", \"gendered\"], skiprows=3, usecols=[1, 2]\n",
    ")\n",
    "df.sort_values(by=\"ungendered\")\n",
    "df.head()"
   ]
  },
  {
   "cell_type": "code",
   "execution_count": 5,
   "metadata": {},
   "outputs": [],
   "source": [
    "df.to_csv(\"geschicktgendern_raw.csv\", index=False)\n",
    "dflen = len(df)"
   ]
  },
  {
   "cell_type": "markdown",
   "metadata": {},
   "source": [
    "We drop rows like the first one, where there is merely some HTML description but no value."
   ]
  },
  {
   "cell_type": "code",
   "execution_count": 6,
   "metadata": {},
   "outputs": [
    {
     "data": {
      "text/html": [
       "<div>\n",
       "<style scoped>\n",
       "    .dataframe tbody tr th:only-of-type {\n",
       "        vertical-align: middle;\n",
       "    }\n",
       "\n",
       "    .dataframe tbody tr th {\n",
       "        vertical-align: top;\n",
       "    }\n",
       "\n",
       "    .dataframe thead th {\n",
       "        text-align: right;\n",
       "    }\n",
       "</style>\n",
       "<table border=\"1\" class=\"dataframe\">\n",
       "  <thead>\n",
       "    <tr style=\"text-align: right;\">\n",
       "      <th></th>\n",
       "      <th>ungendered</th>\n",
       "      <th>gendered</th>\n",
       "    </tr>\n",
       "  </thead>\n",
       "  <tbody>\n",
       "    <tr>\n",
       "      <th>1</th>\n",
       "      <td>Abbrecherquote</td>\n",
       "      <td>Abbruchquote</td>\n",
       "    </tr>\n",
       "    <tr>\n",
       "      <th>2</th>\n",
       "      <td>Abenteurer (sg.)</td>\n",
       "      <td>Waghals; abenteuerliebende Person; abenteuerlu...</td>\n",
       "    </tr>\n",
       "    <tr>\n",
       "      <th>3</th>\n",
       "      <td>Abgänger</td>\n",
       "      <td>absolvierende Person; Abschluss innehabende Pe...</td>\n",
       "    </tr>\n",
       "    <tr>\n",
       "      <th>4</th>\n",
       "      <td>Abiturient</td>\n",
       "      <td>Abitur ablegende Person; Person, die Abitur macht</td>\n",
       "    </tr>\n",
       "    <tr>\n",
       "      <th>5</th>\n",
       "      <td>Abkömmling</td>\n",
       "      <td>abstammende Person; nachkommende Person; Kind;...</td>\n",
       "    </tr>\n",
       "  </tbody>\n",
       "</table>\n",
       "</div>"
      ],
      "text/plain": [
       "         ungendered                                           gendered\n",
       "1    Abbrecherquote                                       Abbruchquote\n",
       "2  Abenteurer (sg.)  Waghals; abenteuerliebende Person; abenteuerlu...\n",
       "3          Abgänger  absolvierende Person; Abschluss innehabende Pe...\n",
       "4        Abiturient  Abitur ablegende Person; Person, die Abitur macht\n",
       "5        Abkömmling  abstammende Person; nachkommende Person; Kind;..."
      ]
     },
     "execution_count": 6,
     "metadata": {},
     "output_type": "execute_result"
    }
   ],
   "source": [
    "df = df[df[\"gendered\"].notna()]\n",
    "df.head()"
   ]
  },
  {
   "cell_type": "markdown",
   "metadata": {},
   "source": [
    "Let's look at a more complicated row:"
   ]
  },
  {
   "cell_type": "code",
   "execution_count": 7,
   "metadata": {},
   "outputs": [
    {
     "data": {
      "text/plain": [
       "ungendered            Absolventenvorsprechen [Schauspielschule]\n",
       "gendered      Abschlussvorsprechen; <div class=\"tooltip\">Alu...\n",
       "Name: 13, dtype: object"
      ]
     },
     "execution_count": 7,
     "metadata": {},
     "output_type": "execute_result"
    }
   ],
   "source": [
    "df.loc[13]"
   ]
  },
  {
   "cell_type": "code",
   "execution_count": 8,
   "metadata": {},
   "outputs": [],
   "source": [
    "def clean(a):\n",
    "    a = re.sub(\" ?\\((sg|pl).?\\) ?\", \"\", a) # remove \"(pl.)\"\n",
    "    a = re.sub(\" ?\\.\\.\\. ?|…\", \"\", a) # remove \"...\"\n",
    "    a = re.sub(\" ?<[^>]*> ?\", \"\", a) # remove tags\n",
    "    a = re.sub(\"  \", \" \", a) # remove double spaces\n",
    "    a = re.sub(\"^ | $\", \"\", a) # remove trailing spaces\n",
    "    if re.match(\"^[A-ZÄÖÜ][a-zäöüß]+ende$\", a):\n",
    "        a = a[0].lower() + a[1:] + \" Person\"\n",
    "    return a"
   ]
  },
  {
   "cell_type": "code",
   "execution_count": 9,
   "metadata": {},
   "outputs": [],
   "source": [
    "records = df.to_records()\n",
    "\n",
    "dic: Dict[str, Dict[str, str]] = {\"any\": {}, \"sg\": {}, \"pl\": {}}\n",
    "i = 0\n",
    "for (_, ungendered, gendered) in records:\n",
    "    suggestions = gendered.split(\";\")\n",
    "    add_to_dict(clean(ungendered), [clean(s) for s in suggestions], dic[\"sg\"])\n",
    "    i += 1"
   ]
  },
  {
   "cell_type": "code",
   "execution_count": 10,
   "metadata": {},
   "outputs": [
    {
     "name": "stdout",
     "output_type": "stream",
     "text": [
      "#rules raw: 1859\n",
      "#rules after dropping NAs: 1833\n",
      "#rules after filtering too complicated: 1833\n"
     ]
    }
   ],
   "source": [
    "print(\"#rules raw:\", dflen)\n",
    "print(\"#rules after dropping NAs:\", len(df))\n",
    "print(\"#rules after filtering too complicated:\", i)"
   ]
  },
  {
   "cell_type": "markdown",
   "metadata": {},
   "source": [
    "We save this as CSV:"
   ]
  },
  {
   "cell_type": "code",
   "execution_count": 11,
   "metadata": {},
   "outputs": [],
   "source": [
    "dict_to_csvs(dic, \"geschicktgendern\")"
   ]
  },
  {
   "cell_type": "markdown",
   "metadata": {},
   "source": [
    "And we provide a method to parse the CSV to a dictionary again, so the file can be used easily in other scripts again:"
   ]
  },
  {
   "cell_type": "code",
   "execution_count": 12,
   "metadata": {},
   "outputs": [
    {
     "data": {
      "text/plain": [
       "[['(Deutscher / Welt-) Meister',\n",
       "  'Erster Platz der Deutschen Meisterschaft / Weltmeisterschaft',\n",
       "  '0'],\n",
       " ['(Deutscher / Welt-) Meister', 'Erstplatzierte', '0'],\n",
       " ['(Diplom-)Ingenieur', 'Person mit Ingenieursdiplom', '0'],\n",
       " ['(der) andere', 'Gegenüber', '0'],\n",
       " ['1000-Mann-Quote', '1000-Personen-Quote', '0']]"
      ]
     },
     "execution_count": 12,
     "metadata": {},
     "output_type": "execute_result"
    }
   ],
   "source": [
    "list_ = csvs_to_list(\"geschicktgendern\")\n",
    "list_[:5]"
   ]
  }
 ],
 "metadata": {
  "interpreter": {
   "hash": "f566310891052b77debb183af10cf167cb54a43894efa98362b5f88439dd0572"
  },
  "kernelspec": {
   "display_name": "Python 3.9.7 64-bit ('.venv': venv)",
   "name": "python3"
  },
  "language_info": {
   "codemirror_mode": {
    "name": "ipython",
    "version": 3
   },
   "file_extension": ".py",
   "mimetype": "text/x-python",
   "name": "python",
   "nbconvert_exporter": "python",
   "pygments_lexer": "ipython3",
   "version": "3.9.7"
  },
  "orig_nbformat": 4
 },
 "nbformat": 4,
 "nbformat_minor": 2
}
