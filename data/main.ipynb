{
 "cells": [
  {
   "cell_type": "markdown",
   "source": [
    "# Creating the rule set"
   ],
   "metadata": {}
  },
  {
   "cell_type": "code",
   "execution_count": 1,
   "source": [
    "from os import path\n",
    "from typing import *\n",
    "import re\n",
    "import subprocess\n",
    "import sys\n",
    "\n",
    "sys.path.insert(0, \"../..\")\n",
    "from copy_files import copy_files, languagetool_path\n",
    "from shared import add_to_dict, csvs_to_dict, dict_to_csvs, log\n",
    "from xmlify import rule_to_xml"
   ],
   "outputs": [],
   "metadata": {}
  },
  {
   "cell_type": "code",
   "execution_count": 2,
   "source": [
    "unified_dic: Dict[str, Dict[str, List[str]]] = {\"sg\": {}, \"pl\": {}, \"combined\": {}}\n",
    "\n",
    "files = {\n",
    "    \"dereko/dereko_unified\": [\"sg\", \"pl\"],\n",
    "    \"geschicktgendern/geschicktgendern\": [\"sg\", \"pl\"],\n",
    "    \"openthesaurus/openthesaurus_persons_male\": [\"sg\", \"pl\"],\n",
    "    \"vienna_catalog/vienna_catalog\": [\"sg\", \"pl\"],\n",
    "}\n",
    "dic = {}\n",
    "\n",
    "for file, numbers in files.items():\n",
    "    dic[file] = csvs_to_dict(file, numbers=numbers)\n",
    "    for n in numbers:\n",
    "        print(file, n, len(dic[file][n]))\n",
    "        for key, vals in dic[file][n].items():\n",
    "            add_to_dict(key, vals, unified_dic[n])\n",
    "            add_to_dict(key, vals, unified_dic[\"combined\"])\n",
    "\n",
    "\n",
    "sorted(list(unified_dic[\"sg\"].items()))[:10]"
   ],
   "outputs": [
    {
     "output_type": "stream",
     "name": "stdout",
     "text": [
      "dereko/dereko_unified sg 86\n",
      "dereko/dereko_unified pl 2748\n",
      "geschicktgendern/geschicktgendern sg 1185\n",
      "geschicktgendern/geschicktgendern pl 1241\n",
      "openthesaurus/openthesaurus_persons_male sg 3490\n",
      "openthesaurus/openthesaurus_persons_male pl 3490\n",
      "vienna_catalog/vienna_catalog sg 975\n",
      "vienna_catalog/vienna_catalog pl 1004\n"
     ]
    },
    {
     "output_type": "execute_result",
     "data": {
      "text/plain": [
       "[('AHS-Lehrer', ['AHS-Lehrerin bzw. AHS-Lehrer']),\n",
       " ('Aasgeier', []),\n",
       " ('Abbrecherquote', ['Abbruchquote']),\n",
       " ('Abdecker', []),\n",
       " ('Abenteurer',\n",
       "  ['Waghals',\n",
       "   'abenteuerliebende Person',\n",
       "   'abenteuerlustige Person',\n",
       "   'abenteuermutige Person',\n",
       "   'Abenteuermensch']),\n",
       " ('Abfallmanager', ['Abfallmanagerin und Abfallmanager']),\n",
       " ('Abgeordneter', []),\n",
       " ('Abgänger', ['absolvierende Person', 'Abschluss innehabende Person']),\n",
       " ('Abiturient', ['Abitur ablegende Person', 'Person, die Abitur macht']),\n",
       " ('Abkömmling',\n",
       "  ['abstammende Person',\n",
       "   'nachkommende Person',\n",
       "   'Kind',\n",
       "   'Kindeskind',\n",
       "   'Person gleicher Abstammung'])]"
      ]
     },
     "metadata": {},
     "execution_count": 2
    }
   ],
   "metadata": {}
  },
  {
   "cell_type": "markdown",
   "source": [
    "## Custom rules"
   ],
   "metadata": {}
  },
  {
   "cell_type": "markdown",
   "source": [
    "We add some custom rules that we have written ourselves, inspired in part by the _retext-equality_ data set. "
   ],
   "metadata": {}
  },
  {
   "cell_type": "code",
   "execution_count": 3,
   "source": [
    "custom_xml = open(path.join(\"retext-equality\", \"custom_rules_disability.xml\")).read()"
   ],
   "outputs": [],
   "metadata": {}
  },
  {
   "cell_type": "markdown",
   "source": [
    "## Conversion to proper LanguageTool XML format\n",
    "\n",
    "The LanguageTool rule format is described [over here](https://web.archive.org/web/20210910183442/https://dev.languagetool.org/development-overview) and [here](https://dev.languagetool.org/tips-and-tricks)."
   ],
   "metadata": {}
  },
  {
   "cell_type": "markdown",
   "source": [
    "We devise a function to convert a _geschickt gendern_ entry to a XML LanguageTool entry."
   ],
   "metadata": {}
  },
  {
   "cell_type": "code",
   "execution_count": 4,
   "source": [
    "unified_dic[\"pl\"][\"Angreifer\"]"
   ],
   "outputs": [
    {
     "output_type": "execute_result",
     "data": {
      "text/plain": [
       "['Angreifer*innen', 'Angreifende']"
      ]
     },
     "metadata": {},
     "execution_count": 4
    }
   ],
   "metadata": {}
  },
  {
   "cell_type": "code",
   "execution_count": 5,
   "source": [
    "print(rule_to_xml(\"Angreifer\", \"pl\", unified_dic[\"pl\"][\"Angreifer\"]))"
   ],
   "outputs": [
    {
     "output_type": "stream",
     "name": "stdout",
     "text": [
      "\n",
      "<rule id=\"Angreifer_pl\" name=\"Angreifer\">\n",
      "    <antipattern><token>Angreifer</token><token>*</token><token>innen</token></antipattern>\n",
      "\t\t<antipattern><token>Angreifende</token></antipattern>\n",
      "    <pattern><token inflected=\"yes\" postag=\".*:PLU:.*\" postag_regexp=\"yes\"><exception postag=\".*:SIN:.*\" postag_regexp=\"yes\" />Angreifer</token></pattern>\n",
      "    <suggestion>Angreifer*innen</suggestion>, <suggestion>Angreifende</suggestion>\n",
      "    <message>Der Stern wird in den letzten Jahren zunehmend verwendet. Besonders häufig findet man das Sternchen im Kontexten, in denen aufgrund aktuelle Transgender- und Intersexualitätsdebatten nicht von lediglich zwei Geschlechtern ausgegangen wird, Geschlecht also nicht mehr als ein binäre System verstanden wird. Mit dem Sternchen soll bewusst irritiert und die Möglichkeit weitere Kategorien angedeutet werden.</message>\n",
      "    <short>Die Bezeichnung \"Angreifer\" spricht nur männliche Leser an. Versuche alle Menschen anzusprechen.</short>\n",
      "    <example correction=\"Angreifer*innen|Angreifende\"><marker>Angreifer</marker></example>\n",
      "</rule>\n",
      "\n"
     ]
    }
   ],
   "metadata": {}
  },
  {
   "cell_type": "code",
   "execution_count": 6,
   "source": [
    "print(rule_to_xml(\"Angreifer\", \"both\", unified_dic[\"combined\"][\"Angreifer\"]))"
   ],
   "outputs": [
    {
     "output_type": "stream",
     "name": "stdout",
     "text": [
      "\n",
      "<rule id=\"Angreifer_both\" name=\"Angreifer\">\n",
      "    <antipattern><token>Angreifer</token><token>*</token><token>innen</token></antipattern>\n",
      "\t\t<antipattern><token>angreifende</token><token>Person</token></antipattern>\n",
      "\t\t<antipattern><token>Angreifende</token></antipattern>\n",
      "    <pattern><and>\n",
      "\t<token inflected=\"yes\" postag=\".*:SIN:.*\" postag_regexp=\"yes\">Angreifer</token>\n",
      "\t<token inflected=\"yes\" postag=\".*:PLU:.*\" postag_regexp=\"yes\">Angreifer</token>\n",
      "</and></pattern>\n",
      "    <suggestion>Angreifer*innen</suggestion>, <suggestion>angreifende Person</suggestion>, <suggestion>Angreifende</suggestion>\n",
      "    <message>Der Stern wird in den letzten Jahren zunehmend verwendet. Besonders häufig findet man das Sternchen im Kontexten, in denen aufgrund aktuelle Transgender- und Intersexualitätsdebatten nicht von lediglich zwei Geschlechtern ausgegangen wird, Geschlecht also nicht mehr als ein binäre System verstanden wird. Mit dem Sternchen soll bewusst irritiert und die Möglichkeit weitere Kategorien angedeutet werden.</message>\n",
      "    <short>Die Bezeichnung \"Angreifer\" spricht nur männliche Leser an. Versuche alle Menschen anzusprechen.</short>\n",
      "    <example correction=\"Angreifer*innen|Angreifende Person|Angreifende\"><marker>Angreifer</marker></example>\n",
      "</rule>\n",
      "\n"
     ]
    }
   ],
   "metadata": {}
  },
  {
   "cell_type": "code",
   "execution_count": 7,
   "source": [
    "xml = custom_xml\n",
    "for key, val in unified_dic[\"combined\"].items():\n",
    "    for number in [\"sg\", \"pl\"]:\n",
    "        if key in unified_dic[number].keys():\n",
    "            xml += rule_to_xml(key, number, unified_dic[number][key])\n",
    "    for number in [\"both\", \"unknown\"]:\n",
    "        xml += rule_to_xml(key, number, val)\n",
    "open(\"grammar_openminded.xml\", \"w\").write(xml)"
   ],
   "outputs": [
    {
     "output_type": "execute_result",
     "data": {
      "text/plain": [
       "26376775"
      ]
     },
     "metadata": {},
     "execution_count": 7
    }
   ],
   "metadata": {}
  },
  {
   "cell_type": "markdown",
   "source": [
    "## Injecting the rules to the existing LanguageTool rule file"
   ],
   "metadata": {}
  },
  {
   "cell_type": "code",
   "execution_count": null,
   "source": [
    "copy_files()"
   ],
   "outputs": [],
   "metadata": {}
  },
  {
   "cell_type": "markdown",
   "source": [
    "## Validating and using the rules"
   ],
   "metadata": {}
  },
  {
   "cell_type": "markdown",
   "source": [
    "Running the LanguageTool rule validation:"
   ],
   "metadata": {}
  },
  {
   "cell_type": "code",
   "execution_count": null,
   "source": [
    "# result = subprocess.run([\"./testrules.sh\", \"de\"], cwd=languagetool_path, capture_output=True)\n",
    "# stdout = result.stdout.decode(\"UTF-8\")\n",
    "# stderr = result.stderr.decode(\"UTF-8\")\n",
    "# open(\"rule_validation_stdout.log\", \"w\").write(stdout)\n",
    "# open(\"rule_validation_stderr.log\", \"w\").write(stderr)"
   ],
   "outputs": [],
   "metadata": {}
  },
  {
   "cell_type": "markdown",
   "source": [
    "Starting LanguageTool:"
   ],
   "metadata": {}
  },
  {
   "cell_type": "code",
   "execution_count": null,
   "source": [
    "# subprocess.run([\"java\", \"-jar\", path.join(languagetool_path, \"languagetool.jar\")])"
   ],
   "outputs": [],
   "metadata": {}
  },
  {
   "cell_type": "markdown",
   "source": [],
   "metadata": {}
  }
 ],
 "metadata": {
  "interpreter": {
   "hash": "95bedcfbd13951187b69ec62defd411ebf202d41ec39fb8571ad901e1b39c86f"
  },
  "kernelspec": {
   "name": "python3",
   "display_name": "Python 3.9.7 64-bit ('.venv': venv)"
  },
  "language_info": {
   "codemirror_mode": {
    "name": "ipython",
    "version": 3
   },
   "file_extension": ".py",
   "mimetype": "text/x-python",
   "name": "python",
   "nbconvert_exporter": "python",
   "pygments_lexer": "ipython3",
   "version": "3.9.7"
  }
 },
 "nbformat": 4,
 "nbformat_minor": 2
}