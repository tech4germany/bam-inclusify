{
 "cells": [
  {
   "cell_type": "markdown",
   "source": [
    "# Creating the rule set"
   ],
   "metadata": {}
  },
  {
   "cell_type": "code",
   "execution_count": 60,
   "source": [
    "from os import path\n",
    "from typing import *\n",
    "import re\n",
    "import subprocess\n",
    "import sys\n",
    "\n",
    "sys.path.insert(0, \"../..\")\n",
    "from copy_files import copy_files, languagetool_path\n",
    "from shared import add_to_dict, csvs_to_dict, dict_to_csvs, log"
   ],
   "outputs": [],
   "metadata": {}
  },
  {
   "cell_type": "code",
   "execution_count": 61,
   "source": [
    "def strip_spaces(a):\n",
    "    s = re.sub(\"  +|\\\"|'\", \" \", a)\n",
    "    a = re.sub(\"^ | $|[.,:;!?]\", \"\", a)\n",
    "    return a"
   ],
   "outputs": [],
   "metadata": {}
  },
  {
   "cell_type": "code",
   "execution_count": 62,
   "source": [
    "unified_dic: Dict[str, Dict[str, List[str]]] = {\"sg\": {}, \"pl\": {}, \"any\": {}}\n",
    "\n",
    "files = {\n",
    "    \"dereko/dereko_unified\": [\"sg\"],\n",
    "    \"geschicktgendern/geschicktgendern\": [\"sg\", \"pl\"],\n",
    "    \"openthesaurus/openthesaurus_persons_male\": [\"sg\"],\n",
    "    \"vienna_catalog/vienna_catalog\": [\"sg\", \"pl\"],\n",
    "}\n",
    "dic = {}\n",
    "\n",
    "for file, numbers in files.items():\n",
    "    dic[file] = csvs_to_dict(file, numbers=numbers)\n",
    "    for n in numbers:\n",
    "        print(file, n, len(dic[file][n]))\n",
    "        for key, vals in dic[file][n].items():\n",
    "            add_to_dict(key, vals, unified_dic[n])\n",
    "            add_to_dict(key, vals, unified_dic[\"any\"])\n",
    "\n",
    "\n",
    "sorted(list(unified_dic[\"sg\"].items()))[:10]"
   ],
   "outputs": [
    {
     "output_type": "stream",
     "name": "stdout",
     "text": [
      "dereko/dereko_unified sg 86\n",
      "geschicktgendern/geschicktgendern sg 1185\n",
      "geschicktgendern/geschicktgendern pl 1241\n",
      "openthesaurus/openthesaurus_persons_male sg 3490\n",
      "vienna_catalog/vienna_catalog sg 33\n",
      "vienna_catalog/vienna_catalog pl 449\n"
     ]
    },
    {
     "output_type": "execute_result",
     "data": {
      "text/plain": [
       "[('Aasgeier', []),\n",
       " ('Abbrecherquote', ['Abbruchquote']),\n",
       " ('Abdecker', []),\n",
       " ('Abenteurer',\n",
       "  ['Waghals',\n",
       "   'abenteuerliebende Person',\n",
       "   'abenteuerlustige Person',\n",
       "   'abenteuermutige Person',\n",
       "   'Abenteuermensch']),\n",
       " ('Abgeordneter', []),\n",
       " ('Abgänger', ['absolvierende Person', 'Abschluss innehabende Person']),\n",
       " ('Abiturient', ['Abitur ablegende Person', 'Person, die Abitur macht']),\n",
       " ('Abkömmling',\n",
       "  ['abstammende Person',\n",
       "   'nachkommende Person',\n",
       "   'Kind',\n",
       "   'Kindeskind',\n",
       "   'Person gleicher Abstammung']),\n",
       " ('Abnicker', []),\n",
       " ('Abonnent',\n",
       "  ['Bezugsperson',\n",
       "   'medienbeziehende Person',\n",
       "   'ein Abonnement beziehende Person'])]"
      ]
     },
     "metadata": {},
     "execution_count": 62
    }
   ],
   "metadata": {}
  },
  {
   "cell_type": "markdown",
   "source": [
    "## Custom rules"
   ],
   "metadata": {}
  },
  {
   "cell_type": "markdown",
   "source": [
    "We add some custom rules that we have written ourselves, inspired in part by the _retext-equality_ data set. "
   ],
   "metadata": {}
  },
  {
   "cell_type": "code",
   "execution_count": 63,
   "source": [
    "custom_xml = open(path.join(\"retext-equality\", \"custom_rules_disability.xml\")).read()"
   ],
   "outputs": [],
   "metadata": {}
  },
  {
   "cell_type": "markdown",
   "source": [
    "## Conversion to proper LanguageTool XML format\n",
    "\n",
    "The LanguageTool rule format is described [over here](https://web.archive.org/web/20210910183442/https://dev.languagetool.org/development-overview) and [here](https://dev.languagetool.org/tips-and-tricks)."
   ],
   "metadata": {}
  },
  {
   "cell_type": "markdown",
   "source": [
    "We devise a function to convert a _geschickt gendern_ entry to a XML LanguageTool entry."
   ],
   "metadata": {}
  },
  {
   "cell_type": "code",
   "execution_count": 64,
   "source": [
    "def startupper(s: str) -> str:\n",
    "    return s[0].capitalize() + s[1:]\n",
    "\n",
    "\n",
    "assert startupper(\"absolvierende Person\") == \"Absolvierende Person\""
   ],
   "outputs": [],
   "metadata": {}
  },
  {
   "cell_type": "code",
   "execution_count": 65,
   "source": [
    "def id(pattern, number):\n",
    "    id_ = re.sub(\"\\s\", \"_\", pattern + \"_\" + number)\n",
    "    return re.sub(\"[^A-ZÄÖÜa-zäöüß_]\", \"\", id_)"
   ],
   "outputs": [],
   "metadata": {}
  },
  {
   "cell_type": "code",
   "execution_count": 66,
   "source": [
    "def postag_attributes(number):\n",
    "    if number == \"any\":\n",
    "        return \"\"\n",
    "    elif number == \"sg\":\n",
    "        return 'postag=\".*:SIN:.*\" postag_regexp=\"yes\" '\n",
    "    elif number == \"pl\":\n",
    "        return 'postag=\".*:PLU:.*\" postag_regexp=\"yes\" '"
   ],
   "outputs": [],
   "metadata": {}
  },
  {
   "cell_type": "code",
   "execution_count": 67,
   "source": [
    "xml_template = \"\"\"\n",
    "    <rule id=\"{id}\" name=\"{pattern}\">\n",
    "        {antipatterns}\n",
    "        <pattern>{replaced_tokens}</pattern>\n",
    "        <message>Mit dem generischen Maskulinum werden nicht alle Geschlechter gleichermaßen assoziiert. Vielleicht passt einer der folgenden neutralen Begriffe besser: {suggestions}</message>\n",
    "        <short>Generisches Maskulinum</short>\n",
    "        <example correction=\"{corrections}\"><marker>{pattern}</marker></example>\n",
    "    </rule>\n",
    "    \"\"\""
   ],
   "outputs": [],
   "metadata": {}
  },
  {
   "cell_type": "code",
   "execution_count": 68,
   "source": [
    "def rule_to_xml(pattern: str, number: str, suggestions: List[str]) -> str:\n",
    "    replaced_tokens = \"\".join(\n",
    "        [\n",
    "            '<token inflected=\"yes\" {}>{}</token>'.format(\n",
    "                postag_attributes(number), token\n",
    "            )\n",
    "            for token in pattern.split(\" \")\n",
    "        ]\n",
    "    )\n",
    "    suggestions_ = \",\\n\\t\\t\".join(\n",
    "        [\"<suggestion>{}</suggestion>\".format(s) for s in suggestions]\n",
    "    )\n",
    "    antipatterns = \"\\n\\t\\t\".join(\n",
    "        [\n",
    "            \"<antipattern>\\n\\t\\t{}\\n\\t\\t</antipattern>\".format(\n",
    "                \"\\n\\t\\t\".join(\n",
    "                    [\n",
    "                        '<token inflected=\"yes\" {}>{}</token>'.format(\n",
    "                            postag_attributes(number), token\n",
    "                        )\n",
    "                        for token in re.findall(r\"\\w+|[.,:;*_·/]\", s)\n",
    "                    ]\n",
    "                )\n",
    "            )\n",
    "            for s in suggestions\n",
    "        ]\n",
    "    )\n",
    "    # Avoid that the \"any number\" rule is activated when the number is known:\n",
    "    antipatterns += (\n",
    "        \"<antipattern>\\n\\t\\t{}\\n\\t\\t</antipattern>\".format(\n",
    "            \"\\n\\t\\t\".join(\n",
    "                [\n",
    "                    '<token inflected=\"yes\" postag=\".*:(SIN|PLU):.*\" postag_regexp=\"yes\">{}</token>'.format(\n",
    "                        token\n",
    "                    )\n",
    "                    for token in pattern.split(\" \")\n",
    "                ]\n",
    "            )\n",
    "        )\n",
    "        if number == \"any\"\n",
    "        else \"\"\n",
    "    )\n",
    "    corrections = \"|\".join([startupper(s) for s in suggestions])\n",
    "    return xml_template.format(\n",
    "        id=id(pattern, number),\n",
    "        pattern=pattern,\n",
    "        antipatterns=antipatterns,\n",
    "        replaced_tokens=replaced_tokens,\n",
    "        suggestions=suggestions_,\n",
    "        corrections=corrections,\n",
    "    )"
   ],
   "outputs": [],
   "metadata": {}
  },
  {
   "cell_type": "code",
   "execution_count": 69,
   "source": [
    "print(rule_to_xml(\"Angreifer\", \"pl\", unified_dic[\"pl\"][\"Angreifer\"]))"
   ],
   "outputs": [
    {
     "output_type": "stream",
     "name": "stdout",
     "text": [
      "\n",
      "    <rule id=\"Angreifer_pl\" name=\"Angreifer\">\n",
      "        <antipattern>\n",
      "\t\t<token inflected=\"yes\" postag=\".*:PLU:.*\" postag_regexp=\"yes\" >Angreifende</token>\n",
      "\t\t</antipattern>\n",
      "        <pattern><token inflected=\"yes\" postag=\".*:PLU:.*\" postag_regexp=\"yes\" >Angreifer</token></pattern>\n",
      "        <message>Mit dem generischen Maskulinum werden nicht alle Geschlechter gleichermaßen assoziiert. Vielleicht passt einer der folgenden neutralen Begriffe besser: <suggestion>Angreifende</suggestion></message>\n",
      "        <short>Generisches Maskulinum</short>\n",
      "        <example correction=\"Angreifende\"><marker>Angreifer</marker></example>\n",
      "    </rule>\n",
      "    \n"
     ]
    }
   ],
   "metadata": {}
  },
  {
   "cell_type": "code",
   "execution_count": 70,
   "source": [
    "print(rule_to_xml(\"Angreifer\", \"any\", unified_dic[\"any\"][\"Angreifer\"]))"
   ],
   "outputs": [
    {
     "output_type": "stream",
     "name": "stdout",
     "text": [
      "\n",
      "    <rule id=\"Angreifer_any\" name=\"Angreifer\">\n",
      "        <antipattern>\n",
      "\t\t<token inflected=\"yes\" >angreifende</token>\n",
      "\t\t<token inflected=\"yes\" >Person</token>\n",
      "\t\t</antipattern>\n",
      "\t\t<antipattern>\n",
      "\t\t<token inflected=\"yes\" >Angreifende</token>\n",
      "\t\t</antipattern><antipattern>\n",
      "\t\t<token inflected=\"yes\" postag=\".*:(SIN|PLU):.*\" postag_regexp=\"yes\">Angreifer</token>\n",
      "\t\t</antipattern>\n",
      "        <pattern><token inflected=\"yes\" >Angreifer</token></pattern>\n",
      "        <message>Mit dem generischen Maskulinum werden nicht alle Geschlechter gleichermaßen assoziiert. Vielleicht passt einer der folgenden neutralen Begriffe besser: <suggestion>angreifende Person</suggestion>,\n",
      "\t\t<suggestion>Angreifende</suggestion></message>\n",
      "        <short>Generisches Maskulinum</short>\n",
      "        <example correction=\"Angreifende Person|Angreifende\"><marker>Angreifer</marker></example>\n",
      "    </rule>\n",
      "    \n"
     ]
    }
   ],
   "metadata": {}
  },
  {
   "cell_type": "code",
   "execution_count": 71,
   "source": [
    "xml = custom_xml\n",
    "for number in [\"sg\", \"pl\"]:\n",
    "    xml += \"\\n\\n\" + \"\".join(\n",
    "        [rule_to_xml(key, number, val) for key, val in unified_dic[number].items()]\n",
    "    )\n",
    "xml += \"\\n\\n\" + \"\".join(\n",
    "    [rule_to_xml(key, \"any\", val) for key, val in unified_dic[\"any\"].items()]\n",
    ")\n",
    "open(\"grammar_openminded.xml\", \"w\").write(xml)"
   ],
   "outputs": [
    {
     "output_type": "execute_result",
     "data": {
      "text/plain": [
       "7616603"
      ]
     },
     "metadata": {},
     "execution_count": 71
    }
   ],
   "metadata": {}
  },
  {
   "cell_type": "markdown",
   "source": [
    "## Injecting the rules to the existing LanguageTool rule file"
   ],
   "metadata": {}
  },
  {
   "cell_type": "code",
   "execution_count": 72,
   "source": [
    "copy_files()"
   ],
   "outputs": [],
   "metadata": {}
  },
  {
   "cell_type": "markdown",
   "source": [
    "## Validating and using the rules"
   ],
   "metadata": {}
  },
  {
   "cell_type": "markdown",
   "source": [
    "Running the LanguageTool rule validation:"
   ],
   "metadata": {}
  },
  {
   "cell_type": "code",
   "execution_count": 73,
   "source": [
    "# result = subprocess.run([\"./testrules.sh\", \"de\"], cwd=languagetool_path, capture_output=True)"
   ],
   "outputs": [],
   "metadata": {}
  },
  {
   "cell_type": "code",
   "execution_count": null,
   "source": [
    "# stdout = result.stdout.decode(\"UTF-8\")\n",
    "# stderr = result.stderr.decode(\"UTF-8\")\n",
    "# open(\"rule_validation_stdout.log\", \"w\").write(stdout)\n",
    "# open(\"rule_validation_stderr.log\", \"w\").write(stderr)"
   ],
   "outputs": [],
   "metadata": {}
  },
  {
   "cell_type": "markdown",
   "source": [
    "Starting LanguageTool:"
   ],
   "metadata": {}
  },
  {
   "cell_type": "code",
   "execution_count": null,
   "source": [
    "# subprocess.run([\"java\", \"-jar\", path.join(languagetool_path, \"languagetool.jar\")])"
   ],
   "outputs": [],
   "metadata": {}
  },
  {
   "cell_type": "markdown",
   "source": [],
   "metadata": {}
  }
 ],
 "metadata": {
  "interpreter": {
   "hash": "95bedcfbd13951187b69ec62defd411ebf202d41ec39fb8571ad901e1b39c86f"
  },
  "kernelspec": {
   "name": "python3",
   "display_name": "Python 3.9.7 64-bit ('.venv': venv)"
  },
  "language_info": {
   "codemirror_mode": {
    "name": "ipython",
    "version": 3
   },
   "file_extension": ".py",
   "mimetype": "text/x-python",
   "name": "python",
   "nbconvert_exporter": "python",
   "pygments_lexer": "ipython3",
   "version": "3.9.7"
  }
 },
 "nbformat": 4,
 "nbformat_minor": 2
}
